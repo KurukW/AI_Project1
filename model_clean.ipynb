{
 "cells": [
  {
   "cell_type": "markdown",
   "id": "respective-virus",
   "metadata": {},
   "source": [
    "# Modele de réseau neuronale"
   ]
  },
  {
   "cell_type": "markdown",
   "id": "minimal-manor",
   "metadata": {},
   "source": [
    "Toutes les étapes pour arriver à un modele correct"
   ]
  },
  {
   "cell_type": "markdown",
   "id": "alleged-gathering",
   "metadata": {},
   "source": [
    "## Imports"
   ]
  },
  {
   "cell_type": "code",
   "execution_count": 1,
   "id": "moved-scoop",
   "metadata": {},
   "outputs": [
    {
     "name": "stderr",
     "output_type": "stream",
     "text": [
      "In C:\\Users\\nicol\\anaconda3\\envs\\DL3\\lib\\site-packages\\matplotlib\\mpl-data\\stylelib\\_classic_test.mplstyle: \n",
      "The text.latex.preview rcparam was deprecated in Matplotlib 3.3 and will be removed two minor releases later.\n",
      "In C:\\Users\\nicol\\anaconda3\\envs\\DL3\\lib\\site-packages\\matplotlib\\mpl-data\\stylelib\\_classic_test.mplstyle: \n",
      "The mathtext.fallback_to_cm rcparam was deprecated in Matplotlib 3.3 and will be removed two minor releases later.\n",
      "In C:\\Users\\nicol\\anaconda3\\envs\\DL3\\lib\\site-packages\\matplotlib\\mpl-data\\stylelib\\_classic_test.mplstyle: Support for setting the 'mathtext.fallback_to_cm' rcParam is deprecated since 3.3 and will be removed two minor releases later; use 'mathtext.fallback : 'cm' instead.\n",
      "In C:\\Users\\nicol\\anaconda3\\envs\\DL3\\lib\\site-packages\\matplotlib\\mpl-data\\stylelib\\_classic_test.mplstyle: \n",
      "The validate_bool_maybe_none function was deprecated in Matplotlib 3.3 and will be removed two minor releases later.\n",
      "In C:\\Users\\nicol\\anaconda3\\envs\\DL3\\lib\\site-packages\\matplotlib\\mpl-data\\stylelib\\_classic_test.mplstyle: \n",
      "The savefig.jpeg_quality rcparam was deprecated in Matplotlib 3.3 and will be removed two minor releases later.\n",
      "In C:\\Users\\nicol\\anaconda3\\envs\\DL3\\lib\\site-packages\\matplotlib\\mpl-data\\stylelib\\_classic_test.mplstyle: \n",
      "The keymap.all_axes rcparam was deprecated in Matplotlib 3.3 and will be removed two minor releases later.\n",
      "In C:\\Users\\nicol\\anaconda3\\envs\\DL3\\lib\\site-packages\\matplotlib\\mpl-data\\stylelib\\_classic_test.mplstyle: \n",
      "The animation.avconv_path rcparam was deprecated in Matplotlib 3.3 and will be removed two minor releases later.\n",
      "In C:\\Users\\nicol\\anaconda3\\envs\\DL3\\lib\\site-packages\\matplotlib\\mpl-data\\stylelib\\_classic_test.mplstyle: \n",
      "The animation.avconv_args rcparam was deprecated in Matplotlib 3.3 and will be removed two minor releases later.\n"
     ]
    }
   ],
   "source": [
    "import matplotlib.pyplot as plt\n",
    "import cv2\n",
    "import numpy as np\n",
    "#import seaborn as sns #On ne sait jamais que ça serve\n",
    "import pandas as pd \n",
    "from sklearn.preprocessing import MinMaxScaler #Normalisation #Il faut l'installer aussi avec conda install\n",
    "import random\n",
    "\n",
    "\n",
    "import tensorflow as tf\n",
    "from tensorflow import keras\n",
    "from tensorflow.keras import layers, Sequential\n",
    "from tensorflow.keras.layers import  Dense, Conv3D, BatchNormalization,MaxPooling3D, Dropout, LSTM\n",
    "from tensorflow.keras.utils import to_categorical\n",
    "\n",
    "#conda install pydot\n",
    "#conda install pydotplus\n",
    "#conda install graphviz\n",
    "from tensorflow.keras.utils import plot_model\n",
    "#import pydot\n",
    "\n",
    "\n",
    "import threading\n",
    "from queue import Queue, Empty\n",
    "from time import sleep, time"
   ]
  },
  {
   "cell_type": "code",
   "execution_count": null,
   "id": "compliant-calculation",
   "metadata": {},
   "outputs": [],
   "source": []
  },
  {
   "cell_type": "markdown",
   "id": "dried-fellow",
   "metadata": {},
   "source": [
    "### Paramètres généraux"
   ]
  },
  {
   "cell_type": "code",
   "execution_count": 2,
   "id": "enormous-flexibility",
   "metadata": {},
   "outputs": [],
   "source": [
    "nb_classes = 10 #Nombre de classes\n",
    "fps = 8\n",
    "size = (40,30)\n",
    "#Parametres du generator\n",
    "pack_size = 50\n",
    "batch_size = 50\n",
    "epochs = 20\n",
    "learning_rate = 0.01"
   ]
  },
  {
   "cell_type": "code",
   "execution_count": 3,
   "id": "permanent-rates",
   "metadata": {},
   "outputs": [
    {
     "name": "stdout",
     "output_type": "stream",
     "text": [
      "Saved_model\\model_LSTM_8_30_40_10_20_50_50_10mili\n"
     ]
    }
   ],
   "source": [
    "#Verification qu'un modele avec ces paramètres n'existe pas déjà\n",
    "folder = 'Saved_model'\n",
    "modele_type = 'model_LSTM'\n",
    "param = f\"_{fps}_{size[1]}_{size[0]}_{nb_classes}_{epochs}_{batch_size}_{pack_size}_{int(learning_rate*1000)}mili\"\n",
    "full_name = folder + '\\\\' + modele_type + param\n",
    "print(full_name)"
   ]
  },
  {
   "cell_type": "code",
   "execution_count": 4,
   "id": "identical-wellington",
   "metadata": {},
   "outputs": [
    {
     "name": "stdout",
     "output_type": "stream",
     "text": [
      "Modele non testé\n"
     ]
    }
   ],
   "source": [
    "try:\n",
    "    model_saved = keras.models.load_model(full_name)\n",
    "    print(\"Pas besoin d'aller plus loin, le modele a déjà été fabriqué\")\n",
    "    model_charge = True\n",
    "except:\n",
    "    print(\"Modele non testé\")\n",
    "    model_charge = False"
   ]
  },
  {
   "cell_type": "markdown",
   "id": "appreciated-nudist",
   "metadata": {},
   "source": [
    "## Fonctions d'imports et preprocess"
   ]
  },
  {
   "cell_type": "markdown",
   "id": "female-philip",
   "metadata": {},
   "source": [
    "#### Import"
   ]
  },
  {
   "cell_type": "code",
   "execution_count": 5,
   "id": "utility-arrival",
   "metadata": {},
   "outputs": [],
   "source": [
    "def get_mov_imgs_from_path(path,fps = -1,color = 'gray'):\n",
    "    '''\n",
    "    Retourne une liste d'images pour une vidéo. La liste d'image a le nombre de fps voulu\n",
    "    reprend que le mouvement\n",
    "    '''\n",
    "    \n",
    "    cap = cv2.VideoCapture(path)\n",
    "    fps_actu = cap.get(cv2.CAP_PROP_FPS)\n",
    "#     print(f\"Traitement de la video n° {path}       \",end=\"\\r\")\n",
    "    if fps <= -1: fps = fps_actu #Je peux ne pas donner de fps et ça va prendre le nombre d'fps initial\n",
    "    ecart_voulu = int(1000/fps)\n",
    "    ecart_initial = int(1000/fps_actu)\n",
    "    imgs = []\n",
    "    \n",
    "    ret, frame = cap.read()\n",
    "    \n",
    "    while(cap.isOpened()):\n",
    "        prev = frame\n",
    "        ret, frame = cap.read()\n",
    "\n",
    "        if ret: #Sinon ça plante quand il n'y a plus d'images\n",
    "            #Récupère seulement certaines images\n",
    "            t_ms = cap.get(cv2.CAP_PROP_POS_MSEC)\n",
    "            modulo = t_ms % ecart_voulu\n",
    "            if modulo < ecart_initial:\n",
    "                #Isoler les images\n",
    "                \n",
    "                diff = cv2.absdiff(frame,prev)  \n",
    "                if color == 'gray':\n",
    "                    diff_gray = cv2.cvtColor(diff,cv2.COLOR_BGR2GRAY)\n",
    "                elif color == 'rgb':\n",
    "                    diff_gray = diff\n",
    "\n",
    "                    \n",
    "                #Première normalisation (elle n'est peut-être pas obligatoire)\n",
    "                max_ = np.max(diff_gray)\n",
    "                if max_ == 0:\n",
    "                    max_ = 1\n",
    "                ratio = 255.0 / max_\n",
    "                diff_gray = diff_gray * ratio\n",
    "                \n",
    "                \n",
    "                #On va travailler avec des images en nuance de gris, c'est bcp plus simple\n",
    "                imgs.append(diff_gray)\n",
    "            \n",
    "        else: #Va jusqu'au bout de la vidéo\n",
    "            break\n",
    "    else:\n",
    "        print(\"Le fichier n'a pas pu être ouvert\")\n",
    "    cap.release()\n",
    "    \n",
    "    return imgs"
   ]
  },
  {
   "cell_type": "markdown",
   "id": "disturbed-austin",
   "metadata": {},
   "source": [
    "#### Resize"
   ]
  },
  {
   "cell_type": "code",
   "execution_count": 6,
   "id": "warming-steps",
   "metadata": {},
   "outputs": [],
   "source": [
    "def resize_imgs(imgs,nsize):\n",
    "    '''\n",
    "    Change la taille de l'image.\n",
    "    Le premier élément de nsize est la longueur (width), le deuxième la hauteur (height)\n",
    "    '''\n",
    "    return [cv2.resize(img, dsize=nsize, interpolation=cv2.INTER_CUBIC) for img in imgs]"
   ]
  },
  {
   "cell_type": "markdown",
   "id": "flexible-qualification",
   "metadata": {},
   "source": [
    "#### Normalisation"
   ]
  },
  {
   "cell_type": "code",
   "execution_count": 7,
   "id": "rational-daniel",
   "metadata": {},
   "outputs": [],
   "source": [
    "def scale_by_pixels(img, x_min, x_max):\n",
    "    '''\n",
    "    Scale une image entre 0 et 1.\n",
    "    Méthode pas efficace mais fonctionnelle contrairement à d'autres méthodes \n",
    "    qui faisaient lignes par lignes ce qui causait des erreurs \n",
    "    dans le résultat (lignes dans l'image)\n",
    "    '''\n",
    "    new_img = img.copy()\n",
    "    p_min = 1000\n",
    "    p_max = -1000\n",
    "    for line in img:\n",
    "        for pixel in line:\n",
    "            p_min = min(p_min,pixel)\n",
    "            p_max = max(p_max,pixel)\n",
    "    \n",
    "    #p_min et p_max sont les min et max totaux de mon image\n",
    "    for l, line in enumerate(img):\n",
    "        for p,pixel in enumerate(line):\n",
    "            nom = (pixel - p_min)*(x_max - x_min)\n",
    "            denom = (p_max - p_min)\n",
    "            if denom == 0: denom = 1\n",
    "            new_img[l][p] = x_min + nom/denom\n",
    "    return new_img"
   ]
  },
  {
   "cell_type": "code",
   "execution_count": 8,
   "id": "productive-billion",
   "metadata": {},
   "outputs": [],
   "source": [
    "def normalize_imgs(imgs):\n",
    "    '''\n",
    "    Normalise une série d'images\n",
    "    '''\n",
    "    norm_imgs = []\n",
    "    for img in imgs:\n",
    "        norm_img = scale_by_pixels(img,0,1)\n",
    "        norm_imgs.append(norm_img)\n",
    "#     print(f\"Après normalisation, max = {np.max(norm_imgs)} et min = {np.min(norm_imgs)}\")\n",
    "    return norm_imgs"
   ]
  },
  {
   "cell_type": "code",
   "execution_count": null,
   "id": "congressional-infrared",
   "metadata": {},
   "outputs": [],
   "source": []
  },
  {
   "cell_type": "markdown",
   "id": "beginning-classic",
   "metadata": {},
   "source": [
    "## Fonction de générateur"
   ]
  },
  {
   "cell_type": "code",
   "execution_count": 9,
   "id": "alpine-namibia",
   "metadata": {},
   "outputs": [],
   "source": [
    "def my_gen(labels_list, folder_path, pack_size = 10, pointer = 0, fps = 5, size = (160,120)):\n",
    "    '''\n",
    "    à partir de la liste des labels et de la position du foler\n",
    "    Retourne:\n",
    "    -une liste d'images de vidéos de shape (pack_size,n_frames,height,width[,channels])\n",
    "        n_frames = fps*2.4\n",
    "    -Une liste de numérique avec les labels correspondant aux images (de len = batch_size)\n",
    "    -Un pointer qui permet de faire tourner my_gen à nouveau et recevoir les éléments suivants de la liste\n",
    "    \n",
    "    \n",
    "    Normalement on peut envoyer X et y_num dans le modele directement (avec fit ou train_on_batch, les deux devraient fonctionner)\n",
    "    Je vais essayer de travailler avec des thread pour avoir un thread en Train et un trhead en gen\n",
    "    '''\n",
    "    \n",
    "    y_num = []\n",
    "    X = []\n",
    "    for i in range(pointer, pack_size + pointer):\n",
    "        pointer = i+1\n",
    "        if i >= len(labels_list):\n",
    "            break\n",
    "        label, video_name = labels_list[i]\n",
    "        \n",
    "        #Label en numérique\n",
    "        y_num.append(labels_n[label])\n",
    "        \n",
    "        #Preprocess d'images\n",
    "        file_path = folder_path + \"\\\\\" + video_name\n",
    "        imgs_of_video = get_mov_imgs_from_path(file_path,fps,'gray') #Gray ou rgb\n",
    "        resized_imgs = resize_imgs(imgs_of_video, size)\n",
    "        norm_imgs = normalize_imgs(resized_imgs)\n",
    "        \n",
    "        X.append(norm_imgs)\n",
    "        \n",
    "    print() #Pour ne pas écrire sur la même ligne qu'avant\n",
    "    X = np.array(X)\n",
    "    y = np.array(y_num)\n",
    "    \n",
    "    #Ajouter une dimsension en à la fin est nécessaire pour certains modèle\n",
    "    #Commenter cette ligne si ce n'est pas nécessaire\n",
    "    X = np.expand_dims(X, axis=len(X.shape)) \n",
    "    \n",
    "    # Si le modele est compile avec :loss='sparse_categorical_crossentropy'\n",
    "    # Il faut un y catégorique , faire ça hors de la fonction\n",
    "    #y = to_categorical(y, num_classes = nb_classes)\n",
    "\n",
    "    return (X, y, pointer)"
   ]
  },
  {
   "cell_type": "code",
   "execution_count": 10,
   "id": "third-ocean",
   "metadata": {},
   "outputs": [],
   "source": [
    "def gen_thread(labels_list, folder_path, pack_size = 10, fps = 5, size = (160,120)):\n",
    "    '''\n",
    "    S'assure que my_gen tourne toujours en parallèle du fit. Il prépare toujours 2 paquets de vidéo en avance\n",
    "    '''\n",
    "    pointer = 0\n",
    "    while pointer < len(labels_list):\n",
    "        X,y,pointer = my_gen(labels_list, folder_path, pack_size, pointer, fps, size)\n",
    "        q.put((X,y))\n",
    "        print(f\"Pack of {pack_size} videos put in queue\")"
   ]
  },
  {
   "cell_type": "markdown",
   "id": "raised-easter",
   "metadata": {},
   "source": [
    "## Fabrication des modeles"
   ]
  },
  {
   "cell_type": "markdown",
   "id": "mathematical-function",
   "metadata": {},
   "source": [
    "#### Imports"
   ]
  },
  {
   "cell_type": "code",
   "execution_count": null,
   "id": "productive-sweden",
   "metadata": {},
   "outputs": [],
   "source": []
  },
  {
   "cell_type": "code",
   "execution_count": 11,
   "id": "great-tennessee",
   "metadata": {},
   "outputs": [],
   "source": [
    "def create_model(n_frames = 24, height = 120, width = 160, channels = 1, nb_classes = 10):\n",
    "    #Gestion du nombre de frames\n",
    "    #entre 12 et 24 frames, ça donne entre 3 et 6 images au LSTM, c'est très bien. \n",
    "    div_pool1 = 2\n",
    "    div_pool2 = 2\n",
    "    if n_frames < 12:\n",
    "        div_pool1 = 1\n",
    "    elif n_frames >= 36:\n",
    "        div_pool1 = 3\n",
    "    if n_frames < 6:\n",
    "        div_pool2 = 1\n",
    "    \n",
    "    \n",
    "    #Dernière couche avant reshape\n",
    "    last_channel = 10\n",
    "    \n",
    "    #Gestion de la hauteur et la width:\n",
    "    output_shape = int(height/27) * int(width/27) * last_channel\n",
    "    \n",
    "    #Divisé par 27 parce qu'on divise par 3, 3 fois (avec Maxpooling)\n",
    "\n",
    "    \n",
    "    sample_shape = (n_frames,height,width,channels) #width = 160, height = 120, nframes = 24, 3 channels si on est en RGB (si on est en gris on sait pas)\n",
    "    \n",
    "    model = Sequential()\n",
    "    \n",
    "    #model.add(Conv3D(128, strides =(1,1,1), padding=\"same\", kernel_size=(3, 3, 3), activation='relu', kernel_initializer='he_uniform', input_shape=sample_shape,data_format='channels_first'))\n",
    "    model.add(Conv3D(192, strides =(1,1,1), padding=\"same\", kernel_size=(3, 3, 3), activation='relu', kernel_initializer='he_uniform', input_shape=sample_shape,data_format='channels_last'))\n",
    "    model.add(Dense(128, activation='relu', kernel_initializer='he_uniform'))\n",
    "    model.add(BatchNormalization(center=True, scale=True))\n",
    "    model.add(Conv3D(96, strides=(1,1,1), padding=\"same\", kernel_size=(3, 3, 3), activation='relu', kernel_initializer='he_uniform'))\n",
    "    model.add(Dense(128, activation='relu', kernel_initializer='he_uniform'))\n",
    "    model.add(BatchNormalization(center=True, scale=True))\n",
    "    model.add(MaxPooling3D(pool_size=(div_pool1, 3, 3)))\n",
    "    model.add(Dropout(0.2))\n",
    "\n",
    "    model.add(Conv3D(96, strides=(1,1,1), padding=\"same\", kernel_size=(3, 3, 3), activation='relu', kernel_initializer='he_uniform'))\n",
    "    model.add(Dense(96, activation='relu', kernel_initializer='he_uniform'))\n",
    "    model.add(BatchNormalization(center=True, scale=True))\n",
    "    model.add(Conv3D(64, strides=(1,1,1), padding=\"same\", kernel_size=(3, 3, 3), activation='relu', kernel_initializer='he_uniform'))\n",
    "    model.add(Dense(64, activation='relu', kernel_initializer='he_uniform'))\n",
    "    model.add(BatchNormalization(center=True, scale=True))\n",
    "    model.add(MaxPooling3D(pool_size=(div_pool2, 3, 3)))\n",
    "    model.add(Dropout(0.2))\n",
    "\n",
    "    model.add(Conv3D(48, strides=(1,1,1), padding=\"same\", kernel_size=(3, 3, 3), activation='relu', kernel_initializer='he_uniform'))\n",
    "    model.add(Dense(48, activation='relu', kernel_initializer='he_uniform'))\n",
    "    model.add(BatchNormalization(center=True, scale=True))\n",
    "    model.add(Conv3D(32, strides=(1,1,1), padding=\"same\", kernel_size=(3, 3, 3), activation='relu', kernel_initializer='he_uniform'))\n",
    "    model.add(Dense(32, activation='relu', kernel_initializer='he_uniform'))\n",
    "    model.add(BatchNormalization(center=True, scale=True))\n",
    "    model.add(MaxPooling3D(pool_size=(3, 3, 3), data_format = 'channels_first')) #Je ne veux pas diviser le nombre d'images cette fois-ci\n",
    "    model.add(Dropout(0.2))\n",
    "\n",
    "    model.add(Conv3D(last_channel, strides=(1,1,1), padding=\"same\", kernel_size=(3, 3, 3), activation='relu', kernel_initializer='he_uniform'))\n",
    "    model.add(Dense(last_channel, activation='relu', kernel_initializer='he_uniform'))\n",
    "    model.add(BatchNormalization(center=True, scale=True))\n",
    "\n",
    "\n",
    "    model.add(layers.Reshape((int(n_frames/(div_pool1 * div_pool2)),output_shape)))\n",
    "\n",
    "\n",
    "    #LSTM\n",
    "    \n",
    "    model.add(LSTM(units = 64,activation=\"tanh\", recurrent_activation=\"sigmoid\",return_sequences = False))\n",
    "\n",
    "\n",
    "    #softmax\n",
    "    model.add(Dense(nb_classes, activation='softmax'))\n",
    "\n",
    "    return model"
   ]
  },
  {
   "cell_type": "code",
   "execution_count": 12,
   "id": "passing-diary",
   "metadata": {},
   "outputs": [
    {
     "name": "stdout",
     "output_type": "stream",
     "text": [
      "Pas de modele chargé, il faut en créer un nouveau\n"
     ]
    }
   ],
   "source": [
    "n_frames = int(fps*2.4)\n",
    "\n",
    "if model_charge:\n",
    "    print('Modele chargé')\n",
    "    model = model_saved\n",
    "else:\n",
    "    print(\"Pas de modele chargé, il faut en créer un nouveau\")\n",
    "    model = create_model(n_frames = n_frames, height = size[1], width = size[0], nb_classes = nb_classes)"
   ]
  },
  {
   "cell_type": "code",
   "execution_count": 13,
   "id": "national-organic",
   "metadata": {},
   "outputs": [],
   "source": [
    "# model.summary()"
   ]
  },
  {
   "cell_type": "code",
   "execution_count": 14,
   "id": "focused-personal",
   "metadata": {},
   "outputs": [],
   "source": [
    "plot_name = full_name + '_plot.png'\n",
    "# plot_model(model, to_file = plot_name, show_shapes=True, show_layer_names=True)"
   ]
  },
  {
   "cell_type": "code",
   "execution_count": 15,
   "id": "headed-middle",
   "metadata": {},
   "outputs": [],
   "source": [
    "#Compilation\n",
    "model.compile(optimizer=tf.keras.optimizers.Adam(lr=learning_rate),\n",
    "              loss = tf.keras.losses.categorical_crossentropy,\n",
    "              metrics=['accuracy'])"
   ]
  },
  {
   "cell_type": "markdown",
   "id": "boxed-brazil",
   "metadata": {},
   "source": [
    "##### Chargement d'un modele préentrainé (par nous même)"
   ]
  },
  {
   "cell_type": "code",
   "execution_count": 16,
   "id": "ecological-terrorism",
   "metadata": {},
   "outputs": [],
   "source": [
    "#model_stolen_saved = keras.models.load_model('Saved_model\\\\modele_stolen_compile')"
   ]
  },
  {
   "cell_type": "code",
   "execution_count": null,
   "id": "alpine-mauritius",
   "metadata": {},
   "outputs": [],
   "source": []
  },
  {
   "cell_type": "markdown",
   "id": "selected-necklace",
   "metadata": {},
   "source": [
    "## Generator"
   ]
  },
  {
   "cell_type": "code",
   "execution_count": 17,
   "id": "lesbian-forum",
   "metadata": {},
   "outputs": [],
   "source": [
    "def homemade_fit_gen_thread(model, labels_val,pack_size,epochs,batch_size,fps = 5,size = (160,120)):\n",
    "    '''\n",
    "    Charge les données à partir du csv labels_val et train le model avec\n",
    "    les différents paramètres\n",
    "    Le model est train.\n",
    "    \n",
    "    Si besoin, return de X,y et model (mais normalement le model original est train)\n",
    "    '''\n",
    "#     q = Queue()\n",
    "    \n",
    "    histories = []\n",
    "    \n",
    "    t = threading.Thread(target = gen_thread, daemon = True,#Daemon afin que le thread s'arrête avec le thread principal\n",
    "                        args = ((labels_val, \"DATA\\\\Videos\",pack_size,fps, size))) \n",
    "    t.start()\n",
    "    while True:\n",
    "        X, y_num = q.get()\n",
    "        print(\"I got the pack! I'm going to fit it\")\n",
    "        print()\n",
    "        #Catégorisation pour train\n",
    "        y = to_categorical(y_num, num_classes = nb_classes)\n",
    "        \n",
    "        model.train_on_batch(X,y)\n",
    "#         history = model.fit(X, y,\n",
    "#                 batch_size = batch_size,\n",
    "#                 epochs=epochs,\n",
    "#                 verbose=1,\n",
    "#                 validation_split=0.2)\n",
    "        #histories.append(history)\n",
    "        \n",
    "        q.task_done() #Jsp si c'est utile\n",
    "        \n",
    "        #Il faut que le fit prenne plus de temps que le chargement des vidéos, sinon ça va pas aller\n",
    "        \n",
    "        if q.empty():\n",
    "            print(\"J'ai peut-être fini, j'attends encore qq sec pour être sur d'avoir bien fini\")\n",
    "            sleep(2) #Je m'assure que c'est vraiment bien fini\n",
    "            if q.empty():\n",
    "                print(\"J'ai vraiment fini\")\n",
    "                break\n",
    "            else:\n",
    "                print(\"Je n'avais pas fini en fait\")\n",
    "    \n",
    "    t.join()\n",
    "    \n",
    "    del X\n",
    "    del y\n",
    "    del y_num\n",
    "    \n",
    "    return model, histories"
   ]
  },
  {
   "cell_type": "code",
   "execution_count": 18,
   "id": "geological-fortune",
   "metadata": {},
   "outputs": [],
   "source": [
    "def homemade_fit_gen(model, labels_val,pack_size,epochs,batch_size,fps = 5,size = (160,120)):\n",
    "    '''\n",
    "    Charge les données à partir du csv labels_val et train le model avec\n",
    "    les différents paramètres\n",
    "    Le model est train.\n",
    "    \n",
    "    my_gen et fit tournent en parallèle grâce à un thread\n",
    "    Si besoin, return de X,y et model (mais normalement le model original est train)\n",
    "    '''\n",
    "    \n",
    "    histories = []\n",
    "    \n",
    "    pointer = 0\n",
    "    can_continue = True\n",
    "    \n",
    "    while can_continue:\n",
    "        X, y_num, pointer = my_gen(labels_val, \"DATA\\\\Videos\",pack_size = pack_size,fps = fps, size = size, pointer = pointer)\n",
    "        \n",
    "        #Catégorisation pour train\n",
    "        y = to_categorical(y_num, num_classes = nb_classes)\n",
    "        \n",
    "        if pointer >= len(labels_val):\n",
    "            can_continue = False\n",
    "        print()\n",
    "\n",
    "        #print('vidéos chargées, shape:',X.shape,'. y len : ',len(y_num)) #DEBUG\n",
    "        with tf.device('cpu:0'):\n",
    "            history = model.fit(X, y,\n",
    "                    batch_size = batch_size,\n",
    "                    epochs=epochs,\n",
    "                    verbose=1,\n",
    "                    validation_split=0.2)\n",
    "            histories.append(history)\n",
    "        \n",
    "    del X\n",
    "    del y\n",
    "    del y_num    \n",
    "    return model, histories"
   ]
  },
  {
   "cell_type": "markdown",
   "id": "forty-notice",
   "metadata": {},
   "source": [
    "## Import des données et traitement"
   ]
  },
  {
   "cell_type": "code",
   "execution_count": 19,
   "id": "casual-bread",
   "metadata": {},
   "outputs": [],
   "source": [
    "#Import des labels\n",
    "labels_csv = pd.read_csv(\"DATA\\\\labels.csv\")\n",
    "labels_name = pd.read_csv(\"DATA\\\\labels_uses.csv\")\n",
    "labels_tests_csv = pd.read_csv(\"DATA\\\\labels_tests.csv\")"
   ]
  },
  {
   "cell_type": "code",
   "execution_count": 20,
   "id": "diverse-binary",
   "metadata": {},
   "outputs": [],
   "source": [
    "#Créé un dictionnaire qui associe le nom du label et un numérique afin de le mettre dans le modele\n",
    "labels_n = {}\n",
    "for i,label in enumerate(labels_name.values):\n",
    "    labels_n[label[0]] = i\n",
    "    labels_n[i] = label[0]\n",
    "\n",
    "    \n",
    "#Trier les labels pour ne prendre que ceux qui correspondent à labels_uses\n",
    "labels = []\n",
    "for label, video_name in labels_csv.values:\n",
    "    if label in labels_n:\n",
    "        labels.append((label,video_name))\n",
    "        \n",
    "#Idem pour le label de tests\n",
    "labels_tests = []\n",
    "for label, video_name in labels_tests_csv.values:\n",
    "    if label in labels_n:\n",
    "        labels_tests.append((label,video_name))\n",
    "\n",
    "\n",
    "#Melange la liste de train\n",
    "random.shuffle(labels) #Il faut absolument shuffle pour train\n",
    "\n"
   ]
  },
  {
   "cell_type": "code",
   "execution_count": 21,
   "id": "presidential-barrier",
   "metadata": {},
   "outputs": [
    {
     "name": "stdout",
     "output_type": "stream",
     "text": [
      "{'Ferme le poing': 53, 'Ouvre le poing': 56, 'Clap': 51, 'Swipe gauche main droite': 45, 'Swipe droit main gauche': 46, 'Doigts croises paumes': 47, 'Explosion avec les doigts ouverts': 49, 'Ouvrir un livre avec le poing ferme main D': 40, 'Ouvrir un livre avec le poing ferme main G': 35, 'Faire coucou': 62}\n"
     ]
    }
   ],
   "source": [
    "#Count de chaque label\n",
    "labels_c = {}\n",
    "for label in labels_name.values:\n",
    "    labels_c[label[0]] = 0\n",
    "\n",
    "for label,video_name in labels:\n",
    "    if label in labels_c:\n",
    "        labels_c[label] += 1\n",
    "\n",
    "print(labels_c)"
   ]
  },
  {
   "cell_type": "markdown",
   "id": "material-columbia",
   "metadata": {},
   "source": [
    "## Train"
   ]
  },
  {
   "cell_type": "code",
   "execution_count": 22,
   "id": "damaged-amount",
   "metadata": {},
   "outputs": [],
   "source": [
    "q = Queue(maxsize = 3) #Variable globale nécessaire pour le bon fonctionnement du gen en thread"
   ]
  },
  {
   "cell_type": "code",
   "execution_count": 23,
   "id": "prescription-anger",
   "metadata": {},
   "outputs": [
    {
     "name": "stdout",
     "output_type": "stream",
     "text": [
      "Il faut entrainer le modele\n",
      "\n",
      "\n",
      "Epoch 1/20\n",
      "1/1 [==============================] - 51s 51s/step - loss: 2.2950 - accuracy: 0.1250 - val_loss: 2.5106 - val_accuracy: 0.0000e+00\n",
      "Epoch 2/20\n",
      "1/1 [==============================] - 48s 48s/step - loss: 2.2799 - accuracy: 0.1500 - val_loss: 2.6424 - val_accuracy: 0.1000\n",
      "Epoch 3/20\n",
      "1/1 [==============================] - 47s 47s/step - loss: 2.2204 - accuracy: 0.2500 - val_loss: 2.4648 - val_accuracy: 0.1000\n",
      "Epoch 4/20\n",
      "1/1 [==============================] - 47s 47s/step - loss: 2.1345 - accuracy: 0.2500 - val_loss: 2.3541 - val_accuracy: 0.1000\n",
      "Epoch 5/20\n",
      "1/1 [==============================] - 47s 47s/step - loss: 2.0897 - accuracy: 0.2750 - val_loss: 2.5275 - val_accuracy: 0.0000e+00\n",
      "Epoch 6/20\n",
      "1/1 [==============================] - 47s 47s/step - loss: 1.9582 - accuracy: 0.3000 - val_loss: 2.6694 - val_accuracy: 0.0000e+00\n",
      "Epoch 7/20\n",
      "1/1 [==============================] - 47s 47s/step - loss: 1.8249 - accuracy: 0.3750 - val_loss: 2.8566 - val_accuracy: 0.1000\n",
      "Epoch 8/20\n",
      "1/1 [==============================] - 47s 47s/step - loss: 1.6825 - accuracy: 0.4000 - val_loss: 2.7661 - val_accuracy: 0.1000\n",
      "Epoch 9/20\n",
      "1/1 [==============================] - 48s 48s/step - loss: 1.5550 - accuracy: 0.4250 - val_loss: 2.7282 - val_accuracy: 0.1000\n",
      "Epoch 10/20\n",
      "1/1 [==============================] - 48s 48s/step - loss: 1.4274 - accuracy: 0.5250 - val_loss: 2.8389 - val_accuracy: 0.1000\n",
      "Epoch 11/20\n",
      "1/1 [==============================] - 47s 47s/step - loss: 1.2962 - accuracy: 0.4750 - val_loss: 2.8312 - val_accuracy: 0.1000\n",
      "Epoch 12/20\n",
      "1/1 [==============================] - 47s 47s/step - loss: 1.2817 - accuracy: 0.5250 - val_loss: 2.7397 - val_accuracy: 0.1000\n",
      "Epoch 13/20\n",
      "1/1 [==============================] - 47s 47s/step - loss: 1.2087 - accuracy: 0.5750 - val_loss: 2.7625 - val_accuracy: 0.1000\n",
      "Epoch 14/20\n",
      "1/1 [==============================] - 48s 48s/step - loss: 1.1665 - accuracy: 0.6250 - val_loss: 2.9836 - val_accuracy: 0.1000\n",
      "Epoch 15/20\n",
      "1/1 [==============================] - 48s 48s/step - loss: 0.8368 - accuracy: 0.7750 - val_loss: 3.5323 - val_accuracy: 0.1000\n",
      "Epoch 16/20\n",
      "1/1 [==============================] - 47s 47s/step - loss: 1.0933 - accuracy: 0.6500 - val_loss: 3.9165 - val_accuracy: 0.0000e+00\n",
      "Epoch 17/20\n",
      "1/1 [==============================] - 47s 47s/step - loss: 0.7835 - accuracy: 0.7750 - val_loss: 3.9609 - val_accuracy: 0.0000e+00\n",
      "Epoch 18/20\n",
      "1/1 [==============================] - 47s 47s/step - loss: 0.8389 - accuracy: 0.7500 - val_loss: 3.9408 - val_accuracy: 0.0000e+00\n",
      "Epoch 19/20\n",
      "1/1 [==============================] - 47s 47s/step - loss: 0.6225 - accuracy: 0.8500 - val_loss: 3.9947 - val_accuracy: 0.0000e+00\n",
      "Epoch 20/20\n",
      "1/1 [==============================] - 47s 47s/step - loss: 0.7322 - accuracy: 0.7250 - val_loss: 4.1033 - val_accuracy: 0.1000\n",
      "\n",
      "\n",
      "Epoch 1/20\n",
      "1/1 [==============================] - 47s 47s/step - loss: 3.7605 - accuracy: 0.2250 - val_loss: 3.1704 - val_accuracy: 0.0000e+00\n",
      "Epoch 2/20\n",
      "1/1 [==============================] - 47s 47s/step - loss: 2.8961 - accuracy: 0.2500 - val_loss: 2.9795 - val_accuracy: 0.0000e+00\n",
      "Epoch 3/20\n",
      "1/1 [==============================] - 47s 47s/step - loss: 2.1161 - accuracy: 0.3500 - val_loss: 2.9434 - val_accuracy: 0.0000e+00\n",
      "Epoch 4/20\n",
      "1/1 [==============================] - 47s 47s/step - loss: 1.4977 - accuracy: 0.5000 - val_loss: 2.6288 - val_accuracy: 0.0000e+00\n",
      "Epoch 5/20\n",
      "1/1 [==============================] - 47s 47s/step - loss: 1.3390 - accuracy: 0.5750 - val_loss: 2.6272 - val_accuracy: 0.0000e+00\n",
      "Epoch 6/20\n",
      "1/1 [==============================] - 47s 47s/step - loss: 1.1557 - accuracy: 0.6750 - val_loss: 2.6155 - val_accuracy: 0.0000e+00\n",
      "Epoch 7/20\n",
      "1/1 [==============================] - 47s 47s/step - loss: 1.1508 - accuracy: 0.5500 - val_loss: 2.6033 - val_accuracy: 0.0000e+00\n",
      "Epoch 8/20\n",
      "1/1 [==============================] - 46s 46s/step - loss: 1.1238 - accuracy: 0.5000 - val_loss: 2.5912 - val_accuracy: 0.0000e+00\n",
      "Epoch 9/20\n",
      "1/1 [==============================] - 47s 47s/step - loss: 1.0220 - accuracy: 0.6250 - val_loss: 2.5774 - val_accuracy: 0.0000e+00\n",
      "Epoch 10/20\n",
      "1/1 [==============================] - 49s 49s/step - loss: 0.9409 - accuracy: 0.7000 - val_loss: 2.5793 - val_accuracy: 0.0000e+00\n",
      "Epoch 11/20\n",
      "1/1 [==============================] - 48s 48s/step - loss: 0.7683 - accuracy: 0.8000 - val_loss: 2.5441 - val_accuracy: 0.0000e+00\n",
      "Epoch 12/20\n",
      "1/1 [==============================] - 47s 47s/step - loss: 0.7894 - accuracy: 0.6750 - val_loss: 2.5424 - val_accuracy: 0.0000e+00\n",
      "Epoch 13/20\n",
      "1/1 [==============================] - 48s 48s/step - loss: 0.6652 - accuracy: 0.7250 - val_loss: 2.7333 - val_accuracy: 0.0000e+00\n",
      "Epoch 14/20\n",
      "1/1 [==============================] - 48s 48s/step - loss: 0.8166 - accuracy: 0.7500 - val_loss: 2.9712 - val_accuracy: 0.0000e+00\n",
      "Epoch 15/20\n",
      "1/1 [==============================] - 47s 47s/step - loss: 0.5384 - accuracy: 0.8500 - val_loss: 3.0064 - val_accuracy: 0.0000e+00\n",
      "Epoch 16/20\n",
      "1/1 [==============================] - 48s 48s/step - loss: 0.6304 - accuracy: 0.7750 - val_loss: 3.1641 - val_accuracy: 0.0000e+00\n",
      "Epoch 17/20\n",
      "1/1 [==============================] - 48s 48s/step - loss: 0.5225 - accuracy: 0.8250 - val_loss: 3.2019 - val_accuracy: 0.0000e+00\n",
      "Epoch 18/20\n",
      "1/1 [==============================] - 47s 47s/step - loss: 0.4756 - accuracy: 0.8750 - val_loss: 3.2190 - val_accuracy: 0.0000e+00\n",
      "Epoch 19/20\n",
      "1/1 [==============================] - 48s 48s/step - loss: 0.4023 - accuracy: 0.9250 - val_loss: 3.1758 - val_accuracy: 0.0000e+00\n",
      "Epoch 20/20\n",
      "1/1 [==============================] - 48s 48s/step - loss: 0.4402 - accuracy: 0.8500 - val_loss: 3.1821 - val_accuracy: 0.0000e+00\n",
      "\n",
      "\n",
      "Epoch 1/20\n",
      "1/1 [==============================] - 47s 47s/step - loss: 4.2021 - accuracy: 0.1500 - val_loss: 3.1764 - val_accuracy: 0.2000\n",
      "Epoch 2/20\n",
      "1/1 [==============================] - 48s 48s/step - loss: 3.1606 - accuracy: 0.2750 - val_loss: 3.1474 - val_accuracy: 0.1000\n",
      "Epoch 3/20\n",
      "1/1 [==============================] - 47s 47s/step - loss: 2.4315 - accuracy: 0.3500 - val_loss: 3.6236 - val_accuracy: 0.0000e+00\n",
      "Epoch 4/20\n",
      "1/1 [==============================] - 48s 48s/step - loss: 2.0382 - accuracy: 0.3250 - val_loss: 4.0983 - val_accuracy: 0.0000e+00\n",
      "Epoch 5/20\n",
      "1/1 [==============================] - 49s 49s/step - loss: 1.9077 - accuracy: 0.3500 - val_loss: 3.7415 - val_accuracy: 0.0000e+00\n",
      "Epoch 6/20\n",
      "1/1 [==============================] - 48s 48s/step - loss: 1.6859 - accuracy: 0.4250 - val_loss: 3.7132 - val_accuracy: 0.0000e+00\n",
      "Epoch 7/20\n",
      "1/1 [==============================] - 47s 47s/step - loss: 1.4345 - accuracy: 0.5500 - val_loss: 3.5658 - val_accuracy: 0.0000e+00\n",
      "Epoch 8/20\n",
      "1/1 [==============================] - 49s 49s/step - loss: 1.2935 - accuracy: 0.5250 - val_loss: 3.4657 - val_accuracy: 0.0000e+00\n",
      "Epoch 9/20\n",
      "1/1 [==============================] - 49s 49s/step - loss: 1.2264 - accuracy: 0.6750 - val_loss: 3.3034 - val_accuracy: 0.1000\n",
      "Epoch 10/20\n",
      "1/1 [==============================] - 48s 48s/step - loss: 1.1001 - accuracy: 0.5750 - val_loss: 3.2459 - val_accuracy: 0.1000\n",
      "Epoch 11/20\n",
      "1/1 [==============================] - 49s 49s/step - loss: 0.9179 - accuracy: 0.7250 - val_loss: 3.2439 - val_accuracy: 0.1000\n",
      "Epoch 12/20\n",
      "1/1 [==============================] - 48s 48s/step - loss: 0.9592 - accuracy: 0.6750 - val_loss: 3.1663 - val_accuracy: 0.3000\n",
      "Epoch 13/20\n",
      "1/1 [==============================] - 47s 47s/step - loss: 0.8470 - accuracy: 0.7000 - val_loss: 3.1003 - val_accuracy: 0.2000\n",
      "Epoch 14/20\n",
      "1/1 [==============================] - 48s 48s/step - loss: 0.8610 - accuracy: 0.7000 - val_loss: 3.0867 - val_accuracy: 0.2000\n",
      "Epoch 15/20\n",
      "1/1 [==============================] - 50s 50s/step - loss: 0.6361 - accuracy: 0.7750 - val_loss: 3.1201 - val_accuracy: 0.2000\n",
      "Epoch 16/20\n",
      "1/1 [==============================] - 49s 49s/step - loss: 0.6484 - accuracy: 0.7750 - val_loss: 3.1702 - val_accuracy: 0.2000\n",
      "Epoch 17/20\n",
      "1/1 [==============================] - 49s 49s/step - loss: 0.5876 - accuracy: 0.8250 - val_loss: 3.1794 - val_accuracy: 0.2000\n",
      "Epoch 18/20\n",
      "1/1 [==============================] - 49s 49s/step - loss: 0.4326 - accuracy: 0.9500 - val_loss: 3.1740 - val_accuracy: 0.2000\n",
      "Epoch 19/20\n",
      "1/1 [==============================] - 49s 49s/step - loss: 0.5032 - accuracy: 0.8500 - val_loss: 3.1941 - val_accuracy: 0.2000\n",
      "Epoch 20/20\n",
      "1/1 [==============================] - 54s 54s/step - loss: 0.4723 - accuracy: 0.9250 - val_loss: 3.2202 - val_accuracy: 0.2000\n",
      "\n",
      "\n",
      "Epoch 1/20\n",
      "1/1 [==============================] - 54s 54s/step - loss: 2.4439 - accuracy: 0.3750 - val_loss: 2.4409 - val_accuracy: 0.0000e+00\n",
      "Epoch 2/20\n",
      "1/1 [==============================] - 52s 52s/step - loss: 2.1114 - accuracy: 0.4250 - val_loss: 2.4741 - val_accuracy: 0.0000e+00\n",
      "Epoch 3/20\n",
      "1/1 [==============================] - 53s 53s/step - loss: 1.9204 - accuracy: 0.4750 - val_loss: 2.4676 - val_accuracy: 0.0000e+00\n",
      "Epoch 4/20\n",
      "1/1 [==============================] - 52s 52s/step - loss: 1.3717 - accuracy: 0.5500 - val_loss: 2.5150 - val_accuracy: 0.0000e+00\n",
      "Epoch 5/20\n",
      "1/1 [==============================] - 52s 52s/step - loss: 1.0978 - accuracy: 0.7000 - val_loss: 2.5677 - val_accuracy: 0.0000e+00\n",
      "Epoch 6/20\n",
      "1/1 [==============================] - 54s 54s/step - loss: 1.1305 - accuracy: 0.7250 - val_loss: 2.6063 - val_accuracy: 0.0000e+00\n",
      "Epoch 7/20\n",
      "1/1 [==============================] - 52s 52s/step - loss: 0.9643 - accuracy: 0.7250 - val_loss: 2.5777 - val_accuracy: 0.0000e+00\n",
      "Epoch 8/20\n",
      "1/1 [==============================] - 54s 54s/step - loss: 0.7343 - accuracy: 0.8250 - val_loss: 2.6205 - val_accuracy: 0.0000e+00\n",
      "Epoch 9/20\n",
      "1/1 [==============================] - 53s 53s/step - loss: 0.8054 - accuracy: 0.7000 - val_loss: 2.6739 - val_accuracy: 0.1000\n",
      "Epoch 10/20\n",
      "1/1 [==============================] - 53s 53s/step - loss: 0.6428 - accuracy: 0.8250 - val_loss: 2.6203 - val_accuracy: 0.2000\n",
      "Epoch 11/20\n",
      "1/1 [==============================] - 54s 54s/step - loss: 0.5232 - accuracy: 0.9000 - val_loss: 2.7258 - val_accuracy: 0.5000\n",
      "Epoch 12/20\n",
      "1/1 [==============================] - 53s 53s/step - loss: 0.5626 - accuracy: 0.8250 - val_loss: 2.7718 - val_accuracy: 0.4000\n",
      "Epoch 13/20\n",
      "1/1 [==============================] - 53s 53s/step - loss: 0.5511 - accuracy: 0.8750 - val_loss: 2.7667 - val_accuracy: 0.4000\n",
      "Epoch 14/20\n",
      "1/1 [==============================] - 52s 52s/step - loss: 0.3969 - accuracy: 0.9000 - val_loss: 2.8532 - val_accuracy: 0.4000\n",
      "Epoch 15/20\n",
      "1/1 [==============================] - 52s 52s/step - loss: 0.5092 - accuracy: 0.8500 - val_loss: 2.9384 - val_accuracy: 0.4000\n",
      "Epoch 16/20\n",
      "1/1 [==============================] - 52s 52s/step - loss: 0.4216 - accuracy: 0.9000 - val_loss: 2.9785 - val_accuracy: 0.3000\n",
      "Epoch 17/20\n",
      "1/1 [==============================] - 51s 51s/step - loss: 0.2205 - accuracy: 0.9500 - val_loss: 2.9763 - val_accuracy: 0.3000\n",
      "Epoch 18/20\n",
      "1/1 [==============================] - 52s 52s/step - loss: 0.2614 - accuracy: 0.9250 - val_loss: 3.0175 - val_accuracy: 0.4000\n",
      "Epoch 19/20\n",
      "1/1 [==============================] - 54s 54s/step - loss: 0.3116 - accuracy: 0.8750 - val_loss: 3.0834 - val_accuracy: 0.4000\n",
      "Epoch 20/20\n",
      "1/1 [==============================] - 54s 54s/step - loss: 0.3532 - accuracy: 0.8750 - val_loss: 3.0364 - val_accuracy: 0.5000\n",
      "\n",
      "\n",
      "Epoch 1/20\n",
      "1/1 [==============================] - 53s 53s/step - loss: 2.9793 - accuracy: 0.2750 - val_loss: 5.1315 - val_accuracy: 0.0000e+00\n",
      "Epoch 2/20\n",
      "1/1 [==============================] - 53s 53s/step - loss: 2.3436 - accuracy: 0.3750 - val_loss: 5.6594 - val_accuracy: 0.0000e+00\n",
      "Epoch 3/20\n",
      "1/1 [==============================] - 53s 53s/step - loss: 1.9373 - accuracy: 0.5000 - val_loss: 6.2039 - val_accuracy: 0.0000e+00\n",
      "Epoch 4/20\n",
      "1/1 [==============================] - 53s 53s/step - loss: 1.7305 - accuracy: 0.4750 - val_loss: 7.1819 - val_accuracy: 0.0000e+00\n",
      "Epoch 5/20\n",
      "1/1 [==============================] - 52s 52s/step - loss: 1.3153 - accuracy: 0.6500 - val_loss: 6.9457 - val_accuracy: 0.0000e+00\n",
      "Epoch 6/20\n",
      "1/1 [==============================] - 54s 54s/step - loss: 1.3247 - accuracy: 0.6250 - val_loss: 6.5802 - val_accuracy: 0.0000e+00\n",
      "Epoch 7/20\n",
      "1/1 [==============================] - 54s 54s/step - loss: 0.9068 - accuracy: 0.7250 - val_loss: 6.1276 - val_accuracy: 0.0000e+00\n",
      "Epoch 8/20\n",
      "1/1 [==============================] - 53s 53s/step - loss: 0.6007 - accuracy: 0.8000 - val_loss: 5.4699 - val_accuracy: 0.1000\n",
      "Epoch 9/20\n",
      "1/1 [==============================] - 49s 49s/step - loss: 0.5839 - accuracy: 0.9000 - val_loss: 4.8609 - val_accuracy: 0.1000\n",
      "Epoch 10/20\n",
      "1/1 [==============================] - 49s 49s/step - loss: 0.4856 - accuracy: 0.8750 - val_loss: 4.4684 - val_accuracy: 0.1000\n",
      "Epoch 11/20\n",
      "1/1 [==============================] - 49s 49s/step - loss: 0.5160 - accuracy: 0.8750 - val_loss: 4.3261 - val_accuracy: 0.2000\n",
      "Epoch 12/20\n",
      "1/1 [==============================] - 56s 56s/step - loss: 0.6018 - accuracy: 0.8250 - val_loss: 4.3391 - val_accuracy: 0.2000\n",
      "Epoch 13/20\n",
      "1/1 [==============================] - 56s 56s/step - loss: 0.4558 - accuracy: 0.9000 - val_loss: 4.2276 - val_accuracy: 0.3000\n",
      "Epoch 14/20\n",
      "1/1 [==============================] - 50s 50s/step - loss: 0.4778 - accuracy: 0.8250 - val_loss: 4.4651 - val_accuracy: 0.3000\n",
      "Epoch 15/20\n",
      "1/1 [==============================] - 50s 50s/step - loss: 0.4295 - accuracy: 0.8500 - val_loss: 4.7602 - val_accuracy: 0.3000\n",
      "Epoch 16/20\n",
      "1/1 [==============================] - 50s 50s/step - loss: 0.2848 - accuracy: 0.9750 - val_loss: 4.9864 - val_accuracy: 0.2000\n",
      "Epoch 17/20\n",
      "1/1 [==============================] - 50s 50s/step - loss: 0.3154 - accuracy: 0.9500 - val_loss: 5.1630 - val_accuracy: 0.2000\n",
      "Epoch 18/20\n",
      "1/1 [==============================] - 52s 52s/step - loss: 0.3735 - accuracy: 0.9000 - val_loss: 5.2082 - val_accuracy: 0.2000\n",
      "Epoch 19/20\n",
      "1/1 [==============================] - 51s 51s/step - loss: 0.2449 - accuracy: 0.9750 - val_loss: 5.1889 - val_accuracy: 0.2000\n",
      "Epoch 20/20\n",
      "1/1 [==============================] - 50s 50s/step - loss: 0.2584 - accuracy: 0.9250 - val_loss: 5.2244 - val_accuracy: 0.2000\n",
      "\n",
      "\n",
      "Epoch 1/20\n",
      "1/1 [==============================] - 51s 51s/step - loss: 2.8377 - accuracy: 0.3750 - val_loss: 6.0729 - val_accuracy: 0.1000\n",
      "Epoch 2/20\n",
      "1/1 [==============================] - 50s 50s/step - loss: 2.4320 - accuracy: 0.3750 - val_loss: 6.0306 - val_accuracy: 0.1000\n",
      "Epoch 3/20\n",
      "1/1 [==============================] - 51s 51s/step - loss: 2.2304 - accuracy: 0.3750 - val_loss: 5.8175 - val_accuracy: 0.1000\n",
      "Epoch 4/20\n",
      "1/1 [==============================] - 50s 50s/step - loss: 1.9590 - accuracy: 0.4750 - val_loss: 5.3734 - val_accuracy: 0.2000\n",
      "Epoch 5/20\n",
      "1/1 [==============================] - 50s 50s/step - loss: 1.4679 - accuracy: 0.6000 - val_loss: 4.8272 - val_accuracy: 0.2000\n",
      "Epoch 6/20\n",
      "1/1 [==============================] - 49s 49s/step - loss: 1.5018 - accuracy: 0.5250 - val_loss: 4.2023 - val_accuracy: 0.3000\n",
      "Epoch 7/20\n",
      "1/1 [==============================] - 50s 50s/step - loss: 0.8937 - accuracy: 0.6750 - val_loss: 4.2522 - val_accuracy: 0.3000\n",
      "Epoch 8/20\n",
      "1/1 [==============================] - 51s 51s/step - loss: 0.8665 - accuracy: 0.6250 - val_loss: 4.5693 - val_accuracy: 0.3000\n",
      "Epoch 9/20\n",
      "1/1 [==============================] - 50s 50s/step - loss: 0.7754 - accuracy: 0.7250 - val_loss: 4.6413 - val_accuracy: 0.2000\n",
      "Epoch 10/20\n",
      "1/1 [==============================] - 48s 48s/step - loss: 0.6787 - accuracy: 0.8250 - val_loss: 4.5419 - val_accuracy: 0.2000\n",
      "Epoch 11/20\n",
      "1/1 [==============================] - 48s 48s/step - loss: 0.6358 - accuracy: 0.8500 - val_loss: 4.6305 - val_accuracy: 0.2000\n",
      "Epoch 12/20\n",
      "1/1 [==============================] - 48s 48s/step - loss: 0.5782 - accuracy: 0.8000 - val_loss: 4.7606 - val_accuracy: 0.2000\n",
      "Epoch 13/20\n",
      "1/1 [==============================] - 48s 48s/step - loss: 0.5515 - accuracy: 0.8250 - val_loss: 4.7117 - val_accuracy: 0.2000\n",
      "Epoch 14/20\n",
      "1/1 [==============================] - 48s 48s/step - loss: 0.5733 - accuracy: 0.9000 - val_loss: 4.6061 - val_accuracy: 0.1000\n",
      "Epoch 15/20\n",
      "1/1 [==============================] - 49s 49s/step - loss: 0.4878 - accuracy: 0.8750 - val_loss: 4.5486 - val_accuracy: 0.1000\n",
      "Epoch 16/20\n",
      "1/1 [==============================] - 49s 49s/step - loss: 0.4305 - accuracy: 0.9500 - val_loss: 4.4804 - val_accuracy: 0.1000\n",
      "Epoch 17/20\n",
      "1/1 [==============================] - 48s 48s/step - loss: 0.4189 - accuracy: 0.9000 - val_loss: 4.3182 - val_accuracy: 0.1000\n",
      "Epoch 18/20\n",
      "1/1 [==============================] - 49s 49s/step - loss: 0.4879 - accuracy: 0.8750 - val_loss: 4.1752 - val_accuracy: 0.1000\n",
      "Epoch 19/20\n",
      "1/1 [==============================] - 49s 49s/step - loss: 0.3811 - accuracy: 0.9000 - val_loss: 4.1696 - val_accuracy: 0.1000\n",
      "Epoch 20/20\n",
      "1/1 [==============================] - 51s 51s/step - loss: 0.3375 - accuracy: 0.9250 - val_loss: 4.2457 - val_accuracy: 0.1000\n",
      "\n",
      "\n",
      "Epoch 1/20\n",
      "1/1 [==============================] - 50s 50s/step - loss: 2.4865 - accuracy: 0.3000 - val_loss: 5.4967 - val_accuracy: 0.0000e+00\n",
      "Epoch 2/20\n",
      "1/1 [==============================] - 49s 49s/step - loss: 2.2172 - accuracy: 0.3250 - val_loss: 4.6230 - val_accuracy: 0.0000e+00\n",
      "Epoch 3/20\n",
      "1/1 [==============================] - 49s 49s/step - loss: 1.6672 - accuracy: 0.5500 - val_loss: 4.0848 - val_accuracy: 0.1000\n",
      "Epoch 4/20\n",
      "1/1 [==============================] - 51s 51s/step - loss: 1.4522 - accuracy: 0.6250 - val_loss: 3.9674 - val_accuracy: 0.1000\n",
      "Epoch 5/20\n",
      "1/1 [==============================] - 51s 51s/step - loss: 1.3523 - accuracy: 0.5750 - val_loss: 4.2798 - val_accuracy: 0.0000e+00\n",
      "Epoch 6/20\n",
      "1/1 [==============================] - 52s 52s/step - loss: 0.9526 - accuracy: 0.7500 - val_loss: 4.4174 - val_accuracy: 0.0000e+00\n",
      "Epoch 7/20\n",
      "1/1 [==============================] - 52s 52s/step - loss: 0.9174 - accuracy: 0.7500 - val_loss: 4.8811 - val_accuracy: 0.1000\n",
      "Epoch 8/20\n",
      "1/1 [==============================] - 50s 50s/step - loss: 0.9727 - accuracy: 0.6750 - val_loss: 5.1580 - val_accuracy: 0.1000\n",
      "Epoch 9/20\n",
      "1/1 [==============================] - 53s 53s/step - loss: 0.7998 - accuracy: 0.6250 - val_loss: 5.2712 - val_accuracy: 0.1000\n",
      "Epoch 10/20\n",
      "1/1 [==============================] - 51s 51s/step - loss: 0.5535 - accuracy: 0.7250 - val_loss: 5.4240 - val_accuracy: 0.1000\n",
      "Epoch 11/20\n",
      "1/1 [==============================] - 51s 51s/step - loss: 0.5181 - accuracy: 0.8500 - val_loss: 5.5037 - val_accuracy: 0.1000\n",
      "Epoch 12/20\n",
      "1/1 [==============================] - 52s 52s/step - loss: 0.5478 - accuracy: 0.8750 - val_loss: 5.8435 - val_accuracy: 0.1000\n",
      "Epoch 13/20\n",
      "1/1 [==============================] - 51s 51s/step - loss: 0.4103 - accuracy: 0.9250 - val_loss: 5.9526 - val_accuracy: 0.1000\n",
      "Epoch 14/20\n",
      "1/1 [==============================] - 53s 53s/step - loss: 0.3467 - accuracy: 0.9500 - val_loss: 6.0645 - val_accuracy: 0.1000\n",
      "Epoch 15/20\n",
      "1/1 [==============================] - 54s 54s/step - loss: 0.3000 - accuracy: 0.9250 - val_loss: 6.1900 - val_accuracy: 0.1000\n",
      "Epoch 16/20\n",
      "1/1 [==============================] - 54s 54s/step - loss: 0.2880 - accuracy: 0.9250 - val_loss: 6.3084 - val_accuracy: 0.1000\n",
      "Epoch 17/20\n",
      "1/1 [==============================] - 52s 52s/step - loss: 0.2649 - accuracy: 0.9750 - val_loss: 6.4613 - val_accuracy: 0.1000\n",
      "Epoch 18/20\n",
      "1/1 [==============================] - 52s 52s/step - loss: 0.1964 - accuracy: 1.0000 - val_loss: 6.5387 - val_accuracy: 0.1000\n",
      "Epoch 19/20\n",
      "1/1 [==============================] - 53s 53s/step - loss: 0.2394 - accuracy: 0.9750 - val_loss: 6.5803 - val_accuracy: 0.1000\n",
      "Epoch 20/20\n",
      "1/1 [==============================] - 54s 54s/step - loss: 0.2524 - accuracy: 0.9500 - val_loss: 6.5474 - val_accuracy: 0.1000\n",
      "\n",
      "\n",
      "Epoch 1/20\n",
      "1/1 [==============================] - 57s 57s/step - loss: 2.4821 - accuracy: 0.4000 - val_loss: 4.9158 - val_accuracy: 0.3000\n",
      "Epoch 2/20\n",
      "1/1 [==============================] - 53s 53s/step - loss: 1.8625 - accuracy: 0.5250 - val_loss: 4.9042 - val_accuracy: 0.2000\n",
      "Epoch 3/20\n",
      "1/1 [==============================] - 51s 51s/step - loss: 1.7895 - accuracy: 0.5750 - val_loss: 4.8471 - val_accuracy: 0.2000\n",
      "Epoch 4/20\n",
      "1/1 [==============================] - 51s 51s/step - loss: 1.4444 - accuracy: 0.6750 - val_loss: 4.8791 - val_accuracy: 0.2000\n",
      "Epoch 5/20\n",
      "1/1 [==============================] - 52s 52s/step - loss: 1.3396 - accuracy: 0.5750 - val_loss: 4.7459 - val_accuracy: 0.2000\n",
      "Epoch 6/20\n",
      "1/1 [==============================] - 49s 49s/step - loss: 1.0938 - accuracy: 0.7000 - val_loss: 4.3049 - val_accuracy: 0.3000\n",
      "Epoch 7/20\n",
      "1/1 [==============================] - 49s 49s/step - loss: 1.1546 - accuracy: 0.7000 - val_loss: 3.9218 - val_accuracy: 0.3000\n",
      "Epoch 8/20\n",
      "1/1 [==============================] - 50s 50s/step - loss: 0.9684 - accuracy: 0.7250 - val_loss: 3.4907 - val_accuracy: 0.3000\n",
      "Epoch 9/20\n",
      "1/1 [==============================] - 50s 50s/step - loss: 0.8328 - accuracy: 0.7250 - val_loss: 2.7080 - val_accuracy: 0.4000\n",
      "Epoch 10/20\n",
      "1/1 [==============================] - 49s 49s/step - loss: 0.8070 - accuracy: 0.7000 - val_loss: 2.6398 - val_accuracy: 0.4000\n",
      "Epoch 11/20\n",
      "1/1 [==============================] - 49s 49s/step - loss: 0.7780 - accuracy: 0.8000 - val_loss: 2.6397 - val_accuracy: 0.4000\n",
      "Epoch 12/20\n",
      "1/1 [==============================] - 50s 50s/step - loss: 0.7195 - accuracy: 0.8250 - val_loss: 2.6847 - val_accuracy: 0.3000\n",
      "Epoch 13/20\n",
      "1/1 [==============================] - 51s 51s/step - loss: 0.6121 - accuracy: 0.8500 - val_loss: 2.7515 - val_accuracy: 0.3000\n",
      "Epoch 14/20\n",
      "1/1 [==============================] - 49s 49s/step - loss: 0.6605 - accuracy: 0.8500 - val_loss: 3.0315 - val_accuracy: 0.2000\n",
      "Epoch 15/20\n",
      "1/1 [==============================] - 49s 49s/step - loss: 0.6323 - accuracy: 0.8500 - val_loss: 3.7286 - val_accuracy: 0.2000\n",
      "Epoch 16/20\n",
      "1/1 [==============================] - 51s 51s/step - loss: 0.5486 - accuracy: 0.8750 - val_loss: 4.2739 - val_accuracy: 0.1000\n",
      "Epoch 17/20\n",
      "1/1 [==============================] - 52s 52s/step - loss: 0.5698 - accuracy: 0.8500 - val_loss: 4.6083 - val_accuracy: 0.1000\n",
      "Epoch 18/20\n",
      "1/1 [==============================] - 52s 52s/step - loss: 0.5558 - accuracy: 0.7500 - val_loss: 4.7140 - val_accuracy: 0.1000\n",
      "Epoch 19/20\n",
      "1/1 [==============================] - 53s 53s/step - loss: 0.4301 - accuracy: 0.8750 - val_loss: 4.6622 - val_accuracy: 0.2000\n",
      "Epoch 20/20\n",
      "1/1 [==============================] - 52s 52s/step - loss: 0.3599 - accuracy: 0.9250 - val_loss: 4.6254 - val_accuracy: 0.2000\n",
      "\n",
      "\n",
      "Epoch 1/20\n",
      "1/1 [==============================] - 50s 50s/step - loss: 2.6130 - accuracy: 0.2500 - val_loss: 3.6389 - val_accuracy: 0.1000\n",
      "Epoch 2/20\n",
      "1/1 [==============================] - 50s 50s/step - loss: 2.3443 - accuracy: 0.2250 - val_loss: 3.6393 - val_accuracy: 0.2000\n",
      "Epoch 3/20\n",
      "1/1 [==============================] - 50s 50s/step - loss: 1.8515 - accuracy: 0.4250 - val_loss: 3.8370 - val_accuracy: 0.2000\n",
      "Epoch 4/20\n",
      "1/1 [==============================] - 50s 50s/step - loss: 1.5392 - accuracy: 0.4250 - val_loss: 3.6726 - val_accuracy: 0.3000\n",
      "Epoch 5/20\n",
      "1/1 [==============================] - 50s 50s/step - loss: 1.3590 - accuracy: 0.5000 - val_loss: 3.5120 - val_accuracy: 0.3000\n",
      "Epoch 6/20\n",
      "1/1 [==============================] - 51s 51s/step - loss: 1.1824 - accuracy: 0.6500 - val_loss: 3.4335 - val_accuracy: 0.3000\n",
      "Epoch 7/20\n",
      "1/1 [==============================] - 51s 51s/step - loss: 1.0457 - accuracy: 0.6750 - val_loss: 3.4220 - val_accuracy: 0.3000\n",
      "Epoch 8/20\n",
      "1/1 [==============================] - 50s 50s/step - loss: 0.9140 - accuracy: 0.6750 - val_loss: 3.3984 - val_accuracy: 0.3000\n",
      "Epoch 9/20\n",
      "1/1 [==============================] - 49s 49s/step - loss: 0.8177 - accuracy: 0.7000 - val_loss: 3.3408 - val_accuracy: 0.3000\n",
      "Epoch 10/20\n",
      "1/1 [==============================] - 51s 51s/step - loss: 0.8485 - accuracy: 0.7000 - val_loss: 3.2581 - val_accuracy: 0.3000\n",
      "Epoch 11/20\n",
      "1/1 [==============================] - 56s 56s/step - loss: 0.7369 - accuracy: 0.7000 - val_loss: 3.2413 - val_accuracy: 0.3000\n",
      "Epoch 12/20\n",
      "1/1 [==============================] - 53s 53s/step - loss: 0.5978 - accuracy: 0.7750 - val_loss: 3.3240 - val_accuracy: 0.4000\n",
      "Epoch 13/20\n",
      "1/1 [==============================] - 51s 51s/step - loss: 0.6169 - accuracy: 0.8250 - val_loss: 3.3369 - val_accuracy: 0.4000\n",
      "Epoch 14/20\n",
      "1/1 [==============================] - 49s 49s/step - loss: 0.4981 - accuracy: 0.8250 - val_loss: 3.4134 - val_accuracy: 0.4000\n",
      "Epoch 15/20\n",
      "1/1 [==============================] - 51s 51s/step - loss: 0.4785 - accuracy: 0.9000 - val_loss: 3.5526 - val_accuracy: 0.3000\n",
      "Epoch 16/20\n",
      "1/1 [==============================] - 51s 51s/step - loss: 0.4051 - accuracy: 0.9000 - val_loss: 3.6751 - val_accuracy: 0.3000\n",
      "Epoch 17/20\n",
      "1/1 [==============================] - 52s 52s/step - loss: 0.3400 - accuracy: 0.9250 - val_loss: 3.8350 - val_accuracy: 0.3000\n",
      "Epoch 18/20\n",
      "1/1 [==============================] - 52s 52s/step - loss: 0.3750 - accuracy: 0.9000 - val_loss: 3.9359 - val_accuracy: 0.3000\n",
      "Epoch 19/20\n",
      "1/1 [==============================] - 53s 53s/step - loss: 0.3869 - accuracy: 0.8500 - val_loss: 3.8822 - val_accuracy: 0.4000\n",
      "Epoch 20/20\n",
      "1/1 [==============================] - 51s 51s/step - loss: 0.2450 - accuracy: 0.9750 - val_loss: 3.8941 - val_accuracy: 0.4000\n",
      "\n",
      "\n",
      "Epoch 1/20\n",
      "1/1 [==============================] - 36s 36s/step - loss: 2.3177 - accuracy: 0.3704 - val_loss: 4.7038 - val_accuracy: 0.1429\n",
      "Epoch 2/20\n",
      "1/1 [==============================] - 36s 36s/step - loss: 1.5169 - accuracy: 0.5926 - val_loss: 5.0669 - val_accuracy: 0.1429\n",
      "Epoch 3/20\n",
      "1/1 [==============================] - 38s 38s/step - loss: 1.2171 - accuracy: 0.5926 - val_loss: 5.1533 - val_accuracy: 0.1429\n",
      "Epoch 4/20\n",
      "1/1 [==============================] - 38s 38s/step - loss: 1.0664 - accuracy: 0.6667 - val_loss: 5.3897 - val_accuracy: 0.1429\n",
      "Epoch 5/20\n",
      "1/1 [==============================] - 36s 36s/step - loss: 0.8960 - accuracy: 0.5926 - val_loss: 5.5840 - val_accuracy: 0.2857\n",
      "Epoch 6/20\n",
      "1/1 [==============================] - 35s 35s/step - loss: 0.6147 - accuracy: 0.8519 - val_loss: 5.6328 - val_accuracy: 0.2857\n",
      "Epoch 7/20\n",
      "1/1 [==============================] - 35s 35s/step - loss: 0.3875 - accuracy: 0.8889 - val_loss: 6.0036 - val_accuracy: 0.1429\n",
      "Epoch 8/20\n",
      "1/1 [==============================] - 36s 36s/step - loss: 0.5117 - accuracy: 0.8148 - val_loss: 6.0370 - val_accuracy: 0.1429\n",
      "Epoch 9/20\n",
      "1/1 [==============================] - 36s 36s/step - loss: 0.3969 - accuracy: 0.8889 - val_loss: 5.9435 - val_accuracy: 0.1429\n",
      "Epoch 10/20\n",
      "1/1 [==============================] - 35s 35s/step - loss: 0.2964 - accuracy: 0.8889 - val_loss: 5.9908 - val_accuracy: 0.1429\n",
      "Epoch 11/20\n",
      "1/1 [==============================] - 36s 36s/step - loss: 0.4042 - accuracy: 0.8148 - val_loss: 5.7903 - val_accuracy: 0.1429\n",
      "Epoch 12/20\n",
      "1/1 [==============================] - 35s 35s/step - loss: 0.2544 - accuracy: 0.9259 - val_loss: 5.5755 - val_accuracy: 0.1429\n",
      "Epoch 13/20\n",
      "1/1 [==============================] - 33s 33s/step - loss: 0.3085 - accuracy: 0.9259 - val_loss: 5.5120 - val_accuracy: 0.1429\n",
      "Epoch 14/20\n",
      "1/1 [==============================] - 33s 33s/step - loss: 0.1726 - accuracy: 0.9630 - val_loss: 5.5223 - val_accuracy: 0.1429\n",
      "Epoch 15/20\n",
      "1/1 [==============================] - 33s 33s/step - loss: 0.2662 - accuracy: 0.9259 - val_loss: 5.1381 - val_accuracy: 0.2857\n",
      "Epoch 16/20\n",
      "1/1 [==============================] - 33s 33s/step - loss: 0.1487 - accuracy: 0.9630 - val_loss: 4.6356 - val_accuracy: 0.2857\n",
      "Epoch 17/20\n",
      "1/1 [==============================] - 33s 33s/step - loss: 0.2351 - accuracy: 0.8889 - val_loss: 4.4298 - val_accuracy: 0.2857\n",
      "Epoch 18/20\n",
      "1/1 [==============================] - 33s 33s/step - loss: 0.1960 - accuracy: 0.9259 - val_loss: 4.3012 - val_accuracy: 0.2857\n",
      "Epoch 19/20\n",
      "1/1 [==============================] - 32s 32s/step - loss: 0.2154 - accuracy: 0.9630 - val_loss: 4.2579 - val_accuracy: 0.2857\n",
      "Epoch 20/20\n",
      "1/1 [==============================] - 32s 32s/step - loss: 0.1774 - accuracy: 0.9259 - val_loss: 4.2654 - val_accuracy: 0.2857\n",
      "ça a prit 9787.938113689423 secondes d'entrainer le modele\n"
     ]
    }
   ],
   "source": [
    "if model_charge:\n",
    "    print('Il ne faut pas train le modele car il a déjà été chargé')\n",
    "else:\n",
    "    print('Il faut entrainer le modele')\n",
    "    start = time()\n",
    "    model, histories = homemade_fit_gen(model, labels, pack_size = pack_size,\n",
    "                                                    epochs = epochs,batch_size = batch_size,\n",
    "                                                    fps = fps, size = size)\n",
    "    end = time()\n",
    "    print(f\"ça a prit {end-start} secondes d'entrainer le modele\")"
   ]
  },
  {
   "cell_type": "code",
   "execution_count": null,
   "id": "short-appliance",
   "metadata": {},
   "outputs": [],
   "source": []
  },
  {
   "cell_type": "markdown",
   "id": "cardiac-heather",
   "metadata": {},
   "source": [
    "## Tests"
   ]
  },
  {
   "cell_type": "code",
   "execution_count": 24,
   "id": "correct-investigator",
   "metadata": {},
   "outputs": [
    {
     "name": "stdout",
     "output_type": "stream",
     "text": [
      "\n"
     ]
    }
   ],
   "source": [
    "X_test, y_test, _ = my_gen(labels_tests, \"DATA\\\\V_tests\",pack_size = 1000,fps = fps, size = size)\n",
    "#Grand pack_size afin de prendre toutes les données"
   ]
  },
  {
   "cell_type": "code",
   "execution_count": 25,
   "id": "happy-twelve",
   "metadata": {},
   "outputs": [],
   "source": [
    "y_pred = model.predict(X_test)"
   ]
  },
  {
   "cell_type": "code",
   "execution_count": 26,
   "id": "civic-mailing",
   "metadata": {},
   "outputs": [],
   "source": [
    "## Experience: Temp à supprimer dès que ça ne fait plus de sens"
   ]
  },
  {
   "cell_type": "code",
   "execution_count": 27,
   "id": "stretch-peoples",
   "metadata": {},
   "outputs": [
    {
     "name": "stdout",
     "output_type": "stream",
     "text": [
      "original: Ouvrir un livre avec le poing ferme main D\n",
      "prediction: Swipe droit main gauche\n"
     ]
    },
    {
     "data": {
      "image/png": "[encoded data removed]",
      "text/plain": [
       "<Figure size 1440x4320 with 19 Axes>"
      ]
     },
     "metadata": {
      "needs_background": "light"
     },
     "output_type": "display_data"
    }
   ],
   "source": [
    "plt.figure(figsize=(20,60)) #(20,60) pour des images en (120,160). (20,180) pour des images en (480,640)\n",
    "#print(X_test.shape)\n",
    "#Visu des mouvements avec une petite size (en fonction des paramètres initiaux)\n",
    "columns = 3\n",
    "vid_a_test = 11\n",
    "print(\"original:\",labels_n[y_test[vid_a_test]])\n",
    "print(\"prediction:\",labels_n[y_pred[vid_a_test].argmax()])\n",
    "for i, img in enumerate(X_test[vid_a_test]):\n",
    "    plt.subplot(int(len(img) / columns + 1), columns, i + 1)\n",
    "    plt.imshow(img)"
   ]
  },
  {
   "cell_type": "code",
   "execution_count": null,
   "id": "infrared-nashville",
   "metadata": {},
   "outputs": [],
   "source": []
  },
  {
   "cell_type": "code",
   "execution_count": null,
   "id": "synthetic-illinois",
   "metadata": {},
   "outputs": [],
   "source": []
  },
  {
   "cell_type": "code",
   "execution_count": null,
   "id": "injured-right",
   "metadata": {},
   "outputs": [],
   "source": []
  },
  {
   "cell_type": "code",
   "execution_count": null,
   "id": "responsible-framework",
   "metadata": {},
   "outputs": [],
   "source": []
  },
  {
   "cell_type": "markdown",
   "id": "quarterly-communications",
   "metadata": {},
   "source": [
    "### visualisation des  résultats"
   ]
  },
  {
   "cell_type": "code",
   "execution_count": 28,
   "id": "sunset-infection",
   "metadata": {},
   "outputs": [],
   "source": [
    "import fidle.pwk as pwk"
   ]
  },
  {
   "cell_type": "code",
   "execution_count": 29,
   "id": "matched-aurora",
   "metadata": {},
   "outputs": [
    {
     "data": {
      "text/plain": [
       "'Saved_model\\\\model_LSTM_8_30_40_10_20_50_50_10mili'"
      ]
     },
     "execution_count": 29,
     "metadata": {},
     "output_type": "execute_result"
    }
   ],
   "source": [
    "full_name"
   ]
  },
  {
   "cell_type": "code",
   "execution_count": 30,
   "id": "fifty-intent",
   "metadata": {},
   "outputs": [
    {
     "data": {
      "image/png": "[encoded data removed]",
      "text/plain": [
       "<Figure size 720x576 with 2 Axes>"
      ]
     },
     "metadata": {
      "needs_background": "light"
     },
     "output_type": "display_data"
    }
   ],
   "source": [
    "y_pred_arg = np.argmax(y_pred, axis=-1)\n",
    "plot_confusion_name = full_name + '_confusion.png'\n",
    "cfm_plot = pwk.plot_confusion_matrix(y_test,y_pred_arg,range(nb_classes),normalize=True)"
   ]
  },
  {
   "cell_type": "code",
   "execution_count": 31,
   "id": "durable-virginia",
   "metadata": {},
   "outputs": [
    {
     "name": "stdout",
     "output_type": "stream",
     "text": [
      "1/1 [==============================] - 1s 543ms/step - loss: 5.1290 - accuracy: 0.1333\n",
      "Test loss     : 5.12901496887207\n",
      "Test accuracy : 0.13333334028720856\n"
     ]
    }
   ],
   "source": [
    "y_test_cat = to_categorical(y_test,10)\n",
    "score = model.evaluate(X_test, y_test_cat, verbose=1)\n",
    "\n",
    "print('Test loss     :', score[0])\n",
    "print('Test accuracy :', score[1])"
   ]
  },
  {
   "cell_type": "code",
   "execution_count": 40,
   "id": "quality-brave",
   "metadata": {},
   "outputs": [
    {
     "data": {
      "text/plain": [
       "array([[5.2722968e-04, 2.3200651e-04, 3.4229696e-04, 2.5891921e-02,\n",
       "        4.6608462e-03, 1.1549795e-04, 5.2848924e-04, 3.3337218e-04,\n",
       "        9.5779949e-01, 9.5688738e-03],\n",
       "       [9.0065884e-04, 1.1494191e-03, 2.6701525e-04, 3.9615318e-02,\n",
       "        4.6384032e-03, 5.0789575e-05, 8.0146024e-04, 2.5436963e-04,\n",
       "        8.2041830e-01, 1.3190430e-01],\n",
       "       [9.8976924e-04, 2.1157830e-03, 3.8706875e-04, 6.8179676e-03,\n",
       "        2.0568362e-03, 1.0208319e-04, 7.8614312e-04, 2.1883070e-04,\n",
       "        6.9822407e-01, 2.8830147e-01],\n",
       "       [5.5862502e-03, 7.9139892e-04, 1.3905243e-03, 5.6106042e-02,\n",
       "        1.6444007e-01, 3.4918360e-04, 2.3496067e-03, 8.6015193e-03,\n",
       "        4.9544135e-01, 2.6494405e-01],\n",
       "       [1.3209133e-03, 3.2275508e-04, 4.0493926e-04, 7.2733082e-02,\n",
       "        1.0730391e-02, 6.5714463e-05, 4.7646277e-04, 4.9594347e-04,\n",
       "        8.5859591e-01, 5.4853979e-02],\n",
       "       [5.2503392e-04, 2.4333740e-04, 2.2551717e-04, 1.5376869e-02,\n",
       "        3.8355805e-03, 6.0232473e-05, 2.3737179e-04, 2.2771377e-04,\n",
       "        9.7166687e-01, 7.6014237e-03],\n",
       "       [4.6168308e-05, 7.0813585e-05, 5.2076812e-05, 2.9055492e-03,\n",
       "        3.2798533e-04, 2.8419634e-05, 1.5812714e-04, 4.3056665e-05,\n",
       "        9.9400061e-01, 2.3671514e-03],\n",
       "       [5.9036491e-03, 9.3405275e-04, 2.1260737e-03, 4.7191795e-02,\n",
       "        3.2396170e-01, 5.2007404e-04, 3.5292157e-03, 9.4911065e-03,\n",
       "        4.1579568e-01, 1.9054665e-01],\n",
       "       [5.3836727e-03, 7.7464280e-04, 2.5934048e-03, 4.5188796e-02,\n",
       "        4.4973218e-01, 7.5530127e-04, 2.8658779e-03, 1.2495581e-02,\n",
       "        3.0867329e-01, 1.7153728e-01],\n",
       "       [2.8298455e-04, 9.6931071e-05, 1.6567833e-04, 6.6041611e-03,\n",
       "        1.6568061e-03, 7.9023033e-05, 3.2718762e-04, 1.7554125e-04,\n",
       "        9.8511815e-01, 5.4935440e-03],\n",
       "       [2.5281415e-04, 9.1374626e-05, 1.6044348e-04, 7.0097987e-03,\n",
       "        1.7084318e-03, 8.4088220e-05, 3.5515867e-04, 1.6340197e-04,\n",
       "        9.8496234e-01, 5.2121598e-03],\n",
       "       [4.4887844e-03, 7.0198352e-04, 2.1579734e-03, 4.1474905e-02,\n",
       "        3.7456620e-01, 7.4048451e-04, 2.8810196e-03, 1.4026100e-02,\n",
       "        3.6714309e-01, 1.9181941e-01],\n",
       "       [2.6392911e-05, 6.9678921e-05, 3.2542943e-05, 1.3383239e-03,\n",
       "        1.5346774e-04, 2.0866548e-05, 1.3029634e-04, 2.2339662e-05,\n",
       "        9.9609900e-01, 2.1070868e-03],\n",
       "       [4.0463749e-03, 1.2700845e-03, 8.2447432e-04, 5.3027272e-02,\n",
       "        5.7371724e-02, 1.8503406e-04, 1.2280027e-03, 2.4561894e-03,\n",
       "        4.5547020e-01, 4.2412060e-01],\n",
       "       [1.1071245e-03, 5.7728216e-04, 1.5929440e-04, 2.9123193e-02,\n",
       "        7.3429774e-03, 5.6986712e-05, 3.9614036e-04, 3.4736498e-04,\n",
       "        8.8522720e-01, 7.5662494e-02]], dtype=float32)"
      ]
     },
     "execution_count": 40,
     "metadata": {},
     "output_type": "execute_result"
    }
   ],
   "source": [
    "y_pred\n",
    "# PAS NORMALISEE !!!!!!!!!! "
   ]
  },
  {
   "cell_type": "code",
   "execution_count": 33,
   "id": "closed-highland",
   "metadata": {},
   "outputs": [
    {
     "name": "stdout",
     "output_type": "stream",
     "text": [
      "{'Ferme le poing': 0, 0: 'Ferme le poing', 'Ouvre le poing': 1, 1: 'Ouvre le poing', 'Clap': 2, 2: 'Clap', 'Swipe gauche main droite': 3, 3: 'Swipe gauche main droite', 'Swipe droit main gauche': 4, 4: 'Swipe droit main gauche', 'Doigts croises paumes': 5, 5: 'Doigts croises paumes', 'Explosion avec les doigts ouverts': 6, 6: 'Explosion avec les doigts ouverts', 'Ouvrir un livre avec le poing ferme main D': 7, 7: 'Ouvrir un livre avec le poing ferme main D', 'Ouvrir un livre avec le poing ferme main G': 8, 8: 'Ouvrir un livre avec le poing ferme main G', 'Faire coucou': 9, 9: 'Faire coucou'}\n"
     ]
    }
   ],
   "source": [
    "print(labels_n)"
   ]
  },
  {
   "cell_type": "code",
   "execution_count": 34,
   "id": "explicit-greensboro",
   "metadata": {},
   "outputs": [],
   "source": [
    "#Je peux afficher l'historique de chaque étape (je n'ai aps réussi à les faire fusionner)\n",
    "#On ne peut afficher que si on a train\n",
    "\n",
    "#history = histories[-1]\n",
    "#pwk.plot_history(history, figsize=(6,4), save_as='03-history')"
   ]
  },
  {
   "cell_type": "markdown",
   "id": "charming-benchmark",
   "metadata": {},
   "source": [
    "## Enregistrer le modèle"
   ]
  },
  {
   "cell_type": "code",
   "execution_count": 35,
   "id": "flying-health",
   "metadata": {},
   "outputs": [],
   "source": [
    "#Le nom est fabriqué en début de notebook"
   ]
  },
  {
   "cell_type": "code",
   "execution_count": null,
   "id": "exact-parking",
   "metadata": {},
   "outputs": [],
   "source": []
  },
  {
   "cell_type": "code",
   "execution_count": 36,
   "id": "charming-halifax",
   "metadata": {},
   "outputs": [
    {
     "name": "stdout",
     "output_type": "stream",
     "text": [
      "Saved_model\\model_LSTM_8_30_40_10_20_50_50_10mili\n"
     ]
    }
   ],
   "source": [
    "print(full_name)"
   ]
  },
  {
   "cell_type": "code",
   "execution_count": 37,
   "id": "precious-eating",
   "metadata": {},
   "outputs": [],
   "source": [
    "#Enregistrement du résultat dans le csv"
   ]
  },
  {
   "cell_type": "code",
   "execution_count": 41,
   "id": "extended-circulation",
   "metadata": {},
   "outputs": [],
   "source": [
    "def write_score(model_name,score):\n",
    "    labels = open(\"score.csv\",\"a\") #append\n",
    "    labels.write(\"\\n\" + model_name + \",\" + str(score[0]) + \",\" + str(score[1])) \n",
    "    #Ajoute une nouvelle info sur une nouvelle ligne\n",
    "    labels.close()"
   ]
  },
  {
   "cell_type": "code",
   "execution_count": 42,
   "id": "scheduled-thread",
   "metadata": {},
   "outputs": [
    {
     "name": "stderr",
     "output_type": "stream",
     "text": [
      "WARNING:absl:Found untraced functions such as lstm_cell_layer_call_and_return_conditional_losses, lstm_cell_layer_call_fn, lstm_cell_layer_call_fn, lstm_cell_layer_call_and_return_conditional_losses, lstm_cell_layer_call_and_return_conditional_losses while saving (showing 5 of 5). These functions will not be directly callable after loading.\n",
      "WARNING:absl:Found untraced functions such as lstm_cell_layer_call_and_return_conditional_losses, lstm_cell_layer_call_fn, lstm_cell_layer_call_fn, lstm_cell_layer_call_and_return_conditional_losses, lstm_cell_layer_call_and_return_conditional_losses while saving (showing 5 of 5). These functions will not be directly callable after loading.\n"
     ]
    },
    {
     "name": "stdout",
     "output_type": "stream",
     "text": [
      "INFO:tensorflow:Assets written to: Saved_model\\model_LSTM_8_30_40_10_20_50_50_10mili\\assets\n"
     ]
    },
    {
     "name": "stderr",
     "output_type": "stream",
     "text": [
      "INFO:tensorflow:Assets written to: Saved_model\\model_LSTM_8_30_40_10_20_50_50_10mili\\assets\n"
     ]
    }
   ],
   "source": [
    "# LSTM, 5 FPS, Height = 60, Width = 80, nb_Classes = 10, 3 Epochs, Batch_size = 10, Pack_size = 50, learning_rate *1000\n",
    "if not model_charge: #On ne doit charger le modele que si il a été train cette fois-ci\n",
    "    write_score(full_name,score)\n",
    "    model.save(full_name)"
   ]
  },
  {
   "cell_type": "code",
   "execution_count": null,
   "id": "specific-arabic",
   "metadata": {},
   "outputs": [],
   "source": []
  },
  {
   "cell_type": "code",
   "execution_count": null,
   "id": "geographic-petite",
   "metadata": {},
   "outputs": [],
   "source": []
  },
  {
   "cell_type": "code",
   "execution_count": null,
   "id": "russian-feedback",
   "metadata": {},
   "outputs": [],
   "source": []
  },
  {
   "cell_type": "code",
   "execution_count": null,
   "id": "third-prime",
   "metadata": {},
   "outputs": [],
   "source": []
  },
  {
   "cell_type": "code",
   "execution_count": null,
   "id": "built-dominican",
   "metadata": {},
   "outputs": [],
   "source": []
  },
  {
   "cell_type": "code",
   "execution_count": null,
   "id": "exterior-surrey",
   "metadata": {},
   "outputs": [],
   "source": []
  },
  {
   "cell_type": "code",
   "execution_count": null,
   "id": "portable-instrumentation",
   "metadata": {},
   "outputs": [],
   "source": []
  },
  {
   "cell_type": "code",
   "execution_count": null,
   "id": "opposite-ridge",
   "metadata": {},
   "outputs": [],
   "source": []
  },
  {
   "cell_type": "code",
   "execution_count": null,
   "id": "modular-romance",
   "metadata": {},
   "outputs": [],
   "source": []
  }
 ],
 "metadata": {
  "kernelspec": {
   "display_name": "Python 3",
   "language": "python",
   "name": "python3"
  },
  "language_info": {
   "codemirror_mode": {
    "name": "ipython",
    "version": 3
   },
   "file_extension": ".py",
   "mimetype": "text/x-python",
   "name": "python",
   "nbconvert_exporter": "python",
   "pygments_lexer": "ipython3",
   "version": "3.6.12"
  }
 },
 "nbformat": 4,
 "nbformat_minor": 5
}
