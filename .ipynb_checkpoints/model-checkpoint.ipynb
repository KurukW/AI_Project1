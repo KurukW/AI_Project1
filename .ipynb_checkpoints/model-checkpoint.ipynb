{
 "cells": [
  {
   "cell_type": "markdown",
   "id": "aerial-manual",
   "metadata": {},
   "source": [
    "# Modèle de réseau neuronale"
   ]
  },
  {
   "cell_type": "markdown",
   "id": "controversial-origin",
   "metadata": {},
   "source": [
    "C'est plus simple de faire le modèle sur le notebook pour pouvoir analyser chaque étape avec précision"
   ]
  },
  {
   "cell_type": "code",
   "execution_count": null,
   "id": "homeless-ivory",
   "metadata": {},
   "outputs": [],
   "source": [
    "#Imports"
   ]
  },
  {
   "cell_type": "code",
   "execution_count": 1,
   "id": "strong-walnut",
   "metadata": {},
   "outputs": [],
   "source": [
    "import matplotlib.pyplot as plt\n",
    "import cv2\n",
    "import numpy as np\n",
    "import seaborn as sns #On ne sait jamais que ça serve\n",
    "import pandas as pd #Même argument\n"
   ]
  },
  {
   "cell_type": "code",
   "execution_count": 2,
   "id": "digital-factor",
   "metadata": {},
   "outputs": [],
   "source": [
    "#from alexnet_pytorch import AlexNet # ça fait planter matplotlib\n",
    "#A_model = AlexNet.from_pretrained('alexnet', num_classes=10)"
   ]
  },
  {
   "cell_type": "code",
   "execution_count": 3,
   "id": "french-replication",
   "metadata": {},
   "outputs": [],
   "source": [
    "#Insert des données"
   ]
  },
  {
   "cell_type": "code",
   "execution_count": 4,
   "id": "individual-registration",
   "metadata": {},
   "outputs": [],
   "source": [
    "#Idéalement, il faudrait ajouter les données batch par batch pour ne pas trop faire souffrir la ram"
   ]
  },
  {
   "cell_type": "code",
   "execution_count": 5,
   "id": "driven-feature",
   "metadata": {},
   "outputs": [],
   "source": [
    "labels_csv = pd.read_csv('DATA\\\\labels.csv')"
   ]
  },
  {
   "cell_type": "code",
   "execution_count": 6,
   "id": "interim-fetish",
   "metadata": {},
   "outputs": [],
   "source": [
    "for line in labels_csv.values:\n",
    "    label = line[0]\n",
    "    name = line[1]\n",
    "    #print(f\"Le label est '{label}' et le nom de la vidéo : '{name}'\")"
   ]
  },
  {
   "cell_type": "code",
   "execution_count": 7,
   "id": "worldwide-comment",
   "metadata": {},
   "outputs": [],
   "source": [
    "X_link = []\n",
    "y = []\n",
    "for label,name in labels_csv.values:\n",
    "    X_link.append(name)\n",
    "    y.append(label)"
   ]
  },
  {
   "cell_type": "code",
   "execution_count": null,
   "id": "occasional-satisfaction",
   "metadata": {},
   "outputs": [],
   "source": []
  },
  {
   "cell_type": "code",
   "execution_count": 8,
   "id": "geographic-picking",
   "metadata": {},
   "outputs": [],
   "source": [
    "#a_vid.get(cv2.CAP_PROP_POS_MSEC) #donne la position dans la vidéo en ms, on est à 25 fps donc chaque image est espacée de 40ms\n"
   ]
  },
  {
   "cell_type": "code",
   "execution_count": null,
   "id": "strategic-manitoba",
   "metadata": {},
   "outputs": [],
   "source": []
  },
  {
   "cell_type": "code",
   "execution_count": null,
   "id": "under-disposition",
   "metadata": {},
   "outputs": [],
   "source": []
  },
  {
   "cell_type": "markdown",
   "id": "funny-operation",
   "metadata": {},
   "source": [
    "### function: insert imgs/videos"
   ]
  },
  {
   "cell_type": "code",
   "execution_count": 9,
   "id": "suffering-printing",
   "metadata": {},
   "outputs": [],
   "source": [
    "def get_imgs_from_path(path,fps = -1):\n",
    "    '''\n",
    "    Retourne une liste d'images. La liste d'image a le nombre de fps voulu\n",
    "    '''\n",
    "    cap = cv2.VideoCapture(path)\n",
    "    fps_actu = cap.get(cv2.CAP_PROP_FPS)\n",
    "    if fps <= -1: fps = fps_actu #Je peux ne pas donner de fps et ça va prendre le nombre d'fps initial\n",
    "    ecart_voulu = int(1000/fps)\n",
    "    ecart_initial = int(1000/fps_actu)\n",
    "    imgs = []\n",
    "    \n",
    "    \n",
    "    while(cap.isOpened()):\n",
    "        ret, frame = cap.read()\n",
    "\n",
    "        if ret: #Sinon ça plante quand il n'y a plus d'images\n",
    "            \n",
    "            #Bonne couleur\n",
    "            frame_RGB = cv2.cvtColor(frame, cv2.COLOR_BGR2RGB)\n",
    "\n",
    "            \n",
    "            #Récupère seulement certaines images\n",
    "            t_ms = cap.get(cv2.CAP_PROP_POS_MSEC)\n",
    "            modulo = t_ms % ecart_voulu\n",
    "            if modulo < ecart_initial:\n",
    "                #Isoler les images\n",
    "                imgs.append(frame_RGB)\n",
    "            \n",
    "        else: #Va jusqu'au bout de la vidéo\n",
    "            break\n",
    "    else:\n",
    "        print(\"Le fichier n'a pas pu être ouvert\")\n",
    "    cap.release()\n",
    "    \n",
    "    return imgs"
   ]
  },
  {
   "cell_type": "code",
   "execution_count": 10,
   "id": "atlantic-hospital",
   "metadata": {},
   "outputs": [],
   "source": [
    "def get_mov_imgs_from_path(path,fps = -1):\n",
    "    '''\n",
    "    Retourne une liste d'images. La liste d'image a le nombre de fps voulu\n",
    "    reprend que le mouvement\n",
    "    '''\n",
    "    cap = cv2.VideoCapture(path)\n",
    "    fps_actu = cap.get(cv2.CAP_PROP_FPS)\n",
    "    print(f\"Fps de ma video n° {path}: {fps_actu}\")\n",
    "    if fps <= -1: fps = fps_actu #Je peux ne pas donner de fps et ça va prendre le nombre d'fps initial\n",
    "    ecart_voulu = int(1000/fps)\n",
    "    ecart_initial = int(1000/fps_actu)\n",
    "    imgs = []\n",
    "    \n",
    "    ret, frame = cap.read()\n",
    "    \n",
    "    while(cap.isOpened()):\n",
    "        prev = frame\n",
    "        ret, frame = cap.read()\n",
    "\n",
    "        if ret: #Sinon ça plante quand il n'y a plus d'images\n",
    "            #Récupère seulement certaines images\n",
    "            t_ms = cap.get(cv2.CAP_PROP_POS_MSEC)\n",
    "            modulo = t_ms % ecart_voulu\n",
    "            if modulo < ecart_initial:\n",
    "                #Isoler les images\n",
    "                \n",
    "                diff = cv2.absdiff(frame,prev)  \n",
    "                \n",
    "                diff_gray = cv2.cvtColor(diff,cv2.COLOR_BGR2GRAY)\n",
    "                \n",
    "                #Normalisation foireuse pour avoir une belle image\n",
    "                max_ = np.max(diff_gray)\n",
    "                ratio = 255.0 / max_\n",
    "                diff_gray = diff_gray * ratio\n",
    "                \n",
    "                \n",
    "                #_,diff_thresh = cv2.threshold(diff_gray,15,255,cv2.THRESH_BINARY)\n",
    "                #diff_thresh, c'est juste le mouvement Ici on isole l'image en couleur\n",
    "                #frame_rgb = cv2.cvtColor(frame,cv2.COLOR_BGR2RGB)\n",
    "                #J'isole le mouvement de l'image initiale pour avoir une sortie en couleur\n",
    "                #mov = cv2.bitwise_and(frame_rgb,frame_rgb,mask = diff_thresh)\n",
    "                \n",
    "                #On va travailler avec des images en nuance de gris, c'est bcp plus simple\n",
    "                imgs.append(diff_gray)\n",
    "            \n",
    "        else: #Va jusqu'au bout de la vidéo\n",
    "            break\n",
    "    else:\n",
    "        print(\"Le fichier n'a pas pu être ouvert\")\n",
    "    cap.release()\n",
    "    \n",
    "    return imgs"
   ]
  },
  {
   "cell_type": "code",
   "execution_count": 21,
   "id": "meaning-program",
   "metadata": {},
   "outputs": [
    {
     "name": "stdout",
     "output_type": "stream",
     "text": [
      "Fps de ma video n° DATA\\Videos\\video_101.avi: 25.0\n"
     ]
    }
   ],
   "source": [
    "mov_imgs = get_mov_imgs_from_path('DATA\\\\Videos\\\\video_101.avi',-1)\n",
    "#mov_imgs = resize_imgs(mov_imgs,(160,120))"
   ]
  },
  {
   "cell_type": "code",
   "execution_count": 22,
   "id": "stunning-democrat",
   "metadata": {},
   "outputs": [
    {
     "name": "stdout",
     "output_type": "stream",
     "text": [
      "(480, 640)\n"
     ]
    },
    {
     "data": {
      "image/png": "[encoded data removed]",
      "text/plain": [
       "<Figure size 1440x4320 with 12 Axes>"
      ]
     },
     "metadata": {
      "needs_background": "light"
     },
     "output_type": "display_data"
    }
   ],
   "source": [
    "plt.figure(figsize=(20,60)) #(20,60) pour des images en (120,160). (20,180) pour des images en (480,640)\n",
    "print(mov_imgs[1].shape)\n",
    "columns = 7\n",
    "for i, img in enumerate(mov_imgs):\n",
    "    plt.subplot(int(len(img) / columns + 1), columns, i + 1)\n",
    "    plt.imshow(img,\"gray\")"
   ]
  },
  {
   "cell_type": "code",
   "execution_count": 23,
   "id": "rental-evanescence",
   "metadata": {},
   "outputs": [
    {
     "data": {
      "text/plain": [
       "12"
      ]
     },
     "execution_count": 23,
     "metadata": {},
     "output_type": "execute_result"
    }
   ],
   "source": [
    "len(mov_imgs)"
   ]
  },
  {
   "cell_type": "code",
   "execution_count": 172,
   "id": "rental-secret",
   "metadata": {},
   "outputs": [],
   "source": [
    "labels_file = pd.read_csv('DATA\\\\labels_list.csv')\n",
    "labels = labels_file.values"
   ]
  },
  {
   "cell_type": "code",
   "execution_count": 179,
   "id": "certified-delicious",
   "metadata": {},
   "outputs": [
    {
     "name": "stdout",
     "output_type": "stream",
     "text": [
      "12\n"
     ]
    }
   ],
   "source": [
    "print(len(labels))"
   ]
  },
  {
   "cell_type": "code",
   "execution_count": 178,
   "id": "contained-water",
   "metadata": {},
   "outputs": [
    {
     "ename": "IndexError",
     "evalue": "index 12 is out of bounds for axis 0 with size 12",
     "output_type": "error",
     "traceback": [
      "\u001b[1;31m---------------------------------------------------------------------------\u001b[0m",
      "\u001b[1;31mIndexError\u001b[0m                                Traceback (most recent call last)",
      "\u001b[1;32m<ipython-input-178-67c0bb18285c>\u001b[0m in \u001b[0;36m<module>\u001b[1;34m\u001b[0m\n\u001b[1;32m----> 1\u001b[1;33m \u001b[0mlabels\u001b[0m\u001b[1;33m[\u001b[0m\u001b[1;36m12\u001b[0m\u001b[1;33m]\u001b[0m\u001b[1;33m[\u001b[0m\u001b[1;36m0\u001b[0m\u001b[1;33m]\u001b[0m\u001b[1;33m\u001b[0m\u001b[1;33m\u001b[0m\u001b[0m\n\u001b[0m",
      "\u001b[1;31mIndexError\u001b[0m: index 12 is out of bounds for axis 0 with size 12"
     ]
    }
   ],
   "source": [
    "labels[11][0]"
   ]
  },
  {
   "cell_type": "code",
   "execution_count": 171,
   "id": "clinical-fitting",
   "metadata": {},
   "outputs": [
    {
     "name": "stdout",
     "output_type": "stream",
     "text": [
      "98\n"
     ]
    }
   ],
   "source": []
  },
  {
   "cell_type": "code",
   "execution_count": null,
   "id": "positive-savannah",
   "metadata": {},
   "outputs": [],
   "source": []
  },
  {
   "cell_type": "markdown",
   "id": "champion-spanish",
   "metadata": {},
   "source": [
    "### function: resize"
   ]
  },
  {
   "cell_type": "code",
   "execution_count": 15,
   "id": "toxic-diary",
   "metadata": {},
   "outputs": [],
   "source": [
    "def resize_imgs(imgs,nsize):\n",
    "    '''\n",
    "    Change la taille de l'image.\n",
    "    Le premier élément de nsize est la longueur (width), le deuxième la hauteur (height)\n",
    "    '''\n",
    "   # new_imgs = []\n",
    "  #  for img in imgs:\n",
    " #       new_imgs.append(cv2.resize(img, dsize=nsize, interpolation=cv2.INTER_CUBIC))\n",
    "#    return new_imgs\n",
    "    return [cv2.resize(img, dsize=nsize, interpolation=cv2.INTER_CUBIC) for img in imgs]"
   ]
  },
  {
   "cell_type": "code",
   "execution_count": 16,
   "id": "seasonal-split",
   "metadata": {},
   "outputs": [],
   "source": [
    "#plt.imshow(imgs[2])"
   ]
  },
  {
   "cell_type": "code",
   "execution_count": 17,
   "id": "expired-correlation",
   "metadata": {},
   "outputs": [],
   "source": [
    "def reduce_fps(imgs,ratio = 6):\n",
    "    '''\n",
    "    imgs est une liste d'images\n",
    "    1/ratio est le nombre d'images qu'on garde\n",
    "    '''\n",
    "    new_imgs = []\n",
    "    for i,img in enumerate(imgs):\n",
    "        if i % ratio == 0:\n",
    "            new_imgs.append(img)\n",
    "    return new_imgs    "
   ]
  },
  {
   "cell_type": "code",
   "execution_count": null,
   "id": "infrared-israeli",
   "metadata": {},
   "outputs": [],
   "source": []
  },
  {
   "cell_type": "code",
   "execution_count": null,
   "id": "hawaiian-genesis",
   "metadata": {},
   "outputs": [],
   "source": []
  },
  {
   "cell_type": "code",
   "execution_count": null,
   "id": "maritime-calculator",
   "metadata": {},
   "outputs": [],
   "source": []
  },
  {
   "cell_type": "code",
   "execution_count": null,
   "id": "environmental-forum",
   "metadata": {},
   "outputs": [],
   "source": []
  },
  {
   "cell_type": "code",
   "execution_count": null,
   "id": "located-newfoundland",
   "metadata": {},
   "outputs": [],
   "source": []
  },
  {
   "cell_type": "code",
   "execution_count": null,
   "id": "technological-translation",
   "metadata": {},
   "outputs": [],
   "source": []
  },
  {
   "cell_type": "code",
   "execution_count": null,
   "id": "understood-accent",
   "metadata": {},
   "outputs": [],
   "source": []
  },
  {
   "cell_type": "code",
   "execution_count": null,
   "id": "joined-window",
   "metadata": {},
   "outputs": [],
   "source": []
  },
  {
   "cell_type": "code",
   "execution_count": null,
   "id": "comparable-portal",
   "metadata": {},
   "outputs": [],
   "source": []
  },
  {
   "cell_type": "code",
   "execution_count": null,
   "id": "arctic-disabled",
   "metadata": {},
   "outputs": [],
   "source": []
  },
  {
   "cell_type": "code",
   "execution_count": null,
   "id": "blessed-storm",
   "metadata": {},
   "outputs": [],
   "source": []
  },
  {
   "cell_type": "code",
   "execution_count": null,
   "id": "taken-visit",
   "metadata": {},
   "outputs": [],
   "source": [
    "\n"
   ]
  },
  {
   "cell_type": "markdown",
   "id": "anticipated-arbitration",
   "metadata": {},
   "source": [
    "## Real Insert"
   ]
  },
  {
   "cell_type": "code",
   "execution_count": 18,
   "id": "municipal-honey",
   "metadata": {},
   "outputs": [
    {
     "name": "stdout",
     "output_type": "stream",
     "text": [
      "Fps de ma video n° Data\\Videos\\video_0.avi: 25.0\n",
      "Fps de ma video n° Data\\Videos\\video_1.avi: 25.0\n",
      "Fps de ma video n° Data\\Videos\\video_2.avi: 25.0\n",
      "Fps de ma video n° Data\\Videos\\video_3.avi: 25.0\n",
      "Fps de ma video n° Data\\Videos\\video_4.avi: 25.0\n",
      "Fps de ma video n° Data\\Videos\\video_5.avi: 25.0\n",
      "Fps de ma video n° Data\\Videos\\video_6.avi: 25.0\n",
      "Fps de ma video n° Data\\Videos\\video_7.avi: 25.0\n",
      "Fps de ma video n° Data\\Videos\\video_8.avi: 25.0\n",
      "Fps de ma video n° Data\\Videos\\video_9.avi: 25.0\n",
      "Fps de ma video n° Data\\Videos\\video_10.avi: 25.0\n",
      "Fps de ma video n° Data\\Videos\\video_11.avi: 25.0\n",
      "Fps de ma video n° Data\\Videos\\video_12.avi: 25.0\n",
      "Fps de ma video n° Data\\Videos\\video_13.avi: 25.0\n",
      "Fps de ma video n° Data\\Videos\\video_14.avi: 25.0\n",
      "Fps de ma video n° Data\\Videos\\video_15.avi: 25.0\n",
      "Fps de ma video n° Data\\Videos\\video_16.avi: 25.0\n",
      "Fps de ma video n° Data\\Videos\\video_17.avi: 25.0\n",
      "Fps de ma video n° Data\\Videos\\video_18.avi: 25.0\n",
      "Fps de ma video n° Data\\Videos\\video_19.avi: 25.0\n",
      "Fps de ma video n° Data\\Videos\\video_20.avi: 25.0\n",
      "Fps de ma video n° Data\\Videos\\video_21.avi: 25.0\n",
      "Fps de ma video n° Data\\Videos\\video_22.avi: 25.0\n",
      "Fps de ma video n° Data\\Videos\\video_23.avi: 25.0\n",
      "Fps de ma video n° Data\\Videos\\video_24.avi: 25.0\n",
      "Fps de ma video n° Data\\Videos\\video_25.avi: 25.0\n",
      "Fps de ma video n° Data\\Videos\\video_26.avi: 25.0\n",
      "Fps de ma video n° Data\\Videos\\video_27.avi: 25.0\n",
      "Fps de ma video n° Data\\Videos\\video_28.avi: 25.0\n",
      "Fps de ma video n° Data\\Videos\\video_29.avi: 25.0\n",
      "Fps de ma video n° Data\\Videos\\video_30.avi: 25.0\n",
      "Fps de ma video n° Data\\Videos\\video_31.avi: 25.0\n",
      "Fps de ma video n° Data\\Videos\\video_32.avi: 25.0\n",
      "Fps de ma video n° Data\\Videos\\video_33.avi: 25.0\n",
      "Fps de ma video n° Data\\Videos\\video_34.avi: 25.0\n",
      "Fps de ma video n° Data\\Videos\\video_35.avi: 25.0\n",
      "Fps de ma video n° Data\\Videos\\video_36.avi: 25.0\n",
      "Fps de ma video n° Data\\Videos\\video_37.avi: 25.0\n",
      "Fps de ma video n° Data\\Videos\\video_38.avi: 25.0\n",
      "Fps de ma video n° Data\\Videos\\video_39.avi: 25.0\n",
      "Fps de ma video n° Data\\Videos\\video_40.avi: 25.0\n",
      "Fps de ma video n° Data\\Videos\\video_41.avi: 25.0\n",
      "Fps de ma video n° Data\\Videos\\video_42.avi: 25.0\n",
      "Fps de ma video n° Data\\Videos\\video_43.avi: 25.0\n",
      "Fps de ma video n° Data\\Videos\\video_44.avi: 25.0\n",
      "Fps de ma video n° Data\\Videos\\video_45.avi: 25.0\n",
      "Fps de ma video n° Data\\Videos\\video_46.avi: 25.0\n",
      "Fps de ma video n° Data\\Videos\\video_47.avi: 25.0\n",
      "Fps de ma video n° Data\\Videos\\video_48.avi: 25.0\n",
      "Fps de ma video n° Data\\Videos\\video_49.avi: 25.0\n",
      "Fps de ma video n° Data\\Videos\\video_50.avi: 25.0\n",
      "Fps de ma video n° Data\\Videos\\video_51.avi: 25.0\n",
      "Fps de ma video n° Data\\Videos\\video_52.avi: 25.0\n",
      "Fps de ma video n° Data\\Videos\\video_53.avi: 25.0\n",
      "Fps de ma video n° Data\\Videos\\video_54.avi: 25.0\n",
      "Fps de ma video n° Data\\Videos\\video_55.avi: 25.0\n",
      "Fps de ma video n° Data\\Videos\\video_56.avi: 25.0\n",
      "Fps de ma video n° Data\\Videos\\video_57.avi: 25.0\n",
      "Fps de ma video n° Data\\Videos\\video_58.avi: 25.0\n",
      "Fps de ma video n° Data\\Videos\\video_59.avi: 25.0\n",
      "Fps de ma video n° Data\\Videos\\video_60.avi: 25.0\n",
      "Fps de ma video n° Data\\Videos\\video_61.avi: 25.0\n",
      "Fps de ma video n° Data\\Videos\\video_62.avi: 25.0\n",
      "Fps de ma video n° Data\\Videos\\video_63.avi: 25.0\n",
      "Fps de ma video n° Data\\Videos\\video_64.avi: 25.0\n",
      "Fps de ma video n° Data\\Videos\\video_65.avi: 25.0\n",
      "Fps de ma video n° Data\\Videos\\video_66.avi: 25.0\n",
      "Fps de ma video n° Data\\Videos\\video_67.avi: 25.0\n",
      "Fps de ma video n° Data\\Videos\\video_68.avi: 25.0\n",
      "Fps de ma video n° Data\\Videos\\video_69.avi: 25.0\n",
      "Fps de ma video n° Data\\Videos\\video_70.avi: 25.0\n",
      "Fps de ma video n° Data\\Videos\\video_71.avi: 25.0\n",
      "Fps de ma video n° Data\\Videos\\video_72.avi: 25.0\n",
      "Fps de ma video n° Data\\Videos\\video_73.avi: 25.0\n",
      "Fps de ma video n° Data\\Videos\\video_74.avi: 25.0\n",
      "Fps de ma video n° Data\\Videos\\video_75.avi: 25.0\n",
      "Fps de ma video n° Data\\Videos\\video_76.avi: 25.0\n",
      "Fps de ma video n° Data\\Videos\\video_77.avi: 25.0\n",
      "Fps de ma video n° Data\\Videos\\video_78.avi: 25.0\n",
      "Fps de ma video n° Data\\Videos\\video_79.avi: 25.0\n",
      "Fps de ma video n° Data\\Videos\\video_80.avi: 25.0\n",
      "Fps de ma video n° Data\\Videos\\video_81.avi: 25.0\n",
      "Fps de ma video n° Data\\Videos\\video_82.avi: 25.0\n",
      "Fps de ma video n° Data\\Videos\\video_83.avi: 25.0\n",
      "Fps de ma video n° Data\\Videos\\video_84.avi: 25.0\n",
      "Fps de ma video n° Data\\Videos\\video_85.avi: 25.0\n",
      "Fps de ma video n° Data\\Videos\\video_86.avi: 25.0\n",
      "Fps de ma video n° Data\\Videos\\video_87.avi: 25.0\n",
      "Fps de ma video n° Data\\Videos\\video_88.avi: 25.0\n",
      "Fps de ma video n° Data\\Videos\\video_89.avi: 25.0\n",
      "Fps de ma video n° Data\\Videos\\video_90.avi: 25.0\n",
      "Fps de ma video n° Data\\Videos\\video_91.avi: 25.0\n",
      "Fps de ma video n° Data\\Videos\\video_92.avi: 25.0\n",
      "Fps de ma video n° Data\\Videos\\video_93.avi: 25.0\n",
      "Fps de ma video n° Data\\Videos\\video_94.avi: 25.0\n",
      "Fps de ma video n° Data\\Videos\\video_95.avi: 25.0\n",
      "Fps de ma video n° Data\\Videos\\video_96.avi: 25.0\n",
      "Fps de ma video n° Data\\Videos\\video_97.avi: 25.0\n",
      "Fps de ma video n° Data\\Videos\\video_98.avi: 25.0\n",
      "ça a prit 22.315294981002808 secondes\n"
     ]
    }
   ],
   "source": [
    "#Récupère toutes les vidéos, prend slmt z fps et les resize\n",
    "import time\n",
    "folder_path = 'Data\\\\Videos\\\\'\n",
    "fps = -1\n",
    "size = (320,240) # La shape initial est (480, 640, 3), Il faut inverser le sens de with et height.\n",
    "#Size demi par rapport à initial\n",
    "\n",
    "start = time.time()\n",
    "X = []\n",
    "for name in X_link:\n",
    "    file_path = folder_path + name\n",
    "    imgs_of_video = get_mov_imgs_from_path(file_path,fps)\n",
    "    resized_imgs = resize_imgs(imgs_of_video, size)\n",
    "    X.append(resized_imgs)\n",
    "end = time.time()\n",
    "print(f\"ça a prit {end-start} secondes\")"
   ]
  },
  {
   "cell_type": "code",
   "execution_count": 19,
   "id": "starting-grant",
   "metadata": {},
   "outputs": [
    {
     "name": "stdout",
     "output_type": "stream",
     "text": [
      "Il y a 99 vidéos et 99 labels\n",
      "(240, 320)\n"
     ]
    }
   ],
   "source": [
    "print(f\"Il y a {len(X)} vidéos et {len(y)} labels\") #Petite vérification\n",
    "print(X[0][0].shape)"
   ]
  },
  {
   "cell_type": "code",
   "execution_count": 22,
   "id": "complicated-secretariat",
   "metadata": {},
   "outputs": [
    {
     "data": {
      "text/plain": [
       "['58 , 0',\n",
       " '59 , 1',\n",
       " '59 , 2',\n",
       " '59 , 3',\n",
       " '52 , 4',\n",
       " '38 , 5',\n",
       " '49 , 6',\n",
       " '43 , 7',\n",
       " '43 , 8',\n",
       " '51 , 9',\n",
       " '50 , 10',\n",
       " '53 , 11',\n",
       " '59 , 12',\n",
       " '61 , 13',\n",
       " '56 , 14',\n",
       " '50 , 15',\n",
       " '44 , 16',\n",
       " '52 , 17',\n",
       " '52 , 18',\n",
       " '53 , 19',\n",
       " '59 , 20',\n",
       " '59 , 21',\n",
       " '59 , 22',\n",
       " '59 , 23',\n",
       " '60 , 24',\n",
       " '59 , 25',\n",
       " '59 , 26',\n",
       " '59 , 27',\n",
       " '59 , 28',\n",
       " '59 , 29',\n",
       " '59 , 30',\n",
       " '59 , 31',\n",
       " '60 , 32',\n",
       " '59 , 33',\n",
       " '60 , 34',\n",
       " '59 , 35',\n",
       " '59 , 36',\n",
       " '59 , 37',\n",
       " '59 , 38',\n",
       " '59 , 39',\n",
       " '59 , 40',\n",
       " '60 , 41',\n",
       " '59 , 42',\n",
       " '59 , 43',\n",
       " '59 , 44',\n",
       " '59 , 45',\n",
       " '59 , 46',\n",
       " '60 , 47',\n",
       " '59 , 48',\n",
       " '59 , 49',\n",
       " '60 , 50',\n",
       " '59 , 51',\n",
       " '59 , 52',\n",
       " '59 , 53',\n",
       " '58 , 54',\n",
       " '59 , 55',\n",
       " '60 , 56',\n",
       " '59 , 57',\n",
       " '59 , 58',\n",
       " '60 , 59',\n",
       " '59 , 60',\n",
       " '59 , 61',\n",
       " '60 , 62',\n",
       " '60 , 63',\n",
       " '60 , 64',\n",
       " '60 , 65',\n",
       " '59 , 66',\n",
       " '60 , 67',\n",
       " '59 , 68',\n",
       " '59 , 69',\n",
       " '58 , 70',\n",
       " '59 , 71',\n",
       " '60 , 72',\n",
       " '59 , 73',\n",
       " '59 , 74',\n",
       " '59 , 75',\n",
       " '59 , 76',\n",
       " '60 , 77',\n",
       " '60 , 78',\n",
       " '61 , 79',\n",
       " '60 , 80',\n",
       " '59 , 81',\n",
       " '59 , 82',\n",
       " '59 , 83',\n",
       " '58 , 84',\n",
       " '59 , 85',\n",
       " '59 , 86',\n",
       " '60 , 87',\n",
       " '60 , 88',\n",
       " '59 , 89',\n",
       " '59 , 90',\n",
       " '60 , 91',\n",
       " '59 , 92',\n",
       " '59 , 93',\n",
       " '59 , 94',\n",
       " '59 , 95',\n",
       " '59 , 96',\n",
       " '60 , 97',\n",
       " '58 , 98']"
      ]
     },
     "execution_count": 22,
     "metadata": {},
     "output_type": "execute_result"
    }
   ],
   "source": [
    "[f\"{len(vid)} , {e}\" for e,vid in enumerate(X)] # Toutes les vidéos n'ont pas le même nombre de frame\n"
   ]
  },
  {
   "cell_type": "code",
   "execution_count": 21,
   "id": "reserved-pepper",
   "metadata": {},
   "outputs": [
    {
     "name": "stdout",
     "output_type": "stream",
     "text": [
      "(240, 320)\n"
     ]
    },
    {
     "data": {
      "image/png": "[encoded data removed]",
      "text/plain": [
       "<Figure size 432x288 with 1 Axes>"
      ]
     },
     "metadata": {
      "needs_background": "light"
     },
     "output_type": "display_data"
    }
   ],
   "source": [
    "plt.imshow(X[0][3])\n",
    "print(X[0][3].shape)"
   ]
  },
  {
   "cell_type": "markdown",
   "id": "similar-bradford",
   "metadata": {},
   "source": [
    "C'est ok pour l'import des vidéos et le traitement de celles-ci\n",
    "On prend un certain nombre de FPS, leur taille est réduite et elles sont mises dans une grande liste \n",
    "dont l'index correspond à l'index du label dans y"
   ]
  },
  {
   "cell_type": "code",
   "execution_count": null,
   "id": "respiratory-retrieval",
   "metadata": {},
   "outputs": [],
   "source": []
  },
  {
   "cell_type": "markdown",
   "id": "experienced-lesson",
   "metadata": {},
   "source": [
    "## Modele fabrication"
   ]
  },
  {
   "cell_type": "code",
   "execution_count": 19,
   "id": "tamil-median",
   "metadata": {},
   "outputs": [],
   "source": [
    "import tensorflow as tf\n",
    "from tensorflow import keras\n",
    "from tensorflow.keras import layers"
   ]
  },
  {
   "cell_type": "code",
   "execution_count": null,
   "id": "native-groove",
   "metadata": {},
   "outputs": [],
   "source": []
  },
  {
   "cell_type": "code",
   "execution_count": null,
   "id": "super-cooling",
   "metadata": {},
   "outputs": [],
   "source": []
  },
  {
   "cell_type": "code",
   "execution_count": null,
   "id": "identical-montreal",
   "metadata": {},
   "outputs": [],
   "source": []
  },
  {
   "cell_type": "markdown",
   "id": "willing-former",
   "metadata": {},
   "source": [
    "## Model Training"
   ]
  },
  {
   "cell_type": "code",
   "execution_count": null,
   "id": "cognitive-caution",
   "metadata": {},
   "outputs": [],
   "source": []
  },
  {
   "cell_type": "code",
   "execution_count": null,
   "id": "still-survey",
   "metadata": {},
   "outputs": [],
   "source": []
  },
  {
   "cell_type": "code",
   "execution_count": null,
   "id": "referenced-christian",
   "metadata": {},
   "outputs": [],
   "source": []
  },
  {
   "cell_type": "markdown",
   "id": "lovely-router",
   "metadata": {},
   "source": [
    "## Modele test \n",
    "\n"
   ]
  },
  {
   "cell_type": "code",
   "execution_count": null,
   "id": "running-compression",
   "metadata": {},
   "outputs": [],
   "source": []
  },
  {
   "cell_type": "code",
   "execution_count": null,
   "id": "regular-conservative",
   "metadata": {},
   "outputs": [],
   "source": []
  },
  {
   "cell_type": "code",
   "execution_count": null,
   "id": "mighty-forty",
   "metadata": {},
   "outputs": [],
   "source": []
  },
  {
   "cell_type": "code",
   "execution_count": null,
   "id": "bored-diagram",
   "metadata": {},
   "outputs": [],
   "source": []
  },
  {
   "cell_type": "code",
   "execution_count": null,
   "id": "introductory-pledge",
   "metadata": {},
   "outputs": [],
   "source": []
  }
 ],
 "metadata": {
  "kernelspec": {
   "display_name": "Python 3",
   "language": "python",
   "name": "python3"
  },
  "language_info": {
   "codemirror_mode": {
    "name": "ipython",
    "version": 3
   },
   "file_extension": ".py",
   "mimetype": "text/x-python",
   "name": "python",
   "nbconvert_exporter": "python",
   "pygments_lexer": "ipython3",
   "version": "3.8.8"
  }
 },
 "nbformat": 4,
 "nbformat_minor": 5
}
