{
 "cells": [
  {
   "cell_type": "markdown",
   "id": "overhead-robin",
   "metadata": {},
   "source": [
    "# Modele de réseau neuronale"
   ]
  },
  {
   "cell_type": "markdown",
   "id": "baking-disaster",
   "metadata": {},
   "source": [
    "19/4/21 11:20\n",
    "Un nouveau modele est pret à être train"
   ]
  },
  {
   "cell_type": "markdown",
   "id": "meaning-board",
   "metadata": {},
   "source": [
    "## Imports"
   ]
  },
  {
   "cell_type": "code",
   "execution_count": 19,
   "id": "southwest-insured",
   "metadata": {},
   "outputs": [],
   "source": [
    "import matplotlib.pyplot as plt\n",
    "import cv2\n",
    "import numpy as np\n",
    "#import seaborn as sns #On ne sait jamais que ça serve\n",
    "import pandas as pd \n",
    "from sklearn.preprocessing import MinMaxScaler #Normalisation #Il faut l'installer aussi avec conda install\n",
    "import random\n",
    "from math import ceil\n",
    "import os\n",
    "\n",
    "import tensorflow as tf\n",
    "from tensorflow import keras\n",
    "from tensorflow.keras import layers, Sequential\n",
    "from tensorflow.keras.layers import  Dense, Conv3D, BatchNormalization,MaxPooling3D, Dropout, LSTM, ConvLSTM2D\n",
    "from tensorflow.keras.utils import to_categorical\n",
    "from tensorflow.keras.callbacks import TensorBoard\n",
    "\n",
    "\n",
    "#conda install pydot\n",
    "#conda install pydotplus\n",
    "#conda install graphviz\n",
    "from tensorflow.keras.utils import plot_model\n",
    "#import pydot\n",
    "\n",
    "\n",
    "import threading\n",
    "from queue import Queue, Empty\n",
    "from time import sleep, time"
   ]
  },
  {
   "cell_type": "code",
   "execution_count": null,
   "id": "occupied-repair",
   "metadata": {},
   "outputs": [],
   "source": []
  },
  {
   "cell_type": "markdown",
   "id": "diagnostic-maximum",
   "metadata": {},
   "source": [
    "### Paramètres généraux"
   ]
  },
  {
   "cell_type": "code",
   "execution_count": 2,
   "id": "fancy-provincial",
   "metadata": {},
   "outputs": [],
   "source": [
    "fps = 10\n",
    "size = (100,75) #(40,30)\n",
    "nb_classes = 10 #Nombre de classes\n",
    "epochs = 2 #20\n",
    "batch_size = 25\n",
    "pack_size = 50\n",
    "learning_rate = 0.001\n",
    "modele_n = 10"
   ]
  },
  {
   "cell_type": "code",
   "execution_count": 3,
   "id": "foreign-personal",
   "metadata": {},
   "outputs": [
    {
     "name": "stdout",
     "output_type": "stream",
     "text": [
      "Saved_model\\model_convLSTM2D_10_10_75_100_10_2_25_50_1mili\n"
     ]
    }
   ],
   "source": [
    "#Verification qu'un modele avec ces paramètres n'existe pas déjà\n",
    "folder = 'Saved_model'\n",
    "modele_type = 'model_convLSTM2D'\n",
    "param = f\"_{modele_n}_{fps}_{size[1]}_{size[0]}_{nb_classes}_{epochs}_{batch_size}_{pack_size}_{int(learning_rate*1000)}mili\"\n",
    "full_name = folder + '\\\\' + modele_type + param\n",
    "print(full_name)"
   ]
  },
  {
   "cell_type": "markdown",
   "id": "entitled-condition",
   "metadata": {},
   "source": [
    "## Fonctions d'imports et preprocess"
   ]
  },
  {
   "cell_type": "markdown",
   "id": "virtual-magazine",
   "metadata": {},
   "source": [
    "#### Import"
   ]
  },
  {
   "cell_type": "code",
   "execution_count": 4,
   "id": "smart-collection",
   "metadata": {},
   "outputs": [],
   "source": [
    "def get_mov_imgs_from_path(path,fps = -1,color = 'gray'):\n",
    "    '''\n",
    "    Retourne une liste d'images pour une vidéo. La liste d'image a le nombre de fps voulu\n",
    "    reprend que le mouvement\n",
    "    '''\n",
    "    \n",
    "    cap = cv2.VideoCapture(path)\n",
    "    try:\n",
    "        fps_actu = cap.get(cv2.CAP_PROP_FPS)\n",
    "    #     print(f\"Traitement de la video n° {path}       \",end=\"\\r\")\n",
    "        if fps <= -1: fps = fps_actu #Je peux ne pas donner de fps et ça va prendre le nombre d'fps initial\n",
    "        ecart_voulu = int(1000/fps)\n",
    "        ecart_initial = int(1000/fps_actu)\n",
    "        imgs = []\n",
    "\n",
    "        ret, frame = cap.read()\n",
    "        while(cap.isOpened()):\n",
    "            prev = frame\n",
    "            ret, frame = cap.read()\n",
    "\n",
    "\n",
    "\n",
    "            if ret: #Sinon ça plante quand il n'y a plus d'images\n",
    "                #Récupère seulement certaines images\n",
    "                t_ms = cap.get(cv2.CAP_PROP_POS_MSEC)\n",
    "                modulo = t_ms % ecart_voulu\n",
    "                if modulo < ecart_initial:\n",
    "                    #Isoler les images\n",
    "\n",
    "                    if color == 'gray':\n",
    "                        gray = cv2.cvtColor(frame,cv2.COLOR_BGR2GRAY)\n",
    "                        prev_gray = cv2.cvtColor(prev,cv2.COLOR_BGR2GRAY)\n",
    "                        diff_gray = cv2.absdiff(gray,prev_gray)\n",
    "\n",
    "                    elif color == 'rgb':\n",
    "                        diff_gray = cv2.absdiff(frame,prev) \n",
    "\n",
    "\n",
    "                    #Première normalisation (elle n'est peut-être pas obligatoire)\n",
    "                    max_ = np.max(diff_gray)\n",
    "                    if max_ == 0:\n",
    "                        max_ = 1\n",
    "                    ratio = 255.0 / max_\n",
    "                    diff_gray = diff_gray * ratio\n",
    "\n",
    "\n",
    "                    #On va travailler avec des images en nuance de gris, c'est bcp plus simple\n",
    "                    imgs.append(diff_gray)\n",
    "\n",
    "            else: #Va jusqu'au bout de la vidéo\n",
    "                break\n",
    "        else:\n",
    "            print(\"Le fichier n'a pas pu être ouvert\")\n",
    "    except:\n",
    "        print(f\"IL Y A UN PROBLEME AVEC LA VIDEO: {path}\")\n",
    "        return None\n",
    "    cap.release()\n",
    "    \n",
    "    return imgs"
   ]
  },
  {
   "cell_type": "markdown",
   "id": "absent-persian",
   "metadata": {},
   "source": [
    "#### Resize"
   ]
  },
  {
   "cell_type": "code",
   "execution_count": 5,
   "id": "occasional-marketplace",
   "metadata": {},
   "outputs": [],
   "source": [
    "def resize_imgs(imgs,nsize):\n",
    "    '''\n",
    "    Change la taille de l'image.\n",
    "    Le premier élément de nsize est la longueur (width), le deuxième la hauteur (height)\n",
    "    '''\n",
    "    return [cv2.resize(img, dsize=nsize, interpolation=cv2.INTER_CUBIC) for img in imgs]"
   ]
  },
  {
   "cell_type": "markdown",
   "id": "fifth-facing",
   "metadata": {},
   "source": [
    "#### Normalisation"
   ]
  },
  {
   "cell_type": "code",
   "execution_count": 6,
   "id": "alpine-raising",
   "metadata": {},
   "outputs": [],
   "source": [
    "def normalize_imgs(imgs):\n",
    "    '''\n",
    "    Normalise une série d'images\n",
    "    '''\n",
    "    return [cv2.normalize(img,0,1,cv2.NORM_MINMAX) for img in imgs]"
   ]
  },
  {
   "cell_type": "markdown",
   "id": "prompt-pierce",
   "metadata": {},
   "source": [
    "## Fonction de générateur"
   ]
  },
  {
   "cell_type": "code",
   "execution_count": 50,
   "id": "nominated-savings",
   "metadata": {},
   "outputs": [],
   "source": [
    "def my_gen(labels_list, folder_path, pack_size = 10, pointer = 0, fps = 5, size = (160,120)):\n",
    "    '''\n",
    "    à partir de la liste des labels et de la position du foler\n",
    "    Retourne:\n",
    "    -une liste d'images de vidéos de shape (pack_size,n_frames,height,width[,channels])\n",
    "        n_frames = fps*2.4\n",
    "    -Une liste de numérique avec les labels correspondant aux images (de len = batch_size)\n",
    "    -Un pointer qui permet de faire tourner my_gen à nouveau et recevoir les éléments suivants de la liste\n",
    "    \n",
    "    \n",
    "    Normalement on peut envoyer X et y_num dans le modele directement (avec fit ou train_on_batch, les deux devraient fonctionner)\n",
    "    Je vais essayer de travailler avec des thread pour avoir un thread en Train et un trhead en gen\n",
    "    '''\n",
    "    #Affiche combien de paquets il faudra\n",
    "    random.shuffle(labels_list)\n",
    "    len_label = len(labels_list)\n",
    "    if pointer == 0:\n",
    "        #Uniquement le premier passage\n",
    "        nb_pack = ceil(len_label/pack_size)\n",
    "        print(f\"Il y aura {nb_pack} packs de {min(pack_size,len_label)} vidéos à importer\")\n",
    "    else:\n",
    "        print(f\"Il reste encore {len_label - pointer} vidéos à importer\")\n",
    "    \n",
    "    y_num = []\n",
    "    X = []\n",
    "    for i in range(pointer, pack_size + pointer):\n",
    "        pointer = i+1\n",
    "        if i >= len_label:\n",
    "            break\n",
    "        label, video_name = labels_list[i]\n",
    "        \n",
    "        #Label en numérique\n",
    "        y_num.append(labels_n[label])\n",
    "        \n",
    "        #Preprocess d'images\n",
    "        file_path = folder_path + \"\\\\\" + video_name\n",
    "        imgs_of_video = get_mov_imgs_from_path(file_path,fps,'gray') #Gray ou rgb\n",
    "        if imgs_of_video == None:\n",
    "            continue\n",
    "        resized_imgs = resize_imgs(imgs_of_video, size)\n",
    "        norm_imgs = normalize_imgs(resized_imgs)\n",
    "        \n",
    "        X.append(norm_imgs)\n",
    "        \n",
    "    print() #Pour ne pas écrire sur la même ligne qu'avant\n",
    "    X = np.array(X)\n",
    "    y = np.array(y_num)\n",
    "    \n",
    "    #Ajouter une dimsension en à la fin est nécessaire pour certains modèle\n",
    "    #Commenter cette ligne si ce n'est pas nécessaire\n",
    "    X = np.expand_dims(X, axis=len(X.shape)) \n",
    "    \n",
    "    # Si le modele est compile avec :loss='sparse_categorical_crossentropy'\n",
    "    # Il faut un y catégorique , faire ça hors de la fonction\n",
    "    #y = to_categorical(y, num_classes = nb_classes)\n",
    "\n",
    "    return (X, y, pointer)"
   ]
  },
  {
   "cell_type": "code",
   "execution_count": 51,
   "id": "mexican-aging",
   "metadata": {},
   "outputs": [],
   "source": [
    "def import_for_test(path, fps = 10, size = (100,75)):\n",
    "    X = []\n",
    "    file_paths = os.listdir(path)\n",
    "    for file in file_paths:\n",
    "        imgs_of_video = get_mov_imgs_from_path(path+\"\\\\\"+file,fps,'gray') #Gray ou rgb\n",
    "        if imgs_of_video == None:\n",
    "            print(\"Il y a un problème avec la video: \",path)\n",
    "            continue\n",
    "        resized_imgs = resize_imgs(imgs_of_video, size)\n",
    "        norm_imgs = normalize_imgs(resized_imgs)\n",
    "        \n",
    "        X.append(norm_imgs)\n",
    "    X = np.array(X)\n",
    "    \n",
    "    #Ajouter une dimsension en à la fin est nécessaire pour certains modèle\n",
    "    #Commenter cette ligne si ce n'est pas nécessaire\n",
    "    X = np.expand_dims(X, axis=len(X.shape)) \n",
    "\n",
    "    return X"
   ]
  },
  {
   "cell_type": "markdown",
   "id": "employed-budapest",
   "metadata": {},
   "source": [
    "## Import des données et traitement"
   ]
  },
  {
   "cell_type": "code",
   "execution_count": null,
   "id": "absent-detroit",
   "metadata": {},
   "outputs": [],
   "source": []
  },
  {
   "cell_type": "code",
   "execution_count": null,
   "id": "pediatric-escape",
   "metadata": {},
   "outputs": [],
   "source": []
  },
  {
   "cell_type": "code",
   "execution_count": 52,
   "id": "conceptual-narrow",
   "metadata": {},
   "outputs": [],
   "source": [
    "#Import des labels\n",
    "labels_csv = pd.read_csv(\"DATA\\\\labels.csv\")\n",
    "labels_name = pd.read_csv(\"DATA\\\\labels_uses.csv\")\n",
    "labels_tests_csv = pd.read_csv(\"DATA\\\\labels_tests.csv\")"
   ]
  },
  {
   "cell_type": "code",
   "execution_count": 53,
   "id": "blond-array",
   "metadata": {},
   "outputs": [],
   "source": [
    "#Créé un dictionnaire qui associe le nom du label et un numérique afin de le mettre dans le modele\n",
    "labels_n = {}\n",
    "for i,label in enumerate(labels_name.values):\n",
    "    labels_n[label[0]] = i\n",
    "    labels_n[i] = label[0]\n",
    "\n",
    "#Tri\n",
    "labels_tests = []\n",
    "for label, video_name in labels_tests_csv.values:\n",
    "    if label in labels_n:\n",
    "        labels_tests.append((label,video_name))\n"
   ]
  },
  {
   "cell_type": "code",
   "execution_count": 54,
   "id": "flying-porcelain",
   "metadata": {},
   "outputs": [],
   "source": [
    "#Import du modele\n",
    "model = keras.models.load_model(\"Saved_model\\\\model_convLSTM2D_8_10_75_100_10_2_50_50_1mili.h5\")"
   ]
  },
  {
   "cell_type": "markdown",
   "id": "choice-accounting",
   "metadata": {},
   "source": [
    "## Tests"
   ]
  },
  {
   "cell_type": "code",
   "execution_count": 55,
   "id": "eight-rachel",
   "metadata": {},
   "outputs": [
    {
     "name": "stdout",
     "output_type": "stream",
     "text": [
      "Il y aura 7 packs de 20 vidéos à importer\n",
      "\n"
     ]
    }
   ],
   "source": [
    "X = import_for_test(\"DATA\\\\temp_video\",fps = fps, size = size)\n",
    "X_test, y_test, _ = my_gen(labels_tests, \"DATA\\\\V_tests\",pack_size = 20,fps = fps, size = size)\n",
    "#Grand pack_size afin de prendre toutes les données"
   ]
  },
  {
   "cell_type": "code",
   "execution_count": 56,
   "id": "final-growth",
   "metadata": {},
   "outputs": [
    {
     "name": "stdout",
     "output_type": "stream",
     "text": [
      "1/1 [==============================] - 0s 997us/step\n"
     ]
    }
   ],
   "source": [
    "y_pred = model.predict(X_test)"
   ]
  },
  {
   "cell_type": "code",
   "execution_count": null,
   "id": "liked-union",
   "metadata": {},
   "outputs": [],
   "source": []
  },
  {
   "cell_type": "code",
   "execution_count": null,
   "id": "featured-difference",
   "metadata": {},
   "outputs": [],
   "source": [
    "X_train, y_train, _ = my_gen(\"DATA\\\\Videos\")"
   ]
  },
  {
   "cell_type": "code",
   "execution_count": null,
   "id": "european-wilson",
   "metadata": {},
   "outputs": [],
   "source": []
  },
  {
   "cell_type": "code",
   "execution_count": null,
   "id": "standing-leeds",
   "metadata": {},
   "outputs": [],
   "source": []
  },
  {
   "cell_type": "code",
   "execution_count": null,
   "id": "knowing-sleep",
   "metadata": {},
   "outputs": [],
   "source": []
  },
  {
   "cell_type": "code",
   "execution_count": null,
   "id": "healthy-detector",
   "metadata": {},
   "outputs": [],
   "source": []
  },
  {
   "cell_type": "code",
   "execution_count": null,
   "id": "eligible-pipeline",
   "metadata": {},
   "outputs": [],
   "source": []
  },
  {
   "cell_type": "code",
   "execution_count": null,
   "id": "sonic-jacket",
   "metadata": {},
   "outputs": [],
   "source": []
  },
  {
   "cell_type": "code",
   "execution_count": null,
   "id": "sealed-scholarship",
   "metadata": {},
   "outputs": [],
   "source": []
  },
  {
   "cell_type": "code",
   "execution_count": null,
   "id": "outside-problem",
   "metadata": {},
   "outputs": [],
   "source": []
  },
  {
   "cell_type": "code",
   "execution_count": null,
   "id": "trying-minimum",
   "metadata": {},
   "outputs": [],
   "source": []
  },
  {
   "cell_type": "markdown",
   "id": "closing-craft",
   "metadata": {},
   "source": [
    "## Affichage d'une video avec la prédiction pour comprendre si le résultat est justifié ou non"
   ]
  },
  {
   "cell_type": "code",
   "execution_count": null,
   "id": "exotic-cyprus",
   "metadata": {},
   "outputs": [],
   "source": [
    "plt.figure(figsize=(20,60)) #(20,60) pour des images en (120,160). (20,180) pour des images en (480,640)\n",
    "#print(X_test.shape)\n",
    "#Visu des mouvements avec une petite size (en fonction des paramètres initiaux)\n",
    "columns = 3\n",
    "vid_a_test = 11\n",
    "print(\"prediction:\",labels_n[y_pred[vid_a_test].argmax()])\n",
    "for i, img in enumerate(X[vid_a_test]):\n",
    "    plt.subplot(int(len(img) / columns + 1), columns, i + 1)\n",
    "    plt.imshow(img)"
   ]
  },
  {
   "cell_type": "code",
   "execution_count": null,
   "id": "sought-pillow",
   "metadata": {},
   "outputs": [],
   "source": []
  },
  {
   "cell_type": "code",
   "execution_count": null,
   "id": "delayed-columbus",
   "metadata": {},
   "outputs": [],
   "source": []
  },
  {
   "cell_type": "code",
   "execution_count": 31,
   "id": "descending-delhi",
   "metadata": {},
   "outputs": [
    {
     "data": {
      "text/plain": [
       "<matplotlib.image.AxesImage at 0x26cdb44b820>"
      ]
     },
     "execution_count": 31,
     "metadata": {},
     "output_type": "execute_result"
    },
    {
     "data": {
      "image/png": "[encoded data removed]",
      "text/plain": [
       "<Figure size 432x288 with 1 Axes>"
      ]
     },
     "metadata": {
      "needs_background": "light"
     },
     "output_type": "display_data"
    }
   ],
   "source": []
  },
  {
   "cell_type": "code",
   "execution_count": null,
   "id": "presidential-personality",
   "metadata": {},
   "outputs": [],
   "source": []
  },
  {
   "cell_type": "markdown",
   "id": "legislative-delivery",
   "metadata": {},
   "source": [
    "### visualisation des  résultats"
   ]
  },
  {
   "cell_type": "code",
   "execution_count": 37,
   "id": "stable-desert",
   "metadata": {},
   "outputs": [],
   "source": [
    "import fidle.pwk as pwk"
   ]
  },
  {
   "cell_type": "code",
   "execution_count": 38,
   "id": "built-champagne",
   "metadata": {},
   "outputs": [
    {
     "data": {
      "text/plain": [
       "'Saved_model\\\\model_convLSTM2D_10_10_75_100_10_2_25_50_1mili'"
      ]
     },
     "execution_count": 38,
     "metadata": {},
     "output_type": "execute_result"
    }
   ],
   "source": [
    "full_name"
   ]
  },
  {
   "cell_type": "code",
   "execution_count": 41,
   "id": "lasting-phenomenon",
   "metadata": {},
   "outputs": [
    {
     "data": {
      "image/png": "[encoded data removed]",
      "text/plain": [
       "<Figure size 720x576 with 2 Axes>"
      ]
     },
     "metadata": {
      "needs_background": "light"
     },
     "output_type": "display_data"
    }
   ],
   "source": [
    "y_pred_arg = np.argmax(y_pred, axis=-1)\n",
    "cfm_plot = pwk.plot_confusion_matrix(y_test,y_pred_arg,range(nb_classes),normalize=True)"
   ]
  },
  {
   "cell_type": "code",
   "execution_count": 42,
   "id": "greenhouse-geometry",
   "metadata": {},
   "outputs": [
    {
     "name": "stdout",
     "output_type": "stream",
     "text": [
      "1/1 [==============================] - 0s 1ms/step - loss: 3.0753 - accuracy: 0.3500\n",
      "Test loss     : 3.075277328491211\n",
      "Test accuracy : 0.3499999940395355\n"
     ]
    }
   ],
   "source": [
    "y_test_cat = to_categorical(y_test,10)\n",
    "score = model.evaluate(X_test, y_test_cat, verbose=1)\n",
    "\n",
    "print('Test loss     :', score[0])\n",
    "print('Test accuracy :', score[1])"
   ]
  },
  {
   "cell_type": "code",
   "execution_count": null,
   "id": "sharp-spirituality",
   "metadata": {},
   "outputs": [],
   "source": [
    "#y_pred"
   ]
  },
  {
   "cell_type": "code",
   "execution_count": 43,
   "id": "convenient-vocabulary",
   "metadata": {},
   "outputs": [
    {
     "name": "stdout",
     "output_type": "stream",
     "text": [
      "la somme est: 1.0000000654254109\n",
      "la somme est: 1.0000000193249434\n",
      "la somme est: 0.9999999750871211\n",
      "la somme est: 0.9999999941792339\n",
      "la somme est: 1.0000000155996531\n",
      "la somme est: 1.000000020954758\n",
      "la somme est: 1.0000001355074346\n",
      "la somme est: 1.0000000651925802\n",
      "la somme est: 0.9999999501742423\n",
      "la somme est: 0.99999999278225\n",
      "la somme est: 1.0000001098960638\n",
      "la somme est: 0.9999999129213393\n",
      "la somme est: 0.999999929452315\n",
      "la somme est: 1.000000027474016\n",
      "la somme est: 1.0000001557637006\n",
      "la somme est: 0.999999959487468\n",
      "la somme est: 1.0000001024454832\n",
      "la somme est: 0.9999999932479113\n",
      "la somme est: 0.9999998754356056\n",
      "la somme est: 1.0000000521540642\n"
     ]
    }
   ],
   "source": [
    "#On vérifie que les résultats sont normalisé\n",
    "for result in y_pred:\n",
    "    print('la somme est:',sum(result))\n",
    "    pass"
   ]
  },
  {
   "cell_type": "code",
   "execution_count": null,
   "id": "fifth-cache",
   "metadata": {},
   "outputs": [],
   "source": [
    "print(labels_n)"
   ]
  },
  {
   "cell_type": "code",
   "execution_count": null,
   "id": "racial-marker",
   "metadata": {},
   "outputs": [],
   "source": [
    "#Je peux afficher l'historique de chaque étape (je n'ai aps réussi à les faire fusionner)\n",
    "#On ne peut afficher que si on a train\n",
    "\n",
    "#history = histories[-1]\n",
    "#pwk.plot_history(history, figsize=(6,4), save_as='03-history')"
   ]
  },
  {
   "cell_type": "markdown",
   "id": "lasting-opening",
   "metadata": {},
   "source": [
    "## Enregistrer le modèle"
   ]
  },
  {
   "cell_type": "code",
   "execution_count": null,
   "id": "massive-reflection",
   "metadata": {},
   "outputs": [],
   "source": [
    "#Le nom est fabriqué en début de notebook"
   ]
  },
  {
   "cell_type": "code",
   "execution_count": null,
   "id": "ignored-shepherd",
   "metadata": {},
   "outputs": [],
   "source": []
  },
  {
   "cell_type": "code",
   "execution_count": null,
   "id": "traditional-grass",
   "metadata": {},
   "outputs": [],
   "source": []
  },
  {
   "cell_type": "code",
   "execution_count": null,
   "id": "comparable-revision",
   "metadata": {},
   "outputs": [],
   "source": [
    "#Enregistrement du résultat dans le csv"
   ]
  },
  {
   "cell_type": "code",
   "execution_count": 43,
   "id": "immediate-newport",
   "metadata": {},
   "outputs": [],
   "source": [
    "def write_score(model_name,score):\n",
    "    labels = open(\"Saved_model\\\\score.csv\",\"a\") #append\n",
    "    labels.write(\"\\n\" + model_name + \",\" + \"{:10.8f}\".format(score[0]) + \",\" + \"{:10.8f}\".format(score[1]))\n",
    "    #Ajoute une nouvelle info sur une nouvelle ligne\n",
    "    labels.close()"
   ]
  },
  {
   "cell_type": "code",
   "execution_count": 14,
   "id": "consolidated-announcement",
   "metadata": {},
   "outputs": [
    {
     "name": "stdout",
     "output_type": "stream",
     "text": [
      "Saved_model\\model_convLSTM2D_10_10_75_100_10_2_25_50_1mili\n"
     ]
    }
   ],
   "source": [
    "print(full_name)"
   ]
  },
  {
   "cell_type": "code",
   "execution_count": 13,
   "id": "multiple-tongue",
   "metadata": {},
   "outputs": [
    {
     "ename": "NameError",
     "evalue": "name 'model_charge' is not defined",
     "output_type": "error",
     "traceback": [
      "\u001b[1;31m---------------------------------------------------------------------------\u001b[0m",
      "\u001b[1;31mNameError\u001b[0m                                 Traceback (most recent call last)",
      "\u001b[1;32m<ipython-input-13-faea10e4e5a2>\u001b[0m in \u001b[0;36m<module>\u001b[1;34m\u001b[0m\n\u001b[0;32m      1\u001b[0m \u001b[1;31m# LSTM, 5 FPS, Height = 60, Width = 80, nb_Classes = 10, 3 Epochs, Batch_size = 10, Pack_size = 50, learning_rate *1000\u001b[0m\u001b[1;33m\u001b[0m\u001b[1;33m\u001b[0m\u001b[1;33m\u001b[0m\u001b[0m\n\u001b[1;32m----> 2\u001b[1;33m \u001b[1;32mif\u001b[0m \u001b[1;32mnot\u001b[0m \u001b[0mmodel_charge\u001b[0m\u001b[1;33m:\u001b[0m \u001b[1;31m#On ne doit charger le modele que si il a été train cette fois-ci\u001b[0m\u001b[1;33m\u001b[0m\u001b[1;33m\u001b[0m\u001b[0m\n\u001b[0m\u001b[0;32m      3\u001b[0m     \u001b[1;31m#write_score(full_name,score)\u001b[0m\u001b[1;33m\u001b[0m\u001b[1;33m\u001b[0m\u001b[1;33m\u001b[0m\u001b[0m\n\u001b[0;32m      4\u001b[0m     \u001b[1;31m#model.save(full_name+\".h5\")\u001b[0m\u001b[1;33m\u001b[0m\u001b[1;33m\u001b[0m\u001b[1;33m\u001b[0m\u001b[0m\n\u001b[0;32m      5\u001b[0m     \u001b[1;32mpass\u001b[0m\u001b[1;33m\u001b[0m\u001b[1;33m\u001b[0m\u001b[0m\n",
      "\u001b[1;31mNameError\u001b[0m: name 'model_charge' is not defined"
     ]
    }
   ],
   "source": [
    "#write_score(full_name,score)\n",
    "#model.save(full_name+\".h5\")"
   ]
  },
  {
   "cell_type": "code",
   "execution_count": null,
   "id": "sized-clause",
   "metadata": {},
   "outputs": [],
   "source": []
  },
  {
   "cell_type": "code",
   "execution_count": null,
   "id": "indian-worth",
   "metadata": {},
   "outputs": [],
   "source": []
  },
  {
   "cell_type": "code",
   "execution_count": null,
   "id": "textile-article",
   "metadata": {},
   "outputs": [],
   "source": []
  },
  {
   "cell_type": "code",
   "execution_count": 42,
   "id": "pending-kingston",
   "metadata": {},
   "outputs": [
    {
     "name": "stdout",
     "output_type": "stream",
     "text": [
      "Nombre de bon : 13  Moyenne : 0.5191479944265806\n",
      "Nombre de mauvais : 117  Moyenne : 0.5220455830423241\n"
     ]
    }
   ],
   "source": [
    "#Compte le nombre de bons et de mauvais qu'on a ainsi que la moyenne,\n",
    "curseur  = 0.0 #curseur de 0 pour avoir tous les résultats\n",
    "count_good = 0\n",
    "to_mean_good = 0\n",
    "count_bad = 0\n",
    "to_mean_bad = 0\n",
    "for i,pred in enumerate(y_pred):\n",
    "    #Curseur\n",
    "    if np.max(pred) < curseur:\n",
    "        continue\n",
    "    if np.argmax(pred) == y_test[i]:\n",
    "        count_good += 1\n",
    "        to_mean_good += max(pred)\n",
    "    else:\n",
    "        count_bad +=1\n",
    "        to_mean_bad += max(pred)\n",
    "if count_good != 0:\n",
    "    mean_good = to_mean_good/count_good\n",
    "else: mean_good = 0\n",
    "if count_bad != 0:\n",
    "    mean_bad = to_mean_bad /count_bad\n",
    "else: mean_bad = 0\n",
    "print(\"Nombre de bon :\", count_good,\" Moyenne :\",mean_good)\n",
    "print(\"Nombre de mauvais :\",count_bad, \" Moyenne :\",mean_bad)\n",
    "#On constate que le modèle est souvent très sûr de ce qu'il avance"
   ]
  },
  {
   "cell_type": "code",
   "execution_count": 43,
   "id": "pacific-dover",
   "metadata": {},
   "outputs": [
    {
     "data": {
      "text/plain": [
       "array([0.53338206, 0.2881288 , 0.02981834, 0.01517537, 0.01135925,\n",
       "       0.01279822, 0.00411733, 0.00403606, 0.01515242, 0.08603222],\n",
       "      dtype=float32)"
      ]
     },
     "execution_count": 43,
     "metadata": {},
     "output_type": "execute_result"
    }
   ],
   "source": []
  },
  {
   "cell_type": "code",
   "execution_count": 46,
   "id": "reported-alaska",
   "metadata": {},
   "outputs": [],
   "source": []
  },
  {
   "cell_type": "code",
   "execution_count": null,
   "id": "romantic-integration",
   "metadata": {},
   "outputs": [],
   "source": [
    "with tf.device('cpu:0'):\n",
    "    y_pred = model_saved_test.predict(X_test)"
   ]
  },
  {
   "cell_type": "code",
   "execution_count": null,
   "id": "forbidden-intersection",
   "metadata": {},
   "outputs": [],
   "source": [
    "y_pred_arg = np.argmax(y_pred, axis=-1)\n",
    "plot_confusion_name = full_name + 'test_saved_model'+ '_confusion.png'\n",
    "cfm_plot = pwk.plot_confusion_matrix(y_test,y_pred_arg,range(nb_classes),normalize=True)"
   ]
  },
  {
   "cell_type": "code",
   "execution_count": null,
   "id": "compatible-bradford",
   "metadata": {},
   "outputs": [],
   "source": []
  }
 ],
 "metadata": {
  "kernelspec": {
   "display_name": "Python 3",
   "language": "python",
   "name": "python3"
  },
  "language_info": {
   "codemirror_mode": {
    "name": "ipython",
    "version": 3
   },
   "file_extension": ".py",
   "mimetype": "text/x-python",
   "name": "python",
   "nbconvert_exporter": "python",
   "pygments_lexer": "ipython3",
   "version": "3.8.8"
  }
 },
 "nbformat": 4,
 "nbformat_minor": 5
}
