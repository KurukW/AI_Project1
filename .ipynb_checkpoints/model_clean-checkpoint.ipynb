{
 "cells": [
  {
   "cell_type": "markdown",
   "id": "advised-occasions",
   "metadata": {},
   "source": [
    "# Modele de réseau neuronale"
   ]
  },
  {
   "cell_type": "markdown",
   "id": "endangered-prompt",
   "metadata": {},
   "source": [
    "Toutes les étapes pour arriver à un modele correct"
   ]
  },
  {
   "cell_type": "markdown",
   "id": "final-brown",
   "metadata": {},
   "source": [
    "## Imports"
   ]
  },
  {
   "cell_type": "code",
   "execution_count": 1,
   "id": "liquid-meeting",
   "metadata": {},
   "outputs": [],
   "source": [
    "import matplotlib.pyplot as plt\n",
    "import cv2\n",
    "import numpy as np\n",
    "#import seaborn as sns #On ne sait jamais que ça serve\n",
    "import pandas as pd \n",
    "from sklearn.preprocessing import MinMaxScaler #Normalisation #Il faut l'installer aussi avec conda install\n",
    "import random\n",
    "\n",
    "\n",
    "import tensorflow as tf\n",
    "from tensorflow import keras\n",
    "from tensorflow.keras import layers, Sequential\n",
    "from tensorflow.keras.layers import  Dense, Conv3D, BatchNormalization,MaxPooling3D, Dropout, LSTM\n",
    "from tensorflow.keras.utils import to_categorical\n",
    "\n",
    "#conda install pydot\n",
    "#conda install pydotplus\n",
    "#conda install graphviz\n",
    "from tensorflow.keras.utils import plot_model\n",
    "import pydot\n",
    "\n",
    "\n",
    "import threading\n",
    "from queue import Queue, Empty\n",
    "from time import sleep, time"
   ]
  },
  {
   "cell_type": "code",
   "execution_count": null,
   "id": "caroline-myanmar",
   "metadata": {},
   "outputs": [],
   "source": []
  },
  {
   "cell_type": "markdown",
   "id": "partial-programmer",
   "metadata": {},
   "source": [
    "### Paramètres généraux"
   ]
  },
  {
   "cell_type": "code",
   "execution_count": 2,
   "id": "monthly-dressing",
   "metadata": {},
   "outputs": [],
   "source": [
    "nb_classes = 10 #Nombre de classes\n",
    "fps = 1\n",
    "size = (40,30)\n",
    "#Parametres du generator\n",
    "pack_size = 50\n",
    "batch_size = 10\n",
    "epochs = 1\n"
   ]
  },
  {
   "cell_type": "code",
   "execution_count": 3,
   "id": "entitled-fourth",
   "metadata": {},
   "outputs": [
    {
     "name": "stdout",
     "output_type": "stream",
     "text": [
      "Saved_model\\model_LSTM_1_30_40_10_1_10_50\n"
     ]
    }
   ],
   "source": [
    "#Verification qu'un modele avec ces paramètres n'existe pas déjà\n",
    "folder = 'Saved_model'\n",
    "modele_type = 'model_LSTM'\n",
    "param = f\"_{fps}_{size[1]}_{size[0]}_{nb_classes}_{epochs}_{batch_size}_{pack_size}\"\n",
    "full_name = folder + '\\\\' + modele_type + param\n",
    "print(full_name)"
   ]
  },
  {
   "cell_type": "code",
   "execution_count": 4,
   "id": "superior-couple",
   "metadata": {},
   "outputs": [
    {
     "name": "stdout",
     "output_type": "stream",
     "text": [
      "Modele non testé\n"
     ]
    }
   ],
   "source": [
    "try:\n",
    "    model_saved = keras.models.load_model(full_name)\n",
    "    print(\"Pas besoin d'aller plus loin, le modele a déjà été fabriqué\")\n",
    "    model_charge = True\n",
    "except:\n",
    "    print(\"Modele non testé\")\n",
    "    model_charge = False"
   ]
  },
  {
   "cell_type": "markdown",
   "id": "abstract-courtesy",
   "metadata": {},
   "source": [
    "## Fonctions d'imports et preprocess"
   ]
  },
  {
   "cell_type": "markdown",
   "id": "conventional-paradise",
   "metadata": {},
   "source": [
    "#### Import"
   ]
  },
  {
   "cell_type": "code",
   "execution_count": 5,
   "id": "vocal-questionnaire",
   "metadata": {},
   "outputs": [],
   "source": [
    "def get_mov_imgs_from_path(path,fps = -1,color = 'gray'):\n",
    "    '''\n",
    "    Retourne une liste d'images pour une vidéo. La liste d'image a le nombre de fps voulu\n",
    "    reprend que le mouvement\n",
    "    '''\n",
    "    \n",
    "    cap = cv2.VideoCapture(path)\n",
    "    fps_actu = cap.get(cv2.CAP_PROP_FPS)\n",
    "#     print(f\"Traitement de la video n° {path}       \",end=\"\\r\")\n",
    "    if fps <= -1: fps = fps_actu #Je peux ne pas donner de fps et ça va prendre le nombre d'fps initial\n",
    "    ecart_voulu = int(1000/fps)\n",
    "    ecart_initial = int(1000/fps_actu)\n",
    "    imgs = []\n",
    "    \n",
    "    ret, frame = cap.read()\n",
    "    \n",
    "    while(cap.isOpened()):\n",
    "        prev = frame\n",
    "        ret, frame = cap.read()\n",
    "\n",
    "        if ret: #Sinon ça plante quand il n'y a plus d'images\n",
    "            #Récupère seulement certaines images\n",
    "            t_ms = cap.get(cv2.CAP_PROP_POS_MSEC)\n",
    "            modulo = t_ms % ecart_voulu\n",
    "            if modulo < ecart_initial:\n",
    "                #Isoler les images\n",
    "                \n",
    "                diff = cv2.absdiff(frame,prev)  \n",
    "                if color == 'gray':\n",
    "                    diff_gray = cv2.cvtColor(diff,cv2.COLOR_BGR2GRAY)\n",
    "                elif color == 'rgb':\n",
    "                    diff_gray = diff\n",
    "\n",
    "                    \n",
    "                #Première normalisation (elle n'est peut-être pas obligatoire)\n",
    "                max_ = np.max(diff_gray)\n",
    "                if max_ == 0:\n",
    "                    max_ = 1\n",
    "                ratio = 255.0 / max_\n",
    "                diff_gray = diff_gray * ratio\n",
    "                \n",
    "                \n",
    "                #On va travailler avec des images en nuance de gris, c'est bcp plus simple\n",
    "                imgs.append(diff_gray)\n",
    "            \n",
    "        else: #Va jusqu'au bout de la vidéo\n",
    "            break\n",
    "    else:\n",
    "        print(\"Le fichier n'a pas pu être ouvert\")\n",
    "    cap.release()\n",
    "    \n",
    "    return imgs"
   ]
  },
  {
   "cell_type": "markdown",
   "id": "possible-laugh",
   "metadata": {},
   "source": [
    "#### Resize"
   ]
  },
  {
   "cell_type": "code",
   "execution_count": 6,
   "id": "floral-lunch",
   "metadata": {},
   "outputs": [],
   "source": [
    "def resize_imgs(imgs,nsize):\n",
    "    '''\n",
    "    Change la taille de l'image.\n",
    "    Le premier élément de nsize est la longueur (width), le deuxième la hauteur (height)\n",
    "    '''\n",
    "    return [cv2.resize(img, dsize=nsize, interpolation=cv2.INTER_CUBIC) for img in imgs]"
   ]
  },
  {
   "cell_type": "markdown",
   "id": "brief-motivation",
   "metadata": {},
   "source": [
    "#### Normalisation"
   ]
  },
  {
   "cell_type": "code",
   "execution_count": 7,
   "id": "small-utility",
   "metadata": {},
   "outputs": [],
   "source": [
    "def scale_by_pixels(img, x_min, x_max):\n",
    "    '''\n",
    "    Scale une image entre 0 et 1.\n",
    "    Méthode pas efficace mais fonctionnelle contrairement à d'autres méthodes \n",
    "    qui faisaient lignes par lignes ce qui causait des erreurs \n",
    "    dans le résultat (lignes dans l'image)\n",
    "    '''\n",
    "    new_img = img.copy()\n",
    "    p_min = 1000\n",
    "    p_max = -1000\n",
    "    for line in img:\n",
    "        for pixel in line:\n",
    "            p_min = min(p_min,pixel)\n",
    "            p_max = max(p_max,pixel)\n",
    "    \n",
    "    #p_min et p_max sont les min et max totaux de mon image\n",
    "    for l, line in enumerate(img):\n",
    "        for p,pixel in enumerate(line):\n",
    "            nom = (pixel - p_min)*(x_max - x_min)\n",
    "            denom = (p_max - p_min)\n",
    "            if denom == 0: denom = 1\n",
    "            new_img[l][p] = x_min + nom/denom\n",
    "    return new_img"
   ]
  },
  {
   "cell_type": "code",
   "execution_count": 8,
   "id": "laden-chicago",
   "metadata": {},
   "outputs": [],
   "source": [
    "def normalize_imgs(imgs):\n",
    "    '''\n",
    "    Normalise une série d'images\n",
    "    '''\n",
    "    norm_imgs = []\n",
    "    for img in imgs:\n",
    "        norm_img = scale_by_pixels(img,0,1)\n",
    "        norm_imgs.append(norm_img)\n",
    "#     print(f\"Après normalisation, max = {np.max(norm_imgs)} et min = {np.min(norm_imgs)}\")\n",
    "    return norm_imgs"
   ]
  },
  {
   "cell_type": "code",
   "execution_count": null,
   "id": "incorrect-reaction",
   "metadata": {},
   "outputs": [],
   "source": []
  },
  {
   "cell_type": "markdown",
   "id": "addressed-metabolism",
   "metadata": {},
   "source": [
    "## Fonction de générateur"
   ]
  },
  {
   "cell_type": "code",
   "execution_count": 9,
   "id": "deluxe-cutting",
   "metadata": {},
   "outputs": [],
   "source": [
    "def my_gen(labels_list, folder_path, pack_size = 10, pointer = 0, fps = 5, size = (160,120)):\n",
    "    '''\n",
    "    à partir de la liste des labels et de la position du foler\n",
    "    Retourne:\n",
    "    -une liste d'images de vidéos de shape (pack_size,n_frames,height,width[,channels])\n",
    "        n_frames = fps*2.4\n",
    "    -Une liste de numérique avec les labels correspondant aux images (de len = batch_size)\n",
    "    -Un pointer qui permet de faire tourner my_gen à nouveau et recevoir les éléments suivants de la liste\n",
    "    \n",
    "    \n",
    "    Normalement on peut envoyer X et y_num dans le modele directement (avec fit ou train_on_batch, les deux devraient fonctionner)\n",
    "    Je vais essayer de travailler avec des thread pour avoir un thread en Train et un trhead en gen\n",
    "    '''\n",
    "    \n",
    "    y_num = []\n",
    "    X = []\n",
    "    for i in range(pointer, pack_size + pointer):\n",
    "        pointer = i+1\n",
    "        if i >= len(labels_list):\n",
    "            break\n",
    "        label, video_name = labels_list[i]\n",
    "        \n",
    "        #Label en numérique\n",
    "        y_num.append(labels_n[label])\n",
    "        \n",
    "        #Preprocess d'images\n",
    "        file_path = folder_path + \"\\\\\" + video_name\n",
    "        imgs_of_video = get_mov_imgs_from_path(file_path,fps,'gray') #Gray ou rgb\n",
    "        resized_imgs = resize_imgs(imgs_of_video, size)\n",
    "        norm_imgs = normalize_imgs(resized_imgs)\n",
    "        \n",
    "        X.append(norm_imgs)\n",
    "        \n",
    "    print() #Pour ne pas écrire sur la même ligne qu'avant\n",
    "    X = np.array(X)\n",
    "    y = np.array(y_num)\n",
    "    \n",
    "    #Ajouter une dimsension en à la fin est nécessaire pour certains modèle\n",
    "    #Commenter cette ligne si ce n'est pas nécessaire\n",
    "    X = np.expand_dims(X, axis=len(X.shape)) \n",
    "    \n",
    "    # Si le modele est compile avec :loss='sparse_categorical_crossentropy'\n",
    "    # Il faut un y catégorique , faire ça hors de la fonction\n",
    "    #y = to_categorical(y, num_classes = nb_classes)\n",
    "\n",
    "    return (X, y, pointer)"
   ]
  },
  {
   "cell_type": "code",
   "execution_count": 10,
   "id": "mexican-length",
   "metadata": {},
   "outputs": [],
   "source": [
    "def gen_thread(labels_list, folder_path, pack_size = 10, fps = 5, size = (160,120)):\n",
    "    '''\n",
    "    S'assure que my_gen tourne toujours en parallèle du fit. Il prépare toujours 2 paquets de vidéo en avance\n",
    "    '''\n",
    "    pointer = 0\n",
    "    while pointer < len(labels_list):\n",
    "        X,y,pointer = my_gen(labels_list, folder_path, pack_size, pointer, fps, size)\n",
    "        q.put((X,y))\n",
    "        print(f\"Pack of {pack_size} videos put in queue\")"
   ]
  },
  {
   "cell_type": "markdown",
   "id": "attempted-literacy",
   "metadata": {},
   "source": [
    "## Fabrication des modeles"
   ]
  },
  {
   "cell_type": "markdown",
   "id": "significant-sending",
   "metadata": {},
   "source": [
    "#### Imports"
   ]
  },
  {
   "cell_type": "code",
   "execution_count": null,
   "id": "indirect-method",
   "metadata": {},
   "outputs": [],
   "source": []
  },
  {
   "cell_type": "code",
   "execution_count": 11,
   "id": "agreed-enforcement",
   "metadata": {},
   "outputs": [],
   "source": [
    "def create_model(n_frames = 24, height = 120, width = 160, channels = 1, nb_classes = 10):\n",
    "    #Gestion du nombre de frames\n",
    "    #entre 12 et 24 frames, ça donne entre 3 et 6 images au LSTM, c'est très bien. \n",
    "    div_pool1 = 2\n",
    "    div_pool2 = 2\n",
    "    if n_frames < 12:\n",
    "        div_pool1 = 1\n",
    "    elif n_frames >= 36:\n",
    "        div_pool1 = 3\n",
    "    if n_frames < 6:\n",
    "        div_pool2 = 1\n",
    "    \n",
    "    \n",
    "    #Dernière couche avant reshape\n",
    "    last_channel = 10\n",
    "    \n",
    "    #Gestion de la hauteur et la width:\n",
    "    output_shape = int(height/27) * int(width/27) * last_channel\n",
    "    \n",
    "    #Divisé par 27 parce qu'on divise par 3, 3 fois (avec Maxpooling)\n",
    "\n",
    "    \n",
    "    sample_shape = (n_frames,height,width,channels) #width = 160, height = 120, nframes = 24, 3 channels si on est en RGB (si on est en gris on sait pas)\n",
    "    \n",
    "    model = Sequential()\n",
    "    \n",
    "    #model.add(Conv3D(128, strides =(1,1,1), padding=\"same\", kernel_size=(3, 3, 3), activation='relu', kernel_initializer='he_uniform', input_shape=sample_shape,data_format='channels_first'))\n",
    "    model.add(Conv3D(192, strides =(1,1,1), padding=\"same\", kernel_size=(3, 3, 3), activation='relu', kernel_initializer='he_uniform', input_shape=sample_shape,data_format='channels_last'))\n",
    "    model.add(Dense(128, activation='relu', kernel_initializer='he_uniform'))\n",
    "    model.add(BatchNormalization(center=True, scale=True))\n",
    "    model.add(Conv3D(96, strides=(1,1,1), padding=\"same\", kernel_size=(3, 3, 3), activation='relu', kernel_initializer='he_uniform'))\n",
    "    model.add(Dense(128, activation='relu', kernel_initializer='he_uniform'))\n",
    "    model.add(BatchNormalization(center=True, scale=True))\n",
    "    model.add(MaxPooling3D(pool_size=(div_pool1, 3, 3)))\n",
    "    model.add(Dropout(0.2))\n",
    "\n",
    "    model.add(Conv3D(96, strides=(1,1,1), padding=\"same\", kernel_size=(3, 3, 3), activation='relu', kernel_initializer='he_uniform'))\n",
    "    model.add(Dense(96, activation='relu', kernel_initializer='he_uniform'))\n",
    "    model.add(BatchNormalization(center=True, scale=True))\n",
    "    model.add(Conv3D(64, strides=(1,1,1), padding=\"same\", kernel_size=(3, 3, 3), activation='relu', kernel_initializer='he_uniform'))\n",
    "    model.add(Dense(64, activation='relu', kernel_initializer='he_uniform'))\n",
    "    model.add(BatchNormalization(center=True, scale=True))\n",
    "    model.add(MaxPooling3D(pool_size=(div_pool2, 3, 3)))\n",
    "    model.add(Dropout(0.2))\n",
    "\n",
    "    model.add(Conv3D(48, strides=(1,1,1), padding=\"same\", kernel_size=(3, 3, 3), activation='relu', kernel_initializer='he_uniform'))\n",
    "    model.add(Dense(48, activation='relu', kernel_initializer='he_uniform'))\n",
    "    model.add(BatchNormalization(center=True, scale=True))\n",
    "    model.add(Conv3D(32, strides=(1,1,1), padding=\"same\", kernel_size=(3, 3, 3), activation='relu', kernel_initializer='he_uniform'))\n",
    "    model.add(Dense(32, activation='relu', kernel_initializer='he_uniform'))\n",
    "    model.add(BatchNormalization(center=True, scale=True))\n",
    "    model.add(MaxPooling3D(pool_size=(3, 3, 3), data_format = 'channels_first')) #Je ne veux pas diviser le nombre d'images cette fois-ci\n",
    "    model.add(Dropout(0.2))\n",
    "\n",
    "    model.add(Conv3D(last_channel, strides=(1,1,1), padding=\"same\", kernel_size=(3, 3, 3), activation='relu', kernel_initializer='he_uniform'))\n",
    "    model.add(Dense(last_channel, activation='relu', kernel_initializer='he_uniform'))\n",
    "    model.add(BatchNormalization(center=True, scale=True))\n",
    "\n",
    "\n",
    "    model.add(layers.Reshape((int(n_frames/(div_pool1 * div_pool2)),output_shape)))\n",
    "\n",
    "\n",
    "    #LSTM\n",
    "    \n",
    "    model.add(LSTM(units = 64,activation=\"tanh\", recurrent_activation=\"sigmoid\",return_sequences = False))\n",
    "\n",
    "\n",
    "    #softmax\n",
    "    model.add(Dense(nb_classes, activation='softmax'))\n",
    "\n",
    "    return model"
   ]
  },
  {
   "cell_type": "code",
   "execution_count": 12,
   "id": "published-albany",
   "metadata": {},
   "outputs": [
    {
     "name": "stdout",
     "output_type": "stream",
     "text": [
      "Pas de modele chargé, il faut en créer un nouveau\n"
     ]
    }
   ],
   "source": [
    "n_frames = int(fps*2.4)\n",
    "\n",
    "if model_charge:\n",
    "    print('Modele chargé')\n",
    "    model = model_saved\n",
    "else:\n",
    "    print(\"Pas de modele chargé, il faut en créer un nouveau\")\n",
    "    model = create_model(n_frames = n_frames, height = size[1], width = size[0], nb_classes = nb_classes)"
   ]
  },
  {
   "cell_type": "code",
   "execution_count": 13,
   "id": "wired-purpose",
   "metadata": {},
   "outputs": [],
   "source": [
    "# model.summary()"
   ]
  },
  {
   "cell_type": "code",
   "execution_count": 14,
   "id": "respective-participant",
   "metadata": {},
   "outputs": [],
   "source": [
    "plot_name = full_name + '_plot.png'\n",
    "# plot_model(model, to_file = plot_name, show_shapes=True, show_layer_names=True)"
   ]
  },
  {
   "cell_type": "code",
   "execution_count": 15,
   "id": "cross-martial",
   "metadata": {},
   "outputs": [],
   "source": [
    "#Compilation\n",
    "model.compile(optimizer='adam',\n",
    "              loss = tf.keras.losses.categorical_crossentropy,\n",
    "              metrics=['accuracy'])"
   ]
  },
  {
   "cell_type": "markdown",
   "id": "biblical-boundary",
   "metadata": {},
   "source": [
    "##### Chargement d'un modele préentrainé (par nous même)"
   ]
  },
  {
   "cell_type": "code",
   "execution_count": 16,
   "id": "exclusive-shanghai",
   "metadata": {},
   "outputs": [],
   "source": [
    "#model_stolen_saved = keras.models.load_model('Saved_model\\\\modele_stolen_compile')"
   ]
  },
  {
   "cell_type": "code",
   "execution_count": null,
   "id": "continuing-commodity",
   "metadata": {},
   "outputs": [],
   "source": []
  },
  {
   "cell_type": "markdown",
   "id": "exciting-designer",
   "metadata": {},
   "source": [
    "## Generator"
   ]
  },
  {
   "cell_type": "code",
   "execution_count": 17,
   "id": "legislative-trademark",
   "metadata": {},
   "outputs": [],
   "source": [
    "def homemade_fit_gen_thread(model, labels_val,pack_size,epochs,batch_size,fps = 5,size = (160,120)):\n",
    "    '''\n",
    "    Charge les données à partir du csv labels_val et train le model avec\n",
    "    les différents paramètres\n",
    "    Le model est train.\n",
    "    \n",
    "    Si besoin, return de X,y et model (mais normalement le model original est train)\n",
    "    '''\n",
    "#     q = Queue()\n",
    "    \n",
    "    histories = []\n",
    "    \n",
    "    t = threading.Thread(target = gen_thread, daemon = True,#Daemon afin que le thread s'arrête avec le thread principal\n",
    "                        args = ((labels_val, \"DATA\\\\Videos\",pack_size,fps, size))) \n",
    "    t.start()\n",
    "    while True:\n",
    "        X, y_num = q.get()\n",
    "        print(\"I got the pack! I'm going to fit it\")\n",
    "        \n",
    "        #Catégorisation pour train\n",
    "        y = to_categorical(y_num, num_classes = nb_classes)\n",
    "        \n",
    "        history = model.fit(X, y,\n",
    "                batch_size = 10,\n",
    "                epochs=2,\n",
    "                verbose=1,\n",
    "                validation_split=0.2)\n",
    "        histories.append(history)\n",
    "        \n",
    "        q.task_done() #Jsp si c'est utile\n",
    "        \n",
    "        #Il faut que le fit prenne plus de temps que le chargement des vidéos, sinon ça va pas aller\n",
    "        \n",
    "        if q.empty():\n",
    "            print(\"J'ai peut-être fini, j'attends encore qq sec pour être sur d'avoir bien fini\")\n",
    "            sleep(2) #Je m'assure que c'est vraiment bien fini\n",
    "            if q.empty():\n",
    "                print(\"J'ai vraiment fini\")\n",
    "                break\n",
    "            else:\n",
    "                print(\"Je n'avais pas fini en fait\")\n",
    "    \n",
    "    t.join()\n",
    "    return model, histories, X, y"
   ]
  },
  {
   "cell_type": "code",
   "execution_count": 18,
   "id": "actual-interaction",
   "metadata": {},
   "outputs": [],
   "source": [
    "def homemade_fit_gen(model, labels_val,pack_size,epochs,batch_size,fps = 5,size = (160,120)):\n",
    "    '''\n",
    "    Charge les données à partir du csv labels_val et train le model avec\n",
    "    les différents paramètres\n",
    "    Le model est train.\n",
    "    \n",
    "    my_gen et fit tournent en parallèle grâce à un thread\n",
    "    Si besoin, return de X,y et model (mais normalement le model original est train)\n",
    "    '''\n",
    "    \n",
    "    histories = []\n",
    "    \n",
    "    pointer = 0\n",
    "    can_continue = True\n",
    "    \n",
    "    while can_continue:\n",
    "        X, y_num, pointer = my_gen(labels_val, \"DATA\\\\Videos\",pack_size = pack_size,fps = fps, size = size, pointer = pointer)\n",
    "        \n",
    "        #Catégorisation pour train\n",
    "        y = to_categorical(y_num, num_classes = nb_classes)\n",
    "        \n",
    "        if pointer >= len(labels_val):\n",
    "            can_continue = False\n",
    "        print()\n",
    "\n",
    "        #print('vidéos chargées, shape:',X.shape,'. y len : ',len(y_num)) #DEBUG\n",
    "       \n",
    "        history = model.fit(X, y,\n",
    "                batch_size = 10,\n",
    "                epochs=2,\n",
    "                verbose=1,\n",
    "                validation_split=0.2)\n",
    "        histories.append(history)\n",
    "    return model, histories, X, y"
   ]
  },
  {
   "cell_type": "markdown",
   "id": "sufficient-consumption",
   "metadata": {},
   "source": [
    "## Import des données et traitement"
   ]
  },
  {
   "cell_type": "code",
   "execution_count": 19,
   "id": "civic-treasure",
   "metadata": {},
   "outputs": [],
   "source": [
    "#Import des labels\n",
    "labels_csv = pd.read_csv(\"DATA\\\\labels.csv\")\n",
    "labels_name = pd.read_csv(\"DATA\\\\labels_uses.csv\")\n",
    "labels_tests_csv = pd.read_csv(\"DATA\\\\labels_tests.csv\")"
   ]
  },
  {
   "cell_type": "code",
   "execution_count": 20,
   "id": "corrected-employee",
   "metadata": {},
   "outputs": [],
   "source": [
    "#Créé un dictionnaire qui associe le nom du label et un numérique afin de le mettre dans le modele\n",
    "labels_n = {}\n",
    "for i,label in enumerate(labels_name.values):\n",
    "    labels_n[label[0]] = i\n",
    "    labels_n[i] = label[0]\n",
    "\n",
    "    \n",
    "#Trier les labels pour ne prendre que ceux qui correspondent à labels_uses\n",
    "labels = []\n",
    "for label, video_name in labels_csv.values:\n",
    "    if label in labels_n:\n",
    "        labels.append((label,video_name))\n",
    "        \n",
    "#Idem pour le label de tests\n",
    "labels_tests = []\n",
    "for label, video_name in labels_tests_csv.values:\n",
    "    if label in labels_n:\n",
    "        labels_tests.append((label,video_name))\n",
    "\n",
    "\n",
    "#Melange la liste de train\n",
    "random.shuffle(labels) #Il faut absolument shuffle pour train\n",
    "\n"
   ]
  },
  {
   "cell_type": "code",
   "execution_count": 21,
   "id": "afraid-agent",
   "metadata": {},
   "outputs": [
    {
     "name": "stdout",
     "output_type": "stream",
     "text": [
      "{'Ferme le poing': 53, 'Ouvre le poing': 56, 'Clap': 51, 'Swipe gauche main droite': 45, 'Swipe droit main gauche': 46, 'Doigts croises paumes': 47, 'Explosion avec les doigts ouverts': 49, 'Ouvrir un livre avec le poing ferme main D': 40, 'Ouvrir un livre avec le poing ferme main G': 35, 'Faire coucou': 62}\n"
     ]
    }
   ],
   "source": [
    "#Count de chaque label\n",
    "labels_c = {}\n",
    "for label in labels_name.values:\n",
    "    labels_c[label[0]] = 0\n",
    "\n",
    "for label,video_name in labels:\n",
    "    if label in labels_c:\n",
    "        labels_c[label] += 1\n",
    "\n",
    "print(labels_c)"
   ]
  },
  {
   "cell_type": "markdown",
   "id": "fifteen-transformation",
   "metadata": {},
   "source": [
    "## Train"
   ]
  },
  {
   "cell_type": "code",
   "execution_count": 22,
   "id": "typical-evolution",
   "metadata": {},
   "outputs": [],
   "source": [
    "q = Queue(maxsize = 3) #Variable globale nécessaire pour le bon fonctionnement du gen en thread"
   ]
  },
  {
   "cell_type": "code",
   "execution_count": 25,
   "id": "scientific-jamaica",
   "metadata": {},
   "outputs": [
    {
     "name": "stdout",
     "output_type": "stream",
     "text": [
      "Il faut entrainer le modele\n"
     ]
    },
    {
     "ename": "TypeError",
     "evalue": "my_gen() got an unexpected keyword argument 'batch_size'",
     "output_type": "error",
     "traceback": [
      "\u001b[1;31m---------------------------------------------------------------------------\u001b[0m",
      "\u001b[1;31mTypeError\u001b[0m                                 Traceback (most recent call last)",
      "\u001b[1;32m<ipython-input-25-f3e1386b5a65>\u001b[0m in \u001b[0;36m<module>\u001b[1;34m\u001b[0m\n\u001b[0;32m      4\u001b[0m     \u001b[0mprint\u001b[0m\u001b[1;33m(\u001b[0m\u001b[1;34m'Il faut entrainer le modele'\u001b[0m\u001b[1;33m)\u001b[0m\u001b[1;33m\u001b[0m\u001b[1;33m\u001b[0m\u001b[0m\n\u001b[0;32m      5\u001b[0m     \u001b[0mstart\u001b[0m \u001b[1;33m=\u001b[0m \u001b[0mtime\u001b[0m\u001b[1;33m(\u001b[0m\u001b[1;33m)\u001b[0m\u001b[1;33m\u001b[0m\u001b[1;33m\u001b[0m\u001b[0m\n\u001b[1;32m----> 6\u001b[1;33m     \u001b[0mmodel\u001b[0m\u001b[1;33m,\u001b[0m \u001b[0mhistories\u001b[0m\u001b[1;33m,\u001b[0m \u001b[0m_\u001b[0m\u001b[1;33m,\u001b[0m\u001b[0m_\u001b[0m \u001b[1;33m=\u001b[0m \u001b[0mhomemade_fit_gen\u001b[0m\u001b[1;33m(\u001b[0m\u001b[0mmodel\u001b[0m\u001b[1;33m,\u001b[0m \u001b[0mlabels\u001b[0m\u001b[1;33m,\u001b[0m \u001b[0mpack_size\u001b[0m \u001b[1;33m=\u001b[0m \u001b[0mpack_size\u001b[0m\u001b[1;33m,\u001b[0m \u001b[0mepochs\u001b[0m \u001b[1;33m=\u001b[0m \u001b[0mepochs\u001b[0m\u001b[1;33m,\u001b[0m\u001b[0mbatch_size\u001b[0m \u001b[1;33m=\u001b[0m \u001b[0mbatch_size\u001b[0m\u001b[1;33m,\u001b[0m \u001b[0mfps\u001b[0m \u001b[1;33m=\u001b[0m \u001b[0mfps\u001b[0m\u001b[1;33m,\u001b[0m \u001b[0msize\u001b[0m \u001b[1;33m=\u001b[0m \u001b[0msize\u001b[0m\u001b[1;33m)\u001b[0m\u001b[1;33m\u001b[0m\u001b[1;33m\u001b[0m\u001b[0m\n\u001b[0m\u001b[0;32m      7\u001b[0m     \u001b[0mend\u001b[0m \u001b[1;33m=\u001b[0m \u001b[0mtime\u001b[0m\u001b[1;33m(\u001b[0m\u001b[1;33m)\u001b[0m\u001b[1;33m\u001b[0m\u001b[1;33m\u001b[0m\u001b[0m\n\u001b[0;32m      8\u001b[0m     \u001b[0mprint\u001b[0m\u001b[1;33m(\u001b[0m\u001b[1;34mf\"ça a prit {end-start} secondes d'entrainer le modele\"\u001b[0m\u001b[1;33m)\u001b[0m\u001b[1;33m\u001b[0m\u001b[1;33m\u001b[0m\u001b[0m\n",
      "\u001b[1;32m<ipython-input-18-e32b19a4ff1d>\u001b[0m in \u001b[0;36mhomemade_fit_gen\u001b[1;34m(model, labels_val, pack_size, epochs, batch_size, fps, size)\u001b[0m\n\u001b[0;32m     15\u001b[0m \u001b[1;33m\u001b[0m\u001b[0m\n\u001b[0;32m     16\u001b[0m     \u001b[1;32mwhile\u001b[0m \u001b[0mcan_continue\u001b[0m\u001b[1;33m:\u001b[0m\u001b[1;33m\u001b[0m\u001b[1;33m\u001b[0m\u001b[0m\n\u001b[1;32m---> 17\u001b[1;33m         \u001b[0mX\u001b[0m\u001b[1;33m,\u001b[0m \u001b[0my_num\u001b[0m\u001b[1;33m,\u001b[0m \u001b[0mpointer\u001b[0m \u001b[1;33m=\u001b[0m \u001b[0mmy_gen\u001b[0m\u001b[1;33m(\u001b[0m\u001b[0mlabels_val\u001b[0m\u001b[1;33m,\u001b[0m \u001b[1;34m\"DATA\\\\Videos\"\u001b[0m\u001b[1;33m,\u001b[0m\u001b[0mbatch_size\u001b[0m \u001b[1;33m=\u001b[0m \u001b[0mpack_size\u001b[0m\u001b[1;33m,\u001b[0m\u001b[0mfps\u001b[0m \u001b[1;33m=\u001b[0m \u001b[0mfps\u001b[0m\u001b[1;33m,\u001b[0m \u001b[0msize\u001b[0m \u001b[1;33m=\u001b[0m \u001b[0msize\u001b[0m\u001b[1;33m,\u001b[0m \u001b[0mpointer\u001b[0m \u001b[1;33m=\u001b[0m \u001b[0mpointer\u001b[0m\u001b[1;33m)\u001b[0m\u001b[1;33m\u001b[0m\u001b[1;33m\u001b[0m\u001b[0m\n\u001b[0m\u001b[0;32m     18\u001b[0m \u001b[1;33m\u001b[0m\u001b[0m\n\u001b[0;32m     19\u001b[0m         \u001b[1;31m#Catégorisation pour train\u001b[0m\u001b[1;33m\u001b[0m\u001b[1;33m\u001b[0m\u001b[1;33m\u001b[0m\u001b[0m\n",
      "\u001b[1;31mTypeError\u001b[0m: my_gen() got an unexpected keyword argument 'batch_size'"
     ]
    }
   ],
   "source": [
    "if model_charge:\n",
    "    print('Il ne faut pas train le modele car il a déjà été chargé')\n",
    "else:\n",
    "    print('Il faut entrainer le modele')\n",
    "    start = time()\n",
    "    model, histories, _,_ = homemade_fit_gen(model, labels, pack_size = pack_size, epochs = epochs,batch_size = batch_size, fps = fps, size = size)\n",
    "    end = time()\n",
    "    print(f\"ça a prit {end-start} secondes d'entrainer le modele\")"
   ]
  },
  {
   "cell_type": "code",
   "execution_count": null,
   "id": "tamil-northwest",
   "metadata": {},
   "outputs": [],
   "source": []
  },
  {
   "cell_type": "markdown",
   "id": "eleven-westminster",
   "metadata": {},
   "source": [
    "## Tests"
   ]
  },
  {
   "cell_type": "code",
   "execution_count": 24,
   "id": "consistent-initial",
   "metadata": {},
   "outputs": [
    {
     "ename": "TypeError",
     "evalue": "my_gen() got an unexpected keyword argument 'batch_size'",
     "output_type": "error",
     "traceback": [
      "\u001b[1;31m---------------------------------------------------------------------------\u001b[0m",
      "\u001b[1;31mTypeError\u001b[0m                                 Traceback (most recent call last)",
      "\u001b[1;32m<ipython-input-24-eb18fdfdbd01>\u001b[0m in \u001b[0;36m<module>\u001b[1;34m\u001b[0m\n\u001b[1;32m----> 1\u001b[1;33m \u001b[0mX_test\u001b[0m\u001b[1;33m,\u001b[0m \u001b[0my_test\u001b[0m\u001b[1;33m,\u001b[0m \u001b[0m_\u001b[0m \u001b[1;33m=\u001b[0m \u001b[0mmy_gen\u001b[0m\u001b[1;33m(\u001b[0m\u001b[0mlabels_tests\u001b[0m\u001b[1;33m,\u001b[0m \u001b[1;34m\"DATA\\\\V_tests\"\u001b[0m\u001b[1;33m,\u001b[0m\u001b[0mbatch_size\u001b[0m \u001b[1;33m=\u001b[0m \u001b[1;36m1000\u001b[0m\u001b[1;33m,\u001b[0m\u001b[0mfps\u001b[0m \u001b[1;33m=\u001b[0m \u001b[0mfps\u001b[0m\u001b[1;33m,\u001b[0m \u001b[0msize\u001b[0m \u001b[1;33m=\u001b[0m \u001b[0msize\u001b[0m\u001b[1;33m)\u001b[0m\u001b[1;33m\u001b[0m\u001b[1;33m\u001b[0m\u001b[0m\n\u001b[0m\u001b[0;32m      2\u001b[0m \u001b[1;31m#Grand batch_size afin de prendre toutes les données\u001b[0m\u001b[1;33m\u001b[0m\u001b[1;33m\u001b[0m\u001b[1;33m\u001b[0m\u001b[0m\n",
      "\u001b[1;31mTypeError\u001b[0m: my_gen() got an unexpected keyword argument 'batch_size'"
     ]
    }
   ],
   "source": [
    "X_test, y_test, _ = my_gen(labels_tests, \"DATA\\\\V_tests\",pack_size = 1000,fps = fps, size = size)\n",
    "#Grand batch_size afin de prendre toutes les données"
   ]
  },
  {
   "cell_type": "code",
   "execution_count": null,
   "id": "nervous-valentine",
   "metadata": {},
   "outputs": [],
   "source": [
    "y_pred = model.predict(X_test)"
   ]
  },
  {
   "cell_type": "code",
   "execution_count": null,
   "id": "authorized-department",
   "metadata": {},
   "outputs": [],
   "source": []
  },
  {
   "cell_type": "code",
   "execution_count": null,
   "id": "declared-explosion",
   "metadata": {},
   "outputs": [],
   "source": []
  },
  {
   "cell_type": "markdown",
   "id": "popular-legislation",
   "metadata": {},
   "source": [
    "### visualisation des  résultats"
   ]
  },
  {
   "cell_type": "code",
   "execution_count": null,
   "id": "color-colleague",
   "metadata": {},
   "outputs": [],
   "source": [
    "import fidle.pwk as pwk"
   ]
  },
  {
   "cell_type": "code",
   "execution_count": null,
   "id": "pediatric-worthy",
   "metadata": {},
   "outputs": [],
   "source": [
    "y_pred_arg = np.argmax(y_pred, axis=-1)\n",
    "pwk.plot_confusion_matrix(y_test,y_pred_arg,range(nb_classes),normalize=True)"
   ]
  },
  {
   "cell_type": "code",
   "execution_count": null,
   "id": "specialized-technology",
   "metadata": {},
   "outputs": [],
   "source": [
    "print(labels_n)"
   ]
  },
  {
   "cell_type": "code",
   "execution_count": null,
   "id": "premier-cattle",
   "metadata": {},
   "outputs": [],
   "source": [
    "#Je peux afficher l'historique de chaque étape (je n'ai aps réussi à les faire fusionner)\n",
    "#On ne peut afficher que si on a train\n",
    "\n",
    "#history = histories[-1]\n",
    "#pwk.plot_history(history, figsize=(6,4), save_as='03-history')"
   ]
  },
  {
   "cell_type": "markdown",
   "id": "consecutive-feature",
   "metadata": {},
   "source": [
    "## Enregistrer le modèle"
   ]
  },
  {
   "cell_type": "code",
   "execution_count": null,
   "id": "fabulous-terrain",
   "metadata": {},
   "outputs": [],
   "source": [
    "#Le nom est fabriqué en début de notebook"
   ]
  },
  {
   "cell_type": "code",
   "execution_count": null,
   "id": "appropriate-services",
   "metadata": {},
   "outputs": [],
   "source": [
    "print(full_name)"
   ]
  },
  {
   "cell_type": "code",
   "execution_count": null,
   "id": "capital-heath",
   "metadata": {},
   "outputs": [],
   "source": [
    "# LSTM, 5 FPS, Height = 60, Width = 80, nb_Classes = 10, 3 Epochs, Batch_size = 10, Pack_size = 50\n",
    "if not model_charge: #On ne doit charger le modele que si il a été train cette fois-ci\n",
    "    model.save(full_name)"
   ]
  },
  {
   "cell_type": "code",
   "execution_count": null,
   "id": "dirty-cartridge",
   "metadata": {},
   "outputs": [],
   "source": []
  },
  {
   "cell_type": "code",
   "execution_count": null,
   "id": "brief-collar",
   "metadata": {},
   "outputs": [],
   "source": []
  },
  {
   "cell_type": "code",
   "execution_count": null,
   "id": "hired-candidate",
   "metadata": {},
   "outputs": [],
   "source": []
  },
  {
   "cell_type": "code",
   "execution_count": null,
   "id": "increasing-season",
   "metadata": {},
   "outputs": [],
   "source": []
  },
  {
   "cell_type": "code",
   "execution_count": null,
   "id": "golden-thanks",
   "metadata": {},
   "outputs": [],
   "source": []
  },
  {
   "cell_type": "code",
   "execution_count": null,
   "id": "disabled-weight",
   "metadata": {},
   "outputs": [],
   "source": []
  },
  {
   "cell_type": "code",
   "execution_count": null,
   "id": "promising-sitting",
   "metadata": {},
   "outputs": [],
   "source": []
  },
  {
   "cell_type": "code",
   "execution_count": null,
   "id": "neutral-production",
   "metadata": {},
   "outputs": [],
   "source": []
  }
 ],
 "metadata": {
  "kernelspec": {
   "display_name": "Python 3",
   "language": "python",
   "name": "python3"
  },
  "language_info": {
   "codemirror_mode": {
    "name": "ipython",
    "version": 3
   },
   "file_extension": ".py",
   "mimetype": "text/x-python",
   "name": "python",
   "nbconvert_exporter": "python",
   "pygments_lexer": "ipython3",
   "version": "3.8.8"
  }
 },
 "nbformat": 4,
 "nbformat_minor": 5
}
