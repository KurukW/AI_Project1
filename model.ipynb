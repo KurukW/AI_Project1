{
 "cells": [
  {
   "cell_type": "markdown",
   "id": "gross-interference",
   "metadata": {},
   "source": [
    "# Modèle de réseau neuronale"
   ]
  },
  {
   "cell_type": "markdown",
   "id": "frank-violation",
   "metadata": {},
   "source": [
    "C'est plus simple de faire le modèle sur le notebook pour pouvoir analyser chaque étape avec précision"
   ]
  },
  {
   "cell_type": "code",
   "execution_count": 2,
   "id": "understood-louisiana",
   "metadata": {},
   "outputs": [],
   "source": [
    "#Imports"
   ]
  },
  {
   "cell_type": "code",
   "execution_count": 1,
   "id": "alive-ballot",
   "metadata": {},
   "outputs": [],
   "source": [
    "import matplotlib.pyplot as plt\n",
    "import cv2\n",
    "import numpy as np\n",
    "import seaborn as sns #On ne sait jamais que ça serve\n",
    "import pandas as pd #Même argument\n"
   ]
  },
  {
   "cell_type": "code",
   "execution_count": 2,
   "id": "entire-burton",
   "metadata": {},
   "outputs": [],
   "source": [
    "#from alexnet_pytorch import AlexNet # ça fait planter matplotlib\n",
    "#A_model = AlexNet.from_pretrained('alexnet', num_classes=10)"
   ]
  },
  {
   "cell_type": "code",
   "execution_count": 3,
   "id": "spare-bubble",
   "metadata": {},
   "outputs": [],
   "source": [
    "#Insert des données"
   ]
  },
  {
   "cell_type": "code",
   "execution_count": 4,
   "id": "blind-queens",
   "metadata": {},
   "outputs": [],
   "source": [
    "#Idéalement, il faudrait ajouter les données batch par batch pour ne pas trop faire souffrir la ram"
   ]
  },
  {
   "cell_type": "code",
   "execution_count": 5,
   "id": "herbal-venezuela",
   "metadata": {},
   "outputs": [],
   "source": [
    "labels_csv = pd.read_csv('DATA\\\\labels.csv')"
   ]
  },
  {
   "cell_type": "code",
   "execution_count": 6,
   "id": "taken-orange",
   "metadata": {},
   "outputs": [],
   "source": [
    "for line in labels_csv.values:\n",
    "    label = line[0]\n",
    "    name = line[1]\n",
    "    #print(f\"Le label est '{label}' et le nom de la vidéo : '{name}'\")"
   ]
  },
  {
   "cell_type": "code",
   "execution_count": 7,
   "id": "absolute-region",
   "metadata": {},
   "outputs": [],
   "source": [
    "X_link = []\n",
    "y = []\n",
    "for label,name in labels_csv.values:\n",
    "    X_link.append(name)\n",
    "    y.append(label)"
   ]
  },
  {
   "cell_type": "code",
   "execution_count": null,
   "id": "binding-learning",
   "metadata": {},
   "outputs": [],
   "source": []
  },
  {
   "cell_type": "code",
   "execution_count": 8,
   "id": "experimental-prospect",
   "metadata": {},
   "outputs": [],
   "source": [
    "#a_vid.get(cv2.CAP_PROP_POS_MSEC) #donne la position dans la vidéo en ms, on est à 25 fps donc chaque image est espacée de 40ms\n"
   ]
  },
  {
   "cell_type": "code",
   "execution_count": null,
   "id": "billion-workstation",
   "metadata": {},
   "outputs": [],
   "source": []
  },
  {
   "cell_type": "code",
   "execution_count": null,
   "id": "historic-territory",
   "metadata": {},
   "outputs": [],
   "source": []
  },
  {
   "cell_type": "markdown",
   "id": "radio-brazilian",
   "metadata": {},
   "source": [
    "### function: insert imgs/videos"
   ]
  },
  {
   "cell_type": "code",
   "execution_count": 9,
   "id": "unlike-japanese",
   "metadata": {},
   "outputs": [],
   "source": [
    "def get_imgs_from_path(path,fps = -1):\n",
    "    '''\n",
    "    Retourne une liste d'images. La liste d'image a le nombre de fps voulu\n",
    "    '''\n",
    "    cap = cv2.VideoCapture(path)\n",
    "    fps_actu = cap.get(cv2.CAP_PROP_FPS)\n",
    "    if fps <= -1: fps = fps_actu #Je peux ne pas donner de fps et ça va prendre le nombre d'fps initial\n",
    "    ecart_voulu = int(1000/fps)\n",
    "    ecart_initial = int(1000/fps_actu)\n",
    "    imgs = []\n",
    "    \n",
    "    \n",
    "    while(cap.isOpened()):\n",
    "        ret, frame = cap.read()\n",
    "\n",
    "        if ret: #Sinon ça plante quand il n'y a plus d'images\n",
    "            \n",
    "            #Bonne couleur\n",
    "            frame_RGB = cv2.cvtColor(frame, cv2.COLOR_BGR2RGB)\n",
    "\n",
    "            \n",
    "            #Récupère seulement certaines images\n",
    "            t_ms = cap.get(cv2.CAP_PROP_POS_MSEC)\n",
    "            modulo = t_ms % ecart_voulu\n",
    "            if modulo < ecart_initial:\n",
    "                #Isoler les images\n",
    "                imgs.append(frame_RGB)\n",
    "            \n",
    "        else: #Va jusqu'au bout de la vidéo\n",
    "            break\n",
    "    else:\n",
    "        print(\"Le fichier n'a pas pu être ouvert\")\n",
    "    cap.release()\n",
    "    \n",
    "    return imgs"
   ]
  },
  {
   "cell_type": "code",
   "execution_count": 10,
   "id": "human-participant",
   "metadata": {},
   "outputs": [],
   "source": [
    "def get_mov_imgs_from_path(path,fps = -1,color = 'gray'):\n",
    "    '''\n",
    "    Retourne une liste d'images. La liste d'image a le nombre de fps voulu\n",
    "    reprend que le mouvement\n",
    "    '''\n",
    "    cap = cv2.VideoCapture(path)\n",
    "    fps_actu = cap.get(cv2.CAP_PROP_FPS)\n",
    "    print(f\"Traitement de la video n° {path}       \",end=\"\\r\")\n",
    "    if fps <= -1: fps = fps_actu #Je peux ne pas donner de fps et ça va prendre le nombre d'fps initial\n",
    "    ecart_voulu = int(1000/fps)\n",
    "    ecart_initial = int(1000/fps_actu)\n",
    "    imgs = []\n",
    "    \n",
    "    ret, frame = cap.read()\n",
    "    \n",
    "    while(cap.isOpened()):\n",
    "        prev = frame\n",
    "        ret, frame = cap.read()\n",
    "\n",
    "        if ret: #Sinon ça plante quand il n'y a plus d'images\n",
    "            #Récupère seulement certaines images\n",
    "            t_ms = cap.get(cv2.CAP_PROP_POS_MSEC)\n",
    "            modulo = t_ms % ecart_voulu\n",
    "            if modulo < ecart_initial:\n",
    "                #Isoler les images\n",
    "                \n",
    "                diff = cv2.absdiff(frame,prev)  \n",
    "                if color == 'gray':\n",
    "                    diff_gray = cv2.cvtColor(diff,cv2.COLOR_BGR2GRAY)\n",
    "                elif color == 'rgb':\n",
    "                    diff_gray = diff\n",
    "                #Normalisation foireuse pour avoir une belle image\n",
    "                max_ = np.max(diff_gray)\n",
    "                ratio = 255.0 / max_\n",
    "                diff_gray = diff_gray * ratio\n",
    "                \n",
    "                \n",
    "                #_,diff_thresh = cv2.threshold(diff_gray,15,255,cv2.THRESH_BINARY)\n",
    "                #diff_thresh, c'est juste le mouvement Ici on isole l'image en couleur\n",
    "                #frame_rgb = cv2.cvtColor(frame,cv2.COLOR_BGR2RGB)\n",
    "                #J'isole le mouvement de l'image initiale pour avoir une sortie en couleur\n",
    "                #mov = cv2.bitwise_and(frame_rgb,frame_rgb,mask = diff_thresh)\n",
    "                \n",
    "                #On va travailler avec des images en nuance de gris, c'est bcp plus simple\n",
    "                imgs.append(diff_gray)\n",
    "            \n",
    "        else: #Va jusqu'au bout de la vidéo\n",
    "            break\n",
    "    else:\n",
    "        print(\"Le fichier n'a pas pu être ouvert\")\n",
    "    cap.release()\n",
    "    \n",
    "    return imgs"
   ]
  },
  {
   "cell_type": "code",
   "execution_count": 11,
   "id": "sound-question",
   "metadata": {},
   "outputs": [
    {
     "name": "stdout",
     "output_type": "stream",
     "text": [
      "Traitement de la video n° DATA\\Videos\\video_91.avi       \r"
     ]
    }
   ],
   "source": [
    "mov_imgs = get_mov_imgs_from_path('DATA\\\\Videos\\\\video_91.avi',5)\n",
    "#mov_imgs = resize_imgs(mov_imgs,(160,120))"
   ]
  },
  {
   "cell_type": "code",
   "execution_count": 12,
   "id": "marked-office",
   "metadata": {},
   "outputs": [
    {
     "name": "stdout",
     "output_type": "stream",
     "text": [
      "(480, 640)\n"
     ]
    },
    {
     "data": {
      "image/png": "[encoded data removed]",
      "text/plain": [
       "<Figure size 1440x4320 with 12 Axes>"
      ]
     },
     "metadata": {
      "needs_background": "light"
     },
     "output_type": "display_data"
    }
   ],
   "source": [
    "plt.figure(figsize=(20,60)) #(20,60) pour des images en (120,160). (20,180) pour des images en (480,640)\n",
    "print(mov_imgs[1].shape)\n",
    "columns = 7\n",
    "for i, img in enumerate(mov_imgs):\n",
    "    plt.subplot(int(len(img) / columns + 1), columns, i + 1)\n",
    "    plt.imshow(img)"
   ]
  },
  {
   "cell_type": "code",
   "execution_count": 13,
   "id": "progressive-crisis",
   "metadata": {},
   "outputs": [
    {
     "data": {
      "text/plain": [
       "12"
      ]
     },
     "execution_count": 13,
     "metadata": {},
     "output_type": "execute_result"
    }
   ],
   "source": [
    "len(mov_imgs)"
   ]
  },
  {
   "cell_type": "code",
   "execution_count": 14,
   "id": "mexican-count",
   "metadata": {},
   "outputs": [],
   "source": [
    "labels_file = pd.read_csv('DATA\\\\labels_list.csv')\n",
    "labels = labels_file.values"
   ]
  },
  {
   "cell_type": "code",
   "execution_count": 15,
   "id": "random-green",
   "metadata": {},
   "outputs": [
    {
     "name": "stdout",
     "output_type": "stream",
     "text": [
      "13\n"
     ]
    }
   ],
   "source": [
    "print(len(labels))"
   ]
  },
  {
   "cell_type": "code",
   "execution_count": 16,
   "id": "narrative-nitrogen",
   "metadata": {},
   "outputs": [
    {
     "name": "stdout",
     "output_type": "stream",
     "text": [
      "Ouvrir un livre avec le poing ferme main D\n"
     ]
    }
   ],
   "source": [
    "label_num = 10\n",
    "if (label_num >= len(labels)):\n",
    "    label_num = 0\n",
    "label = labels[label_num][0]\n",
    "print(label)"
   ]
  },
  {
   "cell_type": "code",
   "execution_count": null,
   "id": "alert-kenya",
   "metadata": {},
   "outputs": [],
   "source": []
  },
  {
   "cell_type": "code",
   "execution_count": null,
   "id": "second-reverse",
   "metadata": {},
   "outputs": [],
   "source": []
  },
  {
   "cell_type": "markdown",
   "id": "effective-mistake",
   "metadata": {},
   "source": [
    "### function: resize"
   ]
  },
  {
   "cell_type": "code",
   "execution_count": 17,
   "id": "electric-engagement",
   "metadata": {},
   "outputs": [],
   "source": [
    "def resize_imgs(imgs,nsize):\n",
    "    '''\n",
    "    Change la taille de l'image.\n",
    "    Le premier élément de nsize est la longueur (width), le deuxième la hauteur (height)\n",
    "    '''\n",
    "   # new_imgs = []\n",
    "  #  for img in imgs:\n",
    " #       new_imgs.append(cv2.resize(img, dsize=nsize, interpolation=cv2.INTER_CUBIC))\n",
    "#    return new_imgs\n",
    "    return [cv2.resize(img, dsize=nsize, interpolation=cv2.INTER_CUBIC) for img in imgs]"
   ]
  },
  {
   "cell_type": "code",
   "execution_count": 18,
   "id": "opened-ticket",
   "metadata": {},
   "outputs": [],
   "source": [
    "#plt.imshow(imgs[2])"
   ]
  },
  {
   "cell_type": "code",
   "execution_count": 19,
   "id": "acting-hanging",
   "metadata": {},
   "outputs": [],
   "source": [
    "def reduce_fps(imgs,ratio = 6):\n",
    "    '''\n",
    "    imgs est une liste d'images\n",
    "    1/ratio est le nombre d'images qu'on garde\n",
    "    '''\n",
    "    new_imgs = []\n",
    "    for i,img in enumerate(imgs):\n",
    "        if i % ratio == 0:\n",
    "            new_imgs.append(img)\n",
    "    return new_imgs    "
   ]
  },
  {
   "cell_type": "code",
   "execution_count": null,
   "id": "adequate-classic",
   "metadata": {},
   "outputs": [],
   "source": []
  },
  {
   "cell_type": "code",
   "execution_count": null,
   "id": "increased-montgomery",
   "metadata": {},
   "outputs": [],
   "source": []
  },
  {
   "cell_type": "markdown",
   "id": "caroline-slovenia",
   "metadata": {},
   "source": [
    "#### Test TfRecord"
   ]
  },
  {
   "cell_type": "code",
   "execution_count": 20,
   "id": "pregnant-christopher",
   "metadata": {},
   "outputs": [],
   "source": [
    "#from video2tfrecord import convert_videos_to_tfrecord"
   ]
  },
  {
   "cell_type": "code",
   "execution_count": 21,
   "id": "guided-alexandria",
   "metadata": {},
   "outputs": [],
   "source": [
    "#convert_videos_to_tfrecord(source_path = \"test_data\\\\Videos\",destination_path = \"test_data\\\\tfRecords\",\n",
    "#                            n_videos_in_record = 1,n_frames_per_video = \"all\",file_suffix = \"*.avi\",\n",
    "#                          dense_optical_flow=True, width = 640, height=480,\n",
    "#                              color_depth=\"uint8\", video_filenames=None)\n",
    "#Broken"
   ]
  },
  {
   "cell_type": "code",
   "execution_count": null,
   "id": "completed-villa",
   "metadata": {},
   "outputs": [],
   "source": []
  },
  {
   "cell_type": "code",
   "execution_count": null,
   "id": "pointed-antarctica",
   "metadata": {},
   "outputs": [],
   "source": []
  },
  {
   "cell_type": "code",
   "execution_count": null,
   "id": "hidden-front",
   "metadata": {},
   "outputs": [],
   "source": []
  },
  {
   "cell_type": "code",
   "execution_count": null,
   "id": "august-majority",
   "metadata": {},
   "outputs": [],
   "source": []
  },
  {
   "cell_type": "code",
   "execution_count": null,
   "id": "trained-italic",
   "metadata": {},
   "outputs": [],
   "source": []
  },
  {
   "cell_type": "code",
   "execution_count": null,
   "id": "rolled-lying",
   "metadata": {},
   "outputs": [],
   "source": []
  },
  {
   "cell_type": "code",
   "execution_count": null,
   "id": "correct-bunch",
   "metadata": {},
   "outputs": [],
   "source": [
    "\n"
   ]
  },
  {
   "cell_type": "markdown",
   "id": "received-bloom",
   "metadata": {},
   "source": [
    "## Real Insert"
   ]
  },
  {
   "cell_type": "code",
   "execution_count": 22,
   "id": "floppy-championship",
   "metadata": {},
   "outputs": [
    {
     "name": "stdout",
     "output_type": "stream",
     "text": [
      "ça a prit 1.0389492511749268 secondes                    "
     ]
    }
   ],
   "source": [
    "#Récupère toutes les vidéos, prend slmt z fps et les resize\n",
    "import time\n",
    "folder_path = 'Data\\\\Videos\\\\'\n",
    "fps = 10\n",
    "size = (160,120) # La shape initial est (480, 640, 3), Il faut inverser le sens de with et height.\n",
    "#Size demi par rapport à initial\n",
    "nb_images_max = 10 #Prend les x premières images\n",
    "\n",
    "start = time.time()\n",
    "X = []\n",
    "for i,name in enumerate(X_link):\n",
    "    if i >= nb_images_max:\n",
    "        break\n",
    "    \n",
    "    file_path = folder_path + name\n",
    "    imgs_of_video = get_mov_imgs_from_path(file_path,fps,'gray')\n",
    "    resized_imgs = resize_imgs(imgs_of_video, size)\n",
    "    X.append(resized_imgs)\n",
    "    \n",
    "end = time.time()\n",
    "y = y[:len(X)]\n",
    "\n",
    "print(f\"ça a prit {end-start} secondes\",end=\" \"*15)"
   ]
  },
  {
   "cell_type": "code",
   "execution_count": 23,
   "id": "protecting-hampton",
   "metadata": {},
   "outputs": [
    {
     "name": "stdout",
     "output_type": "stream",
     "text": [
      "Il y a 10 vidéos et 10 labels\n",
      "(120, 160)\n"
     ]
    }
   ],
   "source": [
    "print(f\"Il y a {len(X)} vidéos et {len(y)} labels\") #Petite vérification\n",
    "print(X[0][0].shape)"
   ]
  },
  {
   "cell_type": "code",
   "execution_count": 24,
   "id": "recorded-bahrain",
   "metadata": {},
   "outputs": [
    {
     "name": "stdout",
     "output_type": "stream",
     "text": [
      "('Explosion avec les doigts ouverts', 'Prendre un element avec 2 doigts', 'Explosion avec les doigts ouverts', 'Faire coucou', 'Faire coucou', 'Explosion avec les doigts ouverts', 'Prendre un element avec 2 doigts', 'Explosion avec les doigts ouverts', 'Faire coucou', 'Faire coucou')\n",
      "3\n"
     ]
    },
    {
     "data": {
      "image/png": "[encoded data removed]",
      "text/plain": [
       "<Figure size 432x288 with 1 Axes>"
      ]
     },
     "metadata": {
      "needs_background": "light"
     },
     "output_type": "display_data"
    }
   ],
   "source": [
    "#Melanger les videos associés aux labels\n",
    "import random\n",
    "both = list(zip(X,y))\n",
    "random.shuffle(both)\n",
    "X,y = zip(*both)\n",
    "print(y)\n",
    "plt.imshow(X[-1][10])\n",
    "nb_classes = len(set(y))\n",
    "print(nb_classes)"
   ]
  },
  {
   "cell_type": "code",
   "execution_count": 25,
   "id": "numerical-italy",
   "metadata": {},
   "outputs": [],
   "source": [
    "#[f\"{len(vid)} , {e}\" for e,vid in enumerate(X)] # Toutes les vidéos n'ont pas le même nombre de frame\n"
   ]
  },
  {
   "cell_type": "code",
   "execution_count": 26,
   "id": "brazilian-configuration",
   "metadata": {},
   "outputs": [
    {
     "name": "stdout",
     "output_type": "stream",
     "text": [
      "(120, 160)\n",
      "label = Prendre un element avec 2 doigts\n"
     ]
    },
    {
     "data": {
      "image/png": "[encoded data removed]",
      "text/plain": [
       "<Figure size 432x288 with 1 Axes>"
      ]
     },
     "metadata": {
      "needs_background": "light"
     },
     "output_type": "display_data"
    }
   ],
   "source": [
    "num_vid = 6\n",
    "plt.imshow(X[num_vid][11])\n",
    "print(X[num_vid][10].shape)\n",
    "print(f\"label = {y[num_vid]}\")"
   ]
  },
  {
   "cell_type": "markdown",
   "id": "macro-reliance",
   "metadata": {},
   "source": [
    "C'est ok pour l'import des vidéos et le traitement de celles-ci\n",
    "On prend un certain nombre de FPS, leur taille est réduite et elles sont mises dans une grande liste \n",
    "dont l'index correspond à l'index du label dans y"
   ]
  },
  {
   "cell_type": "code",
   "execution_count": 27,
   "id": "excess-carolina",
   "metadata": {},
   "outputs": [
    {
     "name": "stdout",
     "output_type": "stream",
     "text": [
      "24\n"
     ]
    },
    {
     "data": {
      "text/plain": [
       "<matplotlib.image.AxesImage at 0x1f3d8d7ee80>"
      ]
     },
     "execution_count": 27,
     "metadata": {},
     "output_type": "execute_result"
    },
    {
     "data": {
      "image/png": "[encoded data removed]",
      "text/plain": [
       "<Figure size 432x288 with 1 Axes>"
      ]
     },
     "metadata": {
      "needs_background": "light"
     },
     "output_type": "display_data"
    }
   ],
   "source": [
    "print(len(X[0]))\n",
    "plt.imshow(X[5][20])"
   ]
  },
  {
   "cell_type": "markdown",
   "id": "theoretical-interest",
   "metadata": {},
   "source": [
    "### Homemade Generator\n",
    "Charger tout les labels, mélanger tout ça et puis charger les vidéos et les traiter paquets par paquets\n"
   ]
  },
  {
   "cell_type": "code",
   "execution_count": 28,
   "id": "active-shape",
   "metadata": {},
   "outputs": [],
   "source": [
    "#Labels\n",
    "labels_csv = pd.read_csv(\"DATA\\\\labels.csv\")\n",
    "labels_name = pd.read_csv(\"DATA\\\\labels_list.csv\")"
   ]
  },
  {
   "cell_type": "code",
   "execution_count": 29,
   "id": "ordinary-sucking",
   "metadata": {},
   "outputs": [],
   "source": [
    "#Melange la liste\n",
    "labels_val = list(labels_csv.values)\n",
    "#random.shuffle(labels_val) #Il faut absolument shuffle pour train\n",
    "\n",
    "#Créé un dictionnaire qui associe le nom du label et un numérique afin de le mettre dans le modele\n",
    "labels_n = {}\n",
    "for i,label in enumerate(labels_name.values):\n",
    "    labels_n[label[0]] = i\n",
    "    labels_n[i] = label[0]"
   ]
  },
  {
   "cell_type": "code",
   "execution_count": null,
   "id": "injured-reporter",
   "metadata": {},
   "outputs": [],
   "source": []
  },
  {
   "cell_type": "code",
   "execution_count": 121,
   "id": "confirmed-bidder",
   "metadata": {},
   "outputs": [],
   "source": [
    "def my_gen(labels_list, folder_path, batch_size = 10, pointer = 0, fps = 5, size = (160,120)):\n",
    "    '''\n",
    "    à partir de la liste des labels et de la position du foler\n",
    "    Retourne:\n",
    "    -une liste d'images de vidéos de shape (batch_size,n_frames,height,width[,channels])\n",
    "        n_frames = fps*2.4\n",
    "    -Une liste de numérique avec les labels correspondant aux images (de len = batch_size)\n",
    "    -Un pointer qui permet de faire tourner my_gen à nouveau et recevoir les éléments suivants de la liste\n",
    "    \n",
    "    \n",
    "    Normalement on peut envoyer X et y_num dans le modele directement (avec fit ou train_on_batch, les deux devraient fonctionner)\n",
    "    Je vais essayer de travailler avec des thread pour avoir un thread en Train et un trhead en gen\n",
    "    '''\n",
    "    \n",
    "    y_num = []\n",
    "    X = []\n",
    "    for i in range(pointer, batch_size + pointer):\n",
    "        pointer = i+1\n",
    "        if i >= len(labels_list):\n",
    "            break\n",
    "        label, video_name = labels_list[i]\n",
    "        #Label en numérique\n",
    "        y_num.append(labels_n[label])\n",
    "        \n",
    "        #Preprocess d'images\n",
    "        file_path = folder_path + \"\\\\\" + video_name\n",
    "        imgs_of_video = get_mov_imgs_from_path(file_path,fps,'gray') #Gray ou rgb\n",
    "        resized_imgs = resize_imgs(imgs_of_video, size)\n",
    "        \n",
    "        X.append(resized_imgs)\n",
    "    X = np.array(X,dtype=  'float32') #Si je met dtype = object, je ne peux plus afficher mon image\n",
    "    \n",
    "    #ça fait des erreurs quand mon array est de dtype object, dans ce cas ce n'est plus une liste mais il y a 'array' dedans. C'est un problème.\n",
    "    \n",
    "    \n",
    "    \n",
    "    #X = np.asarray(X).astype('float32')\n",
    "    #X = X.astype('float32')\n",
    "    y_num = np.array(y_num)\n",
    "    \n",
    "    \n",
    "    \n",
    "    #Normalisation    \n",
    "    xmax=X.max()\n",
    "    X /= xmax\n",
    "    xmin = X.min()\n",
    "    if xmin <0:\n",
    "        X -= xmin\n",
    "        xmax=X.max()\n",
    "        X /= xmax\n",
    "    return (X, y_num, pointer)"
   ]
  },
  {
   "cell_type": "code",
   "execution_count": 122,
   "id": "answering-emission",
   "metadata": {},
   "outputs": [
    {
     "name": "stdout",
     "output_type": "stream",
     "text": [
      "Traitement de la video n° DATA\\Videos\\video_35.avi       \r"
     ]
    }
   ],
   "source": [
    "#Désactive l'erreur de deprecationWarning\n",
    "#np.warnings.filterwarnings('ignore', category=np.VisibleDeprecationWarning) #error pour la situer, ignore pour l'ignorer\n",
    "\n",
    "X1, y_num1, pointer = my_gen(labels_val, \"DATA\\\\Videos\",batch_size = 15,size = size, pointer = 0)"
   ]
  },
  {
   "cell_type": "code",
   "execution_count": 123,
   "id": "opening-ranch",
   "metadata": {},
   "outputs": [],
   "source": [
    "#print(X1.shape)\n",
    "#print(y_num1)"
   ]
  },
  {
   "cell_type": "code",
   "execution_count": null,
   "id": "injured-isolation",
   "metadata": {},
   "outputs": [],
   "source": []
  },
  {
   "cell_type": "code",
   "execution_count": 124,
   "id": "accessible-optics",
   "metadata": {},
   "outputs": [
    {
     "name": "stdout",
     "output_type": "stream",
     "text": [
      "Prendre un element avec 2 doigts\n"
     ]
    },
    {
     "data": {
      "image/png": "[encoded data removed]",
      "text/plain": [
       "<Figure size 432x288 with 1 Axes>"
      ]
     },
     "metadata": {
      "needs_background": "light"
     },
     "output_type": "display_data"
    }
   ],
   "source": [
    "elt_to_test = 10\n",
    "plt.imshow(X1[elt_to_test][7])\n",
    "print(labels_n[y_num1[elt_to_test]])"
   ]
  },
  {
   "cell_type": "code",
   "execution_count": 125,
   "id": "flexible-string",
   "metadata": {},
   "outputs": [
    {
     "data": {
      "text/plain": [
       "15"
      ]
     },
     "execution_count": 125,
     "metadata": {},
     "output_type": "execute_result"
    }
   ],
   "source": [
    "pointer"
   ]
  },
  {
   "cell_type": "code",
   "execution_count": null,
   "id": "earned-salem",
   "metadata": {},
   "outputs": [],
   "source": []
  },
  {
   "cell_type": "code",
   "execution_count": null,
   "id": "impaired-celebration",
   "metadata": {},
   "outputs": [],
   "source": []
  },
  {
   "cell_type": "markdown",
   "id": "diagnostic-simulation",
   "metadata": {},
   "source": [
    "## Modele fabrication"
   ]
  },
  {
   "cell_type": "code",
   "execution_count": 126,
   "id": "rapid-christianity",
   "metadata": {},
   "outputs": [],
   "source": [
    "import tensorflow as tf\n",
    "from tensorflow import keras\n",
    "from tensorflow.keras import layers, Sequential\n",
    "from tensorflow.keras.layers import  Dense, Conv3D, BatchNormalization,MaxPooling3D, Dropout, LSTM"
   ]
  },
  {
   "cell_type": "code",
   "execution_count": 127,
   "id": "happy-mission",
   "metadata": {},
   "outputs": [],
   "source": [
    "sample_shape = (24,120,160,1) #width = 160, height = 120, nframes = 24, 3 channels si on est en RGB (si on est en gris on sait pas)\n",
    "model = Sequential()\n",
    "model.add(Conv3D(128, strides =(1,1,1), padding=\"same\", kernel_size=(3, 3, 3), activation='relu', kernel_initializer='he_uniform', input_shape=sample_shape,data_format='channels_first'))\n",
    "#model.add(Conv3D(32, strides =(1,1,1), padding=\"same\", kernel_size=(3, 3, 3), activation='relu', kernel_initializer='he_uniform', input_shape=sample_shape,data_format='channels_last'))\n",
    "model.add(Dense(128, activation='relu', kernel_initializer='he_uniform'))\n",
    "model.add(BatchNormalization(center=True, scale=True))\n",
    "model.add(Conv3D(64, strides=(1,1,1), padding=\"same\", kernel_size=(3, 3, 3), activation='relu', kernel_initializer='he_uniform'))\n",
    "model.add(Dense(128, activation='relu', kernel_initializer='he_uniform'))\n",
    "model.add(BatchNormalization(center=True, scale=True))\n",
    "model.add(MaxPooling3D(pool_size=(3, 3, 3)))\n",
    "model.add(Dropout(0.2))\n",
    "\n",
    "model.add(Conv3D(128, strides=(1,1,1), padding=\"same\", kernel_size=(3, 3, 3), activation='relu', kernel_initializer='he_uniform'))\n",
    "model.add(Dense(128, activation='relu', kernel_initializer='he_uniform'))\n",
    "model.add(BatchNormalization(center=True, scale=True))\n",
    "model.add(Conv3D(128, strides=(1,1,1), padding=\"same\", kernel_size=(3, 3, 3), activation='relu', kernel_initializer='he_uniform'))\n",
    "model.add(Dense(64, activation='relu', kernel_initializer='he_uniform'))\n",
    "model.add(BatchNormalization(center=True, scale=True))\n",
    "model.add(MaxPooling3D(pool_size=(3, 3, 3)))\n",
    "model.add(Dropout(0.2))\n",
    "\n",
    "model.add(Conv3D(64, strides=(1,1,1), padding=\"same\", kernel_size=(3, 3, 3), activation='relu', kernel_initializer='he_uniform'))\n",
    "model.add(Dense(64, activation='relu', kernel_initializer='he_uniform'))\n",
    "model.add(BatchNormalization(center=True, scale=True))\n",
    "model.add(Conv3D(64, strides=(1,1,1), padding=\"same\", kernel_size=(3, 3, 3), activation='relu', kernel_initializer='he_uniform'))\n",
    "model.add(Dense(32, activation='relu', kernel_initializer='he_uniform'))\n",
    "model.add(BatchNormalization(center=True, scale=True))\n",
    "model.add(MaxPooling3D(pool_size=(3, 3, 3)))\n",
    "model.add(Dropout(0.2))\n",
    "\n",
    "model.add(Conv3D(32, strides=(1,1,1), padding=\"same\", kernel_size=(3, 3, 3), activation='relu', kernel_initializer='he_uniform'))\n",
    "model.add(Dense(32, activation='relu', kernel_initializer='he_uniform'))\n",
    "model.add(BatchNormalization(center=True, scale=True))\n",
    "\n",
    "#model.add(Dense(1, activation='relu', kernel_initializer='he_uniform'))\n",
    "#model.add(MaxPooling3D(pool_size=(1, 3, 3)))\n",
    "#model.add(layers.Reshape((128, 5120),input_shape = (1,128,4,5,256)))\n",
    "#model.add(layers.Reshape((128, 640),input_shape = (1,128,4,5,32)))\n",
    "#model.add(layers.Reshape((1,640),input_shape = (1,4,5,32)))\n",
    "model.add(layers.Reshape((1,2560)))\n",
    "#model.add(layers.Flatten())\n",
    "\n",
    "#LSTM\n",
    "#model.add(Embedding(num_distinct_words, embedding_output_dims, input_length=max_sequence_length))\n",
    "model.add(LSTM(units = 64,activation=\"tanh\", recurrent_activation=\"sigmoid\",return_sequences = False))\n",
    "#[None, 128, 4, 5, 256]\n",
    "\n",
    "\n",
    "#softmax\n",
    "model.add(Dense(11, activation='softmax'))\n",
    "\n"
   ]
  },
  {
   "cell_type": "code",
   "execution_count": 128,
   "id": "furnished-joint",
   "metadata": {},
   "outputs": [
    {
     "name": "stdout",
     "output_type": "stream",
     "text": [
      "Model: \"sequential_6\"\n",
      "_________________________________________________________________\n",
      "Layer (type)                 Output Shape              Param #   \n",
      "=================================================================\n",
      "conv3d_27 (Conv3D)           (None, 128, 120, 160, 1)  83072     \n",
      "_________________________________________________________________\n",
      "dense_30 (Dense)             (None, 128, 120, 160, 128 256       \n",
      "_________________________________________________________________\n",
      "batch_normalization_21 (Batc (None, 128, 120, 160, 128 512       \n",
      "_________________________________________________________________\n",
      "conv3d_28 (Conv3D)           (None, 128, 120, 160, 64) 221248    \n",
      "_________________________________________________________________\n",
      "dense_31 (Dense)             (None, 128, 120, 160, 128 8320      \n",
      "_________________________________________________________________\n",
      "batch_normalization_22 (Batc (None, 128, 120, 160, 128 512       \n",
      "_________________________________________________________________\n",
      "max_pooling3d_15 (MaxPooling (None, 42, 40, 53, 128)   0         \n",
      "_________________________________________________________________\n",
      "dropout_9 (Dropout)          (None, 42, 40, 53, 128)   0         \n",
      "_________________________________________________________________\n",
      "conv3d_29 (Conv3D)           (None, 42, 40, 53, 128)   442496    \n",
      "_________________________________________________________________\n",
      "dense_32 (Dense)             (None, 42, 40, 53, 128)   16512     \n",
      "_________________________________________________________________\n",
      "batch_normalization_23 (Batc (None, 42, 40, 53, 128)   512       \n",
      "_________________________________________________________________\n",
      "conv3d_30 (Conv3D)           (None, 42, 40, 53, 128)   442496    \n",
      "_________________________________________________________________\n",
      "dense_33 (Dense)             (None, 42, 40, 53, 64)    8256      \n",
      "_________________________________________________________________\n",
      "batch_normalization_24 (Batc (None, 42, 40, 53, 64)    256       \n",
      "_________________________________________________________________\n",
      "max_pooling3d_16 (MaxPooling (None, 14, 13, 17, 64)    0         \n",
      "_________________________________________________________________\n",
      "dropout_10 (Dropout)         (None, 14, 13, 17, 64)    0         \n",
      "_________________________________________________________________\n",
      "conv3d_31 (Conv3D)           (None, 14, 13, 17, 64)    110656    \n",
      "_________________________________________________________________\n",
      "dense_34 (Dense)             (None, 14, 13, 17, 64)    4160      \n",
      "_________________________________________________________________\n",
      "batch_normalization_25 (Batc (None, 14, 13, 17, 64)    256       \n",
      "_________________________________________________________________\n",
      "conv3d_32 (Conv3D)           (None, 14, 13, 17, 64)    110656    \n",
      "_________________________________________________________________\n",
      "dense_35 (Dense)             (None, 14, 13, 17, 32)    2080      \n",
      "_________________________________________________________________\n",
      "batch_normalization_26 (Batc (None, 14, 13, 17, 32)    128       \n",
      "_________________________________________________________________\n",
      "max_pooling3d_17 (MaxPooling (None, 4, 4, 5, 32)       0         \n",
      "_________________________________________________________________\n",
      "dropout_11 (Dropout)         (None, 4, 4, 5, 32)       0         \n",
      "_________________________________________________________________\n",
      "conv3d_33 (Conv3D)           (None, 4, 4, 5, 32)       27680     \n",
      "_________________________________________________________________\n",
      "dense_36 (Dense)             (None, 4, 4, 5, 32)       1056      \n",
      "_________________________________________________________________\n",
      "batch_normalization_27 (Batc (None, 4, 4, 5, 32)       128       \n",
      "_________________________________________________________________\n",
      "reshape_3 (Reshape)          (None, 1, 2560)           0         \n",
      "_________________________________________________________________\n",
      "lstm_3 (LSTM)                (None, 64)                672000    \n",
      "_________________________________________________________________\n",
      "dense_37 (Dense)             (None, 11)                715       \n",
      "=================================================================\n",
      "Total params: 2,153,963\n",
      "Trainable params: 2,152,811\n",
      "Non-trainable params: 1,152\n",
      "_________________________________________________________________\n"
     ]
    }
   ],
   "source": [
    "model.summary()"
   ]
  },
  {
   "cell_type": "code",
   "execution_count": 129,
   "id": "loose-hundred",
   "metadata": {},
   "outputs": [
    {
     "data": {
      "text/plain": [
       "24"
      ]
     },
     "execution_count": 129,
     "metadata": {},
     "output_type": "execute_result"
    }
   ],
   "source": [
    "len(X[0])"
   ]
  },
  {
   "cell_type": "code",
   "execution_count": 130,
   "id": "radical-tissue",
   "metadata": {},
   "outputs": [
    {
     "data": {
      "text/plain": [
       "2560"
      ]
     },
     "execution_count": 130,
     "metadata": {},
     "output_type": "execute_result"
    }
   ],
   "source": [
    "4*4*5*32\n"
   ]
  },
  {
   "cell_type": "code",
   "execution_count": 131,
   "id": "destroyed-canal",
   "metadata": {},
   "outputs": [],
   "source": [
    "#ON A PAS NORMALISE X\n",
    "X_np = np.array(X)"
   ]
  },
  {
   "cell_type": "code",
   "execution_count": 132,
   "id": "seventh-polls",
   "metadata": {},
   "outputs": [],
   "source": [
    "y_np = np.array(y)"
   ]
  },
  {
   "cell_type": "code",
   "execution_count": 133,
   "id": "smart-feeding",
   "metadata": {},
   "outputs": [
    {
     "data": {
      "text/plain": [
       "array([ 1,  2,  3,  4,  5,  6,  7,  8,  9, 10])"
      ]
     },
     "execution_count": 133,
     "metadata": {},
     "output_type": "execute_result"
    }
   ],
   "source": [
    "y_np = np.array([1,2,3,4,5,6,7,8,9,10]) #Il faut que les labels soit des numériques\n",
    "y_np"
   ]
  },
  {
   "cell_type": "code",
   "execution_count": 134,
   "id": "contrary-immunology",
   "metadata": {},
   "outputs": [
    {
     "data": {
      "text/plain": [
       "(10, 24, 120, 160)"
      ]
     },
     "execution_count": 134,
     "metadata": {},
     "output_type": "execute_result"
    }
   ],
   "source": [
    "X_np.shape"
   ]
  },
  {
   "cell_type": "code",
   "execution_count": 135,
   "id": "bronze-briefs",
   "metadata": {},
   "outputs": [],
   "source": [
    "X_np = X_np.reshape(nb_images_max,24,120,160,1)"
   ]
  },
  {
   "cell_type": "code",
   "execution_count": 136,
   "id": "received-celebrity",
   "metadata": {},
   "outputs": [],
   "source": [
    "model.compile(optimizer='adam',\n",
    "              loss='sparse_categorical_crossentropy',\n",
    "              metrics=['accuracy'])"
   ]
  },
  {
   "cell_type": "code",
   "execution_count": 137,
   "id": "increased-present",
   "metadata": {},
   "outputs": [],
   "source": [
    "#model.train_on_batch(X_np,y_np) #Même erreur que fit"
   ]
  },
  {
   "cell_type": "code",
   "execution_count": 138,
   "id": "alleged-henry",
   "metadata": {},
   "outputs": [],
   "source": [
    "#model.fit(X_np,y_np)"
   ]
  },
  {
   "cell_type": "code",
   "execution_count": 139,
   "id": "failing-aaron",
   "metadata": {},
   "outputs": [
    {
     "data": {
      "text/plain": [
       "(10, 24, 120, 160, 1)"
      ]
     },
     "execution_count": 139,
     "metadata": {},
     "output_type": "execute_result"
    }
   ],
   "source": [
    "X_np.shape"
   ]
  },
  {
   "cell_type": "code",
   "execution_count": 140,
   "id": "minor-conjunction",
   "metadata": {},
   "outputs": [
    {
     "name": "stdout",
     "output_type": "stream",
     "text": [
      "Model: \"sequential_7\"\n",
      "_________________________________________________________________\n",
      "Layer (type)                 Output Shape              Param #   \n",
      "=================================================================\n",
      "conv3d_34 (Conv3D)           (None, 10, 118, 158, 64)  1792      \n",
      "_________________________________________________________________\n",
      "max_pooling3d_18 (MaxPooling (None, 5, 59, 79, 64)     0         \n",
      "_________________________________________________________________\n",
      "conv3d_35 (Conv3D)           (None, 3, 57, 77, 32)     55328     \n",
      "_________________________________________________________________\n",
      "max_pooling3d_19 (MaxPooling (None, 1, 19, 25, 32)     0         \n",
      "_________________________________________________________________\n",
      "flatten_3 (Flatten)          (None, 15200)             0         \n",
      "_________________________________________________________________\n",
      "dense_38 (Dense)             (None, 32)                486432    \n",
      "_________________________________________________________________\n",
      "dense_39 (Dense)             (None, 13)                429       \n",
      "=================================================================\n",
      "Total params: 543,981\n",
      "Trainable params: 543,981\n",
      "Non-trainable params: 0\n",
      "_________________________________________________________________\n"
     ]
    }
   ],
   "source": [
    "nb_classes = 13\n",
    "\n",
    "sample_shape = (12,120, 160, 1)\n",
    "model_stolen = Sequential()\n",
    "model_stolen.add(Conv3D(64, kernel_size=(3, 3, 3), activation='relu', kernel_initializer='he_uniform', input_shape=sample_shape))\n",
    "model_stolen.add(MaxPooling3D(pool_size=(2, 2, 2)))\n",
    "model_stolen.add(Conv3D(32, kernel_size=(3, 3, 3), activation='relu', kernel_initializer='he_uniform'))\n",
    "model_stolen.add(MaxPooling3D(pool_size=(3, 3, 3)))\n",
    "model_stolen.add(layers.Flatten())\n",
    "model_stolen.add(Dense(32, activation='relu', kernel_initializer='he_uniform'))\n",
    "model_stolen.add(Dense(nb_classes, activation='softmax'))\n",
    "\n",
    "model_stolen.summary()"
   ]
  },
  {
   "cell_type": "code",
   "execution_count": 141,
   "id": "better-excerpt",
   "metadata": {},
   "outputs": [
    {
     "data": {
      "text/plain": [
       "(120, 160, 1)"
      ]
     },
     "execution_count": 141,
     "metadata": {},
     "output_type": "execute_result"
    }
   ],
   "source": [
    "X_np[1][1].shape"
   ]
  },
  {
   "cell_type": "code",
   "execution_count": 142,
   "id": "incident-burton",
   "metadata": {},
   "outputs": [],
   "source": [
    "#USELESS\n",
    "def array_to_color(array, cmap=\"Oranges\"):\n",
    "  s_m = plt.cm.ScalarMappable(cmap=cmap)\n",
    "  #return s_m.to_rgba(array)[:,:-1]\n",
    "  return s_m.to_rgba(array)[:,:]\n",
    "\n",
    "def rgb_data_transform(data):\n",
    "  data_t = []\n",
    "  for i in range(data.shape[0]):\n",
    "        data_temp = []\n",
    "        for j in range(data[i].shape[0]):\n",
    "            data_temp.append(array_to_color(data[i][j]).reshape(120, 160, 1))\n",
    "        data_t.append(data_temp)\n",
    "  return np.asarray(data_t, dtype=np.float32)"
   ]
  },
  {
   "cell_type": "code",
   "execution_count": 143,
   "id": "designed-election",
   "metadata": {},
   "outputs": [
    {
     "name": "stdout",
     "output_type": "stream",
     "text": [
      "[[0. 1. 0. 0. 0. 0. 0. 0. 0. 0. 0. 0. 0. 0. 0.]\n",
      " [0. 0. 1. 0. 0. 0. 0. 0. 0. 0. 0. 0. 0. 0. 0.]\n",
      " [0. 0. 0. 1. 0. 0. 0. 0. 0. 0. 0. 0. 0. 0. 0.]\n",
      " [0. 0. 0. 0. 1. 0. 0. 0. 0. 0. 0. 0. 0. 0. 0.]\n",
      " [0. 0. 0. 0. 0. 1. 0. 0. 0. 0. 0. 0. 0. 0. 0.]\n",
      " [0. 0. 0. 0. 0. 0. 1. 0. 0. 0. 0. 0. 0. 0. 0.]\n",
      " [0. 0. 0. 0. 0. 0. 0. 1. 0. 0. 0. 0. 0. 0. 0.]\n",
      " [0. 0. 0. 0. 0. 0. 0. 0. 1. 0. 0. 0. 0. 0. 0.]\n",
      " [0. 0. 0. 0. 0. 0. 0. 0. 0. 1. 0. 0. 0. 0. 0.]\n",
      " [0. 0. 0. 0. 0. 0. 0. 0. 0. 0. 1. 0. 0. 0. 0.]]\n"
     ]
    }
   ],
   "source": [
    "from tensorflow.keras.utils import to_categorical\n",
    "y_np_categorical = to_categorical(y_np,num_classes = 15)\n",
    "print(y_np_categorical)\n",
    "#-> Losses de compil =  tf.keras.losses.categorical_crossentropy,\n",
    "#En cours on utilisait -> 'sparse_categorical_crossentropy',"
   ]
  },
  {
   "cell_type": "code",
   "execution_count": 144,
   "id": "weighted-norwegian",
   "metadata": {},
   "outputs": [
    {
     "name": "stdout",
     "output_type": "stream",
     "text": [
      "(10, 24, 120, 160, 1)\n",
      "(10,)\n"
     ]
    }
   ],
   "source": [
    "print(X_np.shape)\n",
    "print(y_np.shape)"
   ]
  },
  {
   "cell_type": "code",
   "execution_count": 145,
   "id": "solved-royalty",
   "metadata": {},
   "outputs": [
    {
     "name": "stdout",
     "output_type": "stream",
     "text": [
      "Before normalization : Min=-24.061640625000003, max=269.6715481822709\n",
      "After normalization  : Min=-0.08922572954836433, max=1.0\n"
     ]
    }
   ],
   "source": [
    "print('Before normalization : Min={}, max={}'.format(X_np.min(),X_np.max()))\n",
    "\n",
    "xmax=X_np.max()\n",
    "X_np = X_np / xmax\n",
    "\n",
    "print('After normalization  : Min={}, max={}'.format(X_np.min(),X_np.max()))"
   ]
  },
  {
   "cell_type": "code",
   "execution_count": null,
   "id": "informational-nation",
   "metadata": {},
   "outputs": [],
   "source": []
  },
  {
   "cell_type": "code",
   "execution_count": 146,
   "id": "accepting-advancement",
   "metadata": {},
   "outputs": [],
   "source": [
    "learning_rate = 0.01\n",
    "# Compile the model\n",
    "model_stolen.compile(loss = tf.keras.losses.categorical_crossentropy,\n",
    "              optimizer=tf.keras.optimizers.Adam(lr=learning_rate),\n",
    "              metrics=['accuracy'])\n",
    "#Attention que ça supprime le fit si on l'a déjà fait"
   ]
  },
  {
   "cell_type": "raw",
   "id": "outstanding-lobby",
   "metadata": {},
   "source": [
    "#Raw -> Ne compile pas\n",
    "# Fit data to model\n",
    "history = model_stolen.fit(X_np, y_np_categorical,\n",
    "            batch_size=1,\n",
    "            epochs=1,\n",
    "            verbose=1,\n",
    "            validation_split=0.2)"
   ]
  },
  {
   "cell_type": "code",
   "execution_count": 147,
   "id": "applicable-healthcare",
   "metadata": {},
   "outputs": [],
   "source": [
    "#model_stolen.train_on_batch(X_np,y_np_categorical)"
   ]
  },
  {
   "cell_type": "code",
   "execution_count": 148,
   "id": "usual-bosnia",
   "metadata": {},
   "outputs": [],
   "source": [
    "#model_stolen.predict(X_np[1:2]) #Je ne peux pas prédire sur un seul élément, il faut une dimension supplémentaire. Il y a différente solution. En voilà une\n",
    "#Je constate que mon modele n'est pas bien entrainé parce qu'il ne reconnait même pas les images sur lequel il s'est entrainé"
   ]
  },
  {
   "cell_type": "code",
   "execution_count": null,
   "id": "affected-feature",
   "metadata": {},
   "outputs": [],
   "source": []
  },
  {
   "cell_type": "markdown",
   "id": "middle-spare",
   "metadata": {},
   "source": [
    "## Train par batch"
   ]
  },
  {
   "cell_type": "code",
   "execution_count": 149,
   "id": "southwest-swift",
   "metadata": {},
   "outputs": [
    {
     "name": "stdout",
     "output_type": "stream",
     "text": [
      "Traitement de la video n° DATA\\Videos\\video_21.avi       \n",
      "le pointeur vaut  2\n",
      "vidéos chargées, shape: (2, 12, 120, 160, 1) . y len :  2\n",
      "Traitement de la video n° DATA\\Videos\\video_23.avi       \n",
      "le pointeur vaut  4\n",
      "vidéos chargées, shape: (2, 12, 120, 160, 1) . y len :  2\n",
      "Traitement de la video n° DATA\\Videos\\video_25.avi       \n",
      "le pointeur vaut  6\n",
      "vidéos chargées, shape: (2, 12, 120, 160, 1) . y len :  2\n",
      "Traitement de la video n° DATA\\Videos\\video_27.avi       \n",
      "le pointeur vaut  8\n",
      "vidéos chargées, shape: (2, 12, 120, 160, 1) . y len :  2\n",
      "Traitement de la video n° DATA\\Videos\\video_29.avi       \n",
      "le pointeur vaut  10\n",
      "vidéos chargées, shape: (2, 12, 120, 160, 1) . y len :  2\n",
      "Traitement de la video n° DATA\\Videos\\video_31.avi       \n",
      "le pointeur vaut  12\n",
      "vidéos chargées, shape: (2, 12, 120, 160, 1) . y len :  2\n",
      "Traitement de la video n° DATA\\Videos\\video_34.avi       \n",
      "le pointeur vaut  14\n",
      "vidéos chargées, shape: (2, 12, 120, 160, 1) . y len :  2\n",
      "Traitement de la video n° DATA\\Videos\\video_36.avi       \n",
      "le pointeur vaut  16\n",
      "vidéos chargées, shape: (2, 12, 120, 160, 1) . y len :  2\n",
      "Traitement de la video n° DATA\\Videos\\video_38.avi       \n",
      "le pointeur vaut  18\n",
      "vidéos chargées, shape: (2, 12, 120, 160, 1) . y len :  2\n",
      "Traitement de la video n° DATA\\Videos\\video_40.avi       \n",
      "le pointeur vaut  20\n",
      "vidéos chargées, shape: (2, 12, 120, 160, 1) . y len :  2\n",
      "Traitement de la video n° DATA\\Videos\\video_42.avi       \n",
      "le pointeur vaut  22\n",
      "vidéos chargées, shape: (2, 12, 120, 160, 1) . y len :  2\n",
      "Traitement de la video n° DATA\\Videos\\video_44.avi       \n",
      "le pointeur vaut  24\n",
      "vidéos chargées, shape: (2, 12, 120, 160, 1) . y len :  2\n",
      "Traitement de la video n° DATA\\Videos\\video_46.avi       \n",
      "le pointeur vaut  26\n",
      "vidéos chargées, shape: (2, 12, 120, 160, 1) . y len :  2\n",
      "Traitement de la video n° DATA\\Videos\\video_48.avi       \n",
      "le pointeur vaut  28\n",
      "vidéos chargées, shape: (2, 12, 120, 160, 1) . y len :  2\n",
      "Traitement de la video n° DATA\\Videos\\video_50.avi       \n",
      "le pointeur vaut  30\n",
      "vidéos chargées, shape: (2, 12, 120, 160, 1) . y len :  2\n",
      "Traitement de la video n° DATA\\Videos\\video_52.avi       \n",
      "le pointeur vaut  32\n",
      "vidéos chargées, shape: (2, 12, 120, 160, 1) . y len :  2\n",
      "Traitement de la video n° DATA\\Videos\\video_54.avi       \r"
     ]
    },
    {
     "ename": "ValueError",
     "evalue": "setting an array element with a sequence.",
     "output_type": "error",
     "traceback": [
      "\u001b[1;31m---------------------------------------------------------------------------\u001b[0m",
      "\u001b[1;31mTypeError\u001b[0m                                 Traceback (most recent call last)",
      "\u001b[1;31mTypeError\u001b[0m: float() argument must be a string or a number, not 'list'",
      "\nThe above exception was the direct cause of the following exception:\n",
      "\u001b[1;31mValueError\u001b[0m                                Traceback (most recent call last)",
      "\u001b[1;32m<ipython-input-149-edf0a48ec74c>\u001b[0m in \u001b[0;36m<module>\u001b[1;34m\u001b[0m\n\u001b[0;32m      9\u001b[0m \u001b[1;33m\u001b[0m\u001b[0m\n\u001b[0;32m     10\u001b[0m \u001b[1;32mwhile\u001b[0m \u001b[0mcan_continue\u001b[0m\u001b[1;33m:\u001b[0m\u001b[1;33m\u001b[0m\u001b[1;33m\u001b[0m\u001b[0m\n\u001b[1;32m---> 11\u001b[1;33m     \u001b[0mX1_not_expand\u001b[0m\u001b[1;33m,\u001b[0m \u001b[0my_num1\u001b[0m\u001b[1;33m,\u001b[0m \u001b[0mpointer\u001b[0m \u001b[1;33m=\u001b[0m \u001b[0mmy_gen\u001b[0m\u001b[1;33m(\u001b[0m\u001b[0mlabels_val\u001b[0m\u001b[1;33m,\u001b[0m \u001b[1;34m\"DATA\\\\Videos\"\u001b[0m\u001b[1;33m,\u001b[0m\u001b[0mbatch_size\u001b[0m \u001b[1;33m=\u001b[0m \u001b[0mbatch_size\u001b[0m\u001b[1;33m,\u001b[0m\u001b[0mfps\u001b[0m \u001b[1;33m=\u001b[0m \u001b[0mfps\u001b[0m\u001b[1;33m,\u001b[0m \u001b[0msize\u001b[0m \u001b[1;33m=\u001b[0m \u001b[0msize\u001b[0m\u001b[1;33m,\u001b[0m \u001b[0mpointer\u001b[0m \u001b[1;33m=\u001b[0m \u001b[0mpointer\u001b[0m\u001b[1;33m)\u001b[0m\u001b[1;33m\u001b[0m\u001b[1;33m\u001b[0m\u001b[0m\n\u001b[0m\u001b[0;32m     12\u001b[0m \u001b[1;33m\u001b[0m\u001b[0m\n\u001b[0;32m     13\u001b[0m     \u001b[1;32mif\u001b[0m \u001b[0mpointer\u001b[0m \u001b[1;33m>=\u001b[0m \u001b[0mlen\u001b[0m\u001b[1;33m(\u001b[0m\u001b[0mlabels_val\u001b[0m\u001b[1;33m)\u001b[0m\u001b[1;33m:\u001b[0m\u001b[1;33m\u001b[0m\u001b[1;33m\u001b[0m\u001b[0m\n",
      "\u001b[1;32m<ipython-input-121-6b777153462c>\u001b[0m in \u001b[0;36mmy_gen\u001b[1;34m(labels_list, folder_path, batch_size, pointer, fps, size)\u001b[0m\n\u001b[0;32m     29\u001b[0m \u001b[1;33m\u001b[0m\u001b[0m\n\u001b[0;32m     30\u001b[0m         \u001b[0mX\u001b[0m\u001b[1;33m.\u001b[0m\u001b[0mappend\u001b[0m\u001b[1;33m(\u001b[0m\u001b[0mresized_imgs\u001b[0m\u001b[1;33m)\u001b[0m\u001b[1;33m\u001b[0m\u001b[1;33m\u001b[0m\u001b[0m\n\u001b[1;32m---> 31\u001b[1;33m     \u001b[0mX\u001b[0m \u001b[1;33m=\u001b[0m \u001b[0mnp\u001b[0m\u001b[1;33m.\u001b[0m\u001b[0marray\u001b[0m\u001b[1;33m(\u001b[0m\u001b[0mX\u001b[0m\u001b[1;33m,\u001b[0m\u001b[0mdtype\u001b[0m\u001b[1;33m=\u001b[0m  \u001b[1;34m'float32'\u001b[0m\u001b[1;33m)\u001b[0m \u001b[1;31m#Si je met dtype = object, je ne peux plus afficher mon image\u001b[0m\u001b[1;33m\u001b[0m\u001b[1;33m\u001b[0m\u001b[0m\n\u001b[0m\u001b[0;32m     32\u001b[0m \u001b[1;33m\u001b[0m\u001b[0m\n\u001b[0;32m     33\u001b[0m     \u001b[1;31m#ça fait des erreurs quand mon array est de dtype object, dans ce cas ce n'est plus une liste mais il y a 'array' dedans. C'est un problème.\u001b[0m\u001b[1;33m\u001b[0m\u001b[1;33m\u001b[0m\u001b[1;33m\u001b[0m\u001b[0m\n",
      "\u001b[1;31mValueError\u001b[0m: setting an array element with a sequence."
     ]
    }
   ],
   "source": [
    "#Il vaut mieux recompiler le modele avant d'exécuter ce code\n",
    "\n",
    "#Parametres \n",
    "batch_size = 2\n",
    "fps = 5 #Pour une shape de 12 (à définir avant de faire le modele)\n",
    "size = (160,120)\n",
    "pointer = 0\n",
    "can_continue = True\n",
    "\n",
    "while can_continue:\n",
    "    X1_not_expand, y_num1, pointer = my_gen(labels_val, \"DATA\\\\Videos\",batch_size = batch_size,fps = fps, size = size, pointer = pointer)\n",
    "    \n",
    "    if pointer >= len(labels_val):\n",
    "        can_continue = False\n",
    "    print()\n",
    "    print('le pointeur vaut ',pointer)\n",
    "   \n",
    "    X1 = np.expand_dims(X1_not_expand, axis=len(X1_not_expand.shape)) #Ajoute une dimension\n",
    "    y_num1_categorical = to_categorical(y_num1, num_classes = nb_classes)\n",
    "    \n",
    "    print('vidéos chargées, shape:',X1.shape,'. y len : ',len(y_num1_categorical))\n",
    "    #print('fit is busy')\n",
    "    #print('type de x: ',type(X1),' . Type de y: ',type(y_num1_categorical))\n",
    "    '''\n",
    "    model_stolen.fit(X1, y_num1_categorical,\n",
    "                batch_size = 5,\n",
    "                epochs=2,\n",
    "                verbose=1,\n",
    "                validation_split=0.2)\n",
    "    '''\n",
    "    #osef du warning\n"
   ]
  },
  {
   "cell_type": "code",
   "execution_count": null,
   "id": "tutorial-bathroom",
   "metadata": {},
   "outputs": [],
   "source": [
    "\n",
    "#import fidle.pwk as pwk\n",
    "#pwk.plot_history(history, figsize=(6,4))"
   ]
  },
  {
   "cell_type": "markdown",
   "id": "republican-convergence",
   "metadata": {},
   "source": [
    "## Model Training"
   ]
  },
  {
   "cell_type": "code",
   "execution_count": null,
   "id": "supported-traffic",
   "metadata": {},
   "outputs": [],
   "source": []
  },
  {
   "cell_type": "code",
   "execution_count": null,
   "id": "initial-strap",
   "metadata": {},
   "outputs": [],
   "source": []
  },
  {
   "cell_type": "code",
   "execution_count": null,
   "id": "amateur-instruction",
   "metadata": {},
   "outputs": [],
   "source": []
  },
  {
   "cell_type": "markdown",
   "id": "removable-belarus",
   "metadata": {},
   "source": [
    "## Modele test \n",
    "\n"
   ]
  },
  {
   "cell_type": "code",
   "execution_count": null,
   "id": "ethical-rolling",
   "metadata": {},
   "outputs": [],
   "source": []
  },
  {
   "cell_type": "code",
   "execution_count": null,
   "id": "automotive-geology",
   "metadata": {},
   "outputs": [],
   "source": []
  },
  {
   "cell_type": "code",
   "execution_count": null,
   "id": "metropolitan-turtle",
   "metadata": {},
   "outputs": [],
   "source": []
  },
  {
   "cell_type": "code",
   "execution_count": null,
   "id": "healthy-blank",
   "metadata": {},
   "outputs": [],
   "source": []
  },
  {
   "cell_type": "code",
   "execution_count": null,
   "id": "dominant-curve",
   "metadata": {},
   "outputs": [],
   "source": []
  },
  {
   "cell_type": "code",
   "execution_count": null,
   "id": "unlike-shannon",
   "metadata": {},
   "outputs": [],
   "source": []
  },
  {
   "cell_type": "code",
   "execution_count": null,
   "id": "broad-logan",
   "metadata": {},
   "outputs": [],
   "source": []
  },
  {
   "cell_type": "code",
   "execution_count": null,
   "id": "naughty-example",
   "metadata": {},
   "outputs": [],
   "source": []
  },
  {
   "cell_type": "code",
   "execution_count": null,
   "id": "presidential-greeting",
   "metadata": {},
   "outputs": [],
   "source": []
  },
  {
   "cell_type": "code",
   "execution_count": null,
   "id": "contemporary-montana",
   "metadata": {},
   "outputs": [],
   "source": []
  }
 ],
 "metadata": {
  "kernelspec": {
   "display_name": "Python 3",
   "language": "python",
   "name": "python3"
  },
  "language_info": {
   "codemirror_mode": {
    "name": "ipython",
    "version": 3
   },
   "file_extension": ".py",
   "mimetype": "text/x-python",
   "name": "python",
   "nbconvert_exporter": "python",
   "pygments_lexer": "ipython3",
   "version": "3.8.8"
  }
 },
 "nbformat": 4,
 "nbformat_minor": 5
}
