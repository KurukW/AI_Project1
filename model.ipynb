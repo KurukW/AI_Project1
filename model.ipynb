{
 "cells": [
  {
   "cell_type": "markdown",
   "id": "arranged-conspiracy",
   "metadata": {},
   "source": [
    "# Modèle de réseau neuronale"
   ]
  },
  {
   "cell_type": "markdown",
   "id": "rural-neutral",
   "metadata": {},
   "source": [
    "C'est plus simple de faire le modèle sur le notebook pour pouvoir analyser chaque étape avec précision"
   ]
  }
 ],
 "metadata": {
  "kernelspec": {
   "display_name": "Python 3",
   "language": "python",
   "name": "python3"
  },
  "language_info": {
   "codemirror_mode": {
    "name": "ipython",
    "version": 3
   },
   "file_extension": ".py",
   "mimetype": "text/x-python",
   "name": "python",
   "nbconvert_exporter": "python",
   "pygments_lexer": "ipython3",
   "version": "3.8.8"
  }
 },
 "nbformat": 4,
 "nbformat_minor": 5
}
