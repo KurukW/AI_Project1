{
 "cells": [
  {
   "cell_type": "markdown",
   "id": "compatible-hanging",
   "metadata": {},
   "source": [
    "# Modèle de réseau neuronale"
   ]
  },
  {
   "cell_type": "markdown",
   "id": "concerned-phase",
   "metadata": {},
   "source": [
    "C'est plus simple de faire le modèle sur le notebook pour pouvoir analyser chaque étape avec précision"
   ]
  },
  {
   "cell_type": "code",
   "execution_count": 1,
   "id": "operating-growth",
   "metadata": {},
   "outputs": [],
   "source": [
    "#Imports"
   ]
  },
  {
   "cell_type": "code",
   "execution_count": 2,
   "id": "general-encyclopedia",
   "metadata": {},
   "outputs": [],
   "source": [
    "import tensorflow as tf\n",
    "from tensorflow import keras\n",
    "from tensorflow.keras import layers\n",
    "import matplotlib.pyplot as plt\n",
    "import cv2\n",
    "import numpy as np\n",
    "import seaborn as sns #On ne sait jamais que ça serve\n",
    "import pandas as pd #Même argument"
   ]
  },
  {
   "cell_type": "code",
   "execution_count": 3,
   "id": "occupational-remove",
   "metadata": {},
   "outputs": [],
   "source": [
    "#from alexnet_pytorch import AlexNet # ça fait planter matplotlib\n",
    "#A_model = AlexNet.from_pretrained('alexnet', num_classes=10)"
   ]
  },
  {
   "cell_type": "code",
   "execution_count": 4,
   "id": "recovered-malta",
   "metadata": {},
   "outputs": [],
   "source": [
    "#Insert des données"
   ]
  },
  {
   "cell_type": "code",
   "execution_count": 5,
   "id": "false-leadership",
   "metadata": {},
   "outputs": [],
   "source": [
    "#Idéalement, il faudrait ajouter les données batch par batch pour ne pas trop faire souffrir la ram"
   ]
  },
  {
   "cell_type": "code",
   "execution_count": 6,
   "id": "together-opposition",
   "metadata": {},
   "outputs": [],
   "source": [
    "labels_csv = pd.read_csv('DATA\\\\labels.csv')"
   ]
  },
  {
   "cell_type": "code",
   "execution_count": 9,
   "id": "attached-porter",
   "metadata": {},
   "outputs": [],
   "source": [
    "for line in labels_csv.values:\n",
    "    label = line[0]\n",
    "    name = line[1]\n",
    "    #print(f\"Le label est '{label}' et le nom de la vidéo : '{name}'\")"
   ]
  },
  {
   "cell_type": "code",
   "execution_count": 10,
   "id": "enclosed-millennium",
   "metadata": {},
   "outputs": [],
   "source": [
    "X_link = []\n",
    "y = []\n",
    "for label,name in labels_csv.values:\n",
    "    X_link.append(name)\n",
    "    y.append(label)"
   ]
  },
  {
   "cell_type": "code",
   "execution_count": null,
   "id": "searching-reform",
   "metadata": {},
   "outputs": [],
   "source": []
  },
  {
   "cell_type": "code",
   "execution_count": 11,
   "id": "expanded-consultation",
   "metadata": {},
   "outputs": [],
   "source": [
    "#a_vid.get(cv2.CAP_PROP_POS_MSEC) #donne la position dans la vidéo en ms, on est à 25 fps donc chaque image est espacée de 40ms\n"
   ]
  },
  {
   "cell_type": "code",
   "execution_count": null,
   "id": "devoted-helmet",
   "metadata": {},
   "outputs": [],
   "source": []
  },
  {
   "cell_type": "code",
   "execution_count": null,
   "id": "alone-louisville",
   "metadata": {},
   "outputs": [],
   "source": []
  },
  {
   "cell_type": "markdown",
   "id": "durable-istanbul",
   "metadata": {},
   "source": [
    "### function: insert imgs/videos"
   ]
  },
  {
   "cell_type": "code",
   "execution_count": 12,
   "id": "raising-puzzle",
   "metadata": {},
   "outputs": [],
   "source": [
    "def get_imgs_from_path(path,fps = -1):\n",
    "    '''\n",
    "    Retourne une liste d'images. La liste d'image a le nombre de fps voulu\n",
    "    '''\n",
    "    cap = cv2.VideoCapture(path)\n",
    "    fps_actu = cap.get(cv2.CAP_PROP_FPS)\n",
    "    if fps <= -1: fps = fps_actu #Je peux ne pas donner de fps et ça va prendre le nombre d'fps initial\n",
    "    ecart_voulu = int(1000/fps)\n",
    "    ecart_initial = int(1000/fps_actu)\n",
    "    imgs = []\n",
    "    \n",
    "    \n",
    "    while(cap.isOpened()):\n",
    "        ret, frame = cap.read()\n",
    "\n",
    "        if ret: #Sinon ça plante quand il n'y a plus d'images\n",
    "            \n",
    "            #Bonne couleur\n",
    "            frame_RGB = cv2.cvtColor(frame, cv2.COLOR_BGR2RGB)\n",
    "\n",
    "            \n",
    "            #Récupère seulement certaines images\n",
    "            t_ms = cap.get(cv2.CAP_PROP_POS_MSEC)\n",
    "            modulo = t_ms % ecart_voulu\n",
    "            if modulo < ecart_initial:\n",
    "                #Isoler les images\n",
    "                imgs.append(frame_RGB)\n",
    "            \n",
    "        else: #Va jusqu'au bout de la vidéo\n",
    "            break\n",
    "    else:\n",
    "        print(\"Le fichier n'a pas pu être ouvert\")\n",
    "    cap.release()\n",
    "    \n",
    "    return imgs"
   ]
  },
  {
   "cell_type": "code",
   "execution_count": null,
   "id": "regional-collective",
   "metadata": {},
   "outputs": [],
   "source": []
  },
  {
   "cell_type": "code",
   "execution_count": null,
   "id": "digital-smart",
   "metadata": {},
   "outputs": [],
   "source": []
  },
  {
   "cell_type": "markdown",
   "id": "fourth-powell",
   "metadata": {},
   "source": [
    "### function: resize"
   ]
  },
  {
   "cell_type": "code",
   "execution_count": 13,
   "id": "electronic-sydney",
   "metadata": {},
   "outputs": [],
   "source": [
    "def resize_imgs(imgs,nsize):\n",
    "    '''\n",
    "    Change la taille de l'image.\n",
    "    Le premier élément de nsize est la longueur (width), le deuxième la hauteur (height)\n",
    "    '''\n",
    "   # new_imgs = []\n",
    "  #  for img in imgs:\n",
    " #       new_imgs.append(cv2.resize(img, dsize=nsize, interpolation=cv2.INTER_CUBIC))\n",
    "#    return new_imgs\n",
    "    return [cv2.resize(img, dsize=nsize, interpolation=cv2.INTER_CUBIC) for img in imgs]"
   ]
  },
  {
   "cell_type": "code",
   "execution_count": 14,
   "id": "steady-patrick",
   "metadata": {},
   "outputs": [],
   "source": [
    "#plt.imshow(imgs[2])"
   ]
  },
  {
   "cell_type": "code",
   "execution_count": 15,
   "id": "super-specialist",
   "metadata": {},
   "outputs": [],
   "source": [
    "def reduce_fps(imgs,ratio = 6):\n",
    "    '''\n",
    "    imgs est une liste d'images\n",
    "    1/ratio est le nombre d'images qu'on garde\n",
    "    '''\n",
    "    new_imgs = []\n",
    "    for i,img in enumerate(imgs):\n",
    "        if i % ratio == 0:\n",
    "            new_imgs.append(img)\n",
    "    return new_imgs    "
   ]
  },
  {
   "cell_type": "code",
   "execution_count": null,
   "id": "alleged-spray",
   "metadata": {},
   "outputs": [],
   "source": []
  },
  {
   "cell_type": "code",
   "execution_count": null,
   "id": "talented-paint",
   "metadata": {},
   "outputs": [],
   "source": []
  },
  {
   "cell_type": "code",
   "execution_count": null,
   "id": "invalid-attitude",
   "metadata": {},
   "outputs": [],
   "source": []
  },
  {
   "cell_type": "code",
   "execution_count": null,
   "id": "noted-intelligence",
   "metadata": {},
   "outputs": [],
   "source": []
  },
  {
   "cell_type": "code",
   "execution_count": null,
   "id": "pressing-tolerance",
   "metadata": {},
   "outputs": [],
   "source": []
  },
  {
   "cell_type": "code",
   "execution_count": null,
   "id": "proof-coordination",
   "metadata": {},
   "outputs": [],
   "source": []
  },
  {
   "cell_type": "code",
   "execution_count": null,
   "id": "residential-sight",
   "metadata": {},
   "outputs": [],
   "source": []
  },
  {
   "cell_type": "code",
   "execution_count": null,
   "id": "weekly-binding",
   "metadata": {},
   "outputs": [],
   "source": []
  },
  {
   "cell_type": "code",
   "execution_count": null,
   "id": "neural-assembly",
   "metadata": {},
   "outputs": [],
   "source": []
  },
  {
   "cell_type": "code",
   "execution_count": null,
   "id": "assisted-monaco",
   "metadata": {},
   "outputs": [],
   "source": []
  },
  {
   "cell_type": "code",
   "execution_count": null,
   "id": "amended-sharp",
   "metadata": {},
   "outputs": [],
   "source": []
  },
  {
   "cell_type": "code",
   "execution_count": null,
   "id": "smaller-breed",
   "metadata": {},
   "outputs": [],
   "source": [
    "\n"
   ]
  },
  {
   "cell_type": "markdown",
   "id": "liable-library",
   "metadata": {},
   "source": [
    "## Real Insert"
   ]
  },
  {
   "cell_type": "code",
   "execution_count": 16,
   "id": "joined-virus",
   "metadata": {},
   "outputs": [],
   "source": [
    "#Récupère toutes les vidéos, prend slmt z fps et les resize\n",
    "folder_path = 'Data\\\\Videos\\\\'\n",
    "fps = 5\n",
    "size = (320,240) # La shape initial est (480, 640, 3), Il faut inverser le sens de with et height.\n",
    "#Size demi par rapport à initial\n",
    "\n",
    "\n",
    "X = []\n",
    "for name in X_link:\n",
    "    file_path = folder_path + name\n",
    "    imgs_of_video = get_imgs_from_path(file_path,fps)\n",
    "    resized_imgs = resize_imgs(imgs_of_video, size)\n",
    "    X.append(resized_imgs)"
   ]
  },
  {
   "cell_type": "code",
   "execution_count": 17,
   "id": "stuck-stationery",
   "metadata": {},
   "outputs": [
    {
     "name": "stdout",
     "output_type": "stream",
     "text": [
      "Il y a 20 vidéos et 20 labels\n",
      "(240, 320, 3)\n"
     ]
    }
   ],
   "source": [
    "print(f\"Il y a {len(X)} vidéos et {len(y)} labels\") #Petite vérification\n",
    "print(X[0][0].shape)"
   ]
  },
  {
   "cell_type": "code",
   "execution_count": 18,
   "id": "arabic-buyer",
   "metadata": {},
   "outputs": [
    {
     "data": {
      "text/plain": [
       "[11, 12, 12, 12, 10, 7, 10, 8, 8, 10, 10, 10, 12, 12, 11, 10, 9, 10, 10, 10]"
      ]
     },
     "execution_count": 18,
     "metadata": {},
     "output_type": "execute_result"
    }
   ],
   "source": [
    "[len(vid) for vid in X] # Toutes les vidéos n'ont pas le même nombre de frame"
   ]
  },
  {
   "cell_type": "code",
   "execution_count": null,
   "id": "configured-distinction",
   "metadata": {},
   "outputs": [],
   "source": []
  },
  {
   "cell_type": "markdown",
   "id": "impaired-output",
   "metadata": {},
   "source": [
    "C'est ok pour l'import des vidéos et le traitement de celles-ci\n",
    "On prend un certain nombre de FPS, leur taille est réduite et elles sont mises dans une grande liste \n",
    "dont l'index correspond à l'index du label dans y"
   ]
  },
  {
   "cell_type": "code",
   "execution_count": null,
   "id": "sonic-harassment",
   "metadata": {},
   "outputs": [],
   "source": []
  },
  {
   "cell_type": "code",
   "execution_count": null,
   "id": "previous-technology",
   "metadata": {},
   "outputs": [],
   "source": []
  }
 ],
 "metadata": {
  "kernelspec": {
   "display_name": "Python 3",
   "language": "python",
   "name": "python3"
  },
  "language_info": {
   "codemirror_mode": {
    "name": "ipython",
    "version": 3
   },
   "file_extension": ".py",
   "mimetype": "text/x-python",
   "name": "python",
   "nbconvert_exporter": "python",
   "pygments_lexer": "ipython3",
   "version": "3.8.8"
  }
 },
 "nbformat": 4,
 "nbformat_minor": 5
}
